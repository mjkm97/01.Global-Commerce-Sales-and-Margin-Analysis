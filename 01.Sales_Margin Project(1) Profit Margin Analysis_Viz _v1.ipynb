{
 "cells": [
  {
   "cell_type": "markdown",
   "id": "c83c4a82-a2e3-4d29-9e7e-f2dc13244cde",
   "metadata": {},
   "source": [
    "# 1. 데이터 정제: 데이터 기초통계 확인 및 결측치 제거"
   ]
  },
  {
   "cell_type": "code",
   "execution_count": 147,
   "id": "16922e0b-40cf-4cd4-9afe-e56fd0f8e98b",
   "metadata": {},
   "outputs": [],
   "source": [
    "import pandas as pd\n",
    "import warnings\n",
    "warnings.filterwarnings('ignore')"
   ]
  },
  {
   "cell_type": "code",
   "execution_count": 149,
   "id": "209f569c-6ee1-41f8-a5c6-db64db882eff",
   "metadata": {},
   "outputs": [
    {
     "data": {
      "text/plain": [
       "Index(['Category', 'City', 'Country', 'Customer.ID', 'Customer.Name',\n",
       "       'Discount', 'Market', 'Order.Date', 'Order.ID', 'Order.Priority',\n",
       "       'Product.ID', 'Product.Name', 'Profit', 'Quantity', 'Region', 'Row.ID',\n",
       "       'Sales', 'Segment', 'Ship.Date', 'Ship.Mode', 'Shipping.Cost', 'State',\n",
       "       'Sub.Category', 'Year', 'Market2', 'weeknum'],\n",
       "      dtype='object')"
      ]
     },
     "execution_count": 149,
     "metadata": {},
     "output_type": "execute_result"
    }
   ],
   "source": [
    "df = pd.read_csv('superstore.csv')\n",
    "df\n",
    "#결측치 제거 및 칼럼 확인 \n",
    "df.drop(columns = ['记录数'], inplace=True)\n",
    "df.columns"
   ]
  },
  {
   "cell_type": "code",
   "execution_count": 151,
   "id": "2bf6dbda-b95b-4370-8d61-ff5a197b6867",
   "metadata": {},
   "outputs": [
    {
     "name": "stdout",
     "output_type": "stream",
     "text": [
      "      Order.Date  Ship.Date Shipping.Duration\n",
      "0     2011-01-07 2011-01-09            2 days\n",
      "1     2011-01-21 2011-01-26            5 days\n",
      "2     2011-08-05 2011-08-09            4 days\n",
      "3     2011-08-05 2011-08-09            4 days\n",
      "4     2011-09-29 2011-10-03            4 days\n",
      "...          ...        ...               ...\n",
      "51285 2014-12-03 2014-12-04            1 days\n",
      "51286 2014-12-03 2014-12-04            1 days\n",
      "51287 2014-12-18 2014-12-21            3 days\n",
      "51288 2014-12-25 2014-12-26            1 days\n",
      "51289 2014-12-26 2014-12-30            4 days\n",
      "\n",
      "[51290 rows x 3 columns]\n",
      "<class 'pandas._libs.tslibs.timedeltas.Timedelta'>\n",
      "      Shipping.Duration  Shipping.Duration.Days\n",
      "0                2 days                       2\n",
      "1                5 days                       5\n",
      "2                4 days                       4\n",
      "3                4 days                       4\n",
      "4                4 days                       4\n",
      "...                 ...                     ...\n",
      "51285            1 days                       1\n",
      "51286            1 days                       1\n",
      "51287            3 days                       3\n",
      "51288            1 days                       1\n",
      "51289            4 days                       4\n",
      "\n",
      "[51290 rows x 2 columns]\n"
     ]
    }
   ],
   "source": [
    "import pandas as pd\n",
    "\n",
    "# 주문 날짜와 배송 날짜(문자열)을 datetime으로 변환하여 배송소요시간 칼럼 추가\n",
    "df['Order.Date'] = pd.to_datetime(df['Order.Date'])\n",
    "df['Ship.Date'] = pd.to_datetime(df['Ship.Date'])\n",
    "\n",
    "# 시간 차이 계산\n",
    "df['Shipping.Duration'] = df['Ship.Date'] - df['Order.Date']\n",
    "\n",
    "print(df[['Order.Date', 'Ship.Date', 'Shipping.Duration']])\n",
    "print(type(df['Shipping.Duration'][0]))  # <class 'pandas._libs.tslibs.timedeltas.Timedelta'>\n",
    "\n",
    "df['Shipping.Duration.Days'] = df['Shipping.Duration'].dt.days\n",
    "print(df[['Shipping.Duration', 'Shipping.Duration.Days']])"
   ]
  },
  {
   "cell_type": "code",
   "execution_count": 153,
   "id": "6239484a-c47c-4e77-b346-aeba52ad91b1",
   "metadata": {},
   "outputs": [
    {
     "data": {
      "text/html": [
       "<div>\n",
       "<style scoped>\n",
       "    .dataframe tbody tr th:only-of-type {\n",
       "        vertical-align: middle;\n",
       "    }\n",
       "\n",
       "    .dataframe tbody tr th {\n",
       "        vertical-align: top;\n",
       "    }\n",
       "\n",
       "    .dataframe thead th {\n",
       "        text-align: right;\n",
       "    }\n",
       "</style>\n",
       "<table border=\"1\" class=\"dataframe\">\n",
       "  <thead>\n",
       "    <tr style=\"text-align: right;\">\n",
       "      <th></th>\n",
       "      <th>Category</th>\n",
       "      <th>City</th>\n",
       "      <th>Country</th>\n",
       "      <th>Customer.ID</th>\n",
       "      <th>Customer.Name</th>\n",
       "      <th>Discount</th>\n",
       "      <th>Market</th>\n",
       "      <th>Order.Date</th>\n",
       "      <th>Order.ID</th>\n",
       "      <th>Order.Priority</th>\n",
       "      <th>...</th>\n",
       "      <th>Ship.Date</th>\n",
       "      <th>Ship.Mode</th>\n",
       "      <th>Shipping.Cost</th>\n",
       "      <th>State</th>\n",
       "      <th>Sub.Category</th>\n",
       "      <th>Year</th>\n",
       "      <th>Market2</th>\n",
       "      <th>weeknum</th>\n",
       "      <th>Shipping.Duration</th>\n",
       "      <th>Shipping.Duration.Days</th>\n",
       "    </tr>\n",
       "  </thead>\n",
       "  <tbody>\n",
       "    <tr>\n",
       "      <th>0</th>\n",
       "      <td>Office Supplies</td>\n",
       "      <td>Los Angeles</td>\n",
       "      <td>United States</td>\n",
       "      <td>LS-172304</td>\n",
       "      <td>Lycoris Saunders</td>\n",
       "      <td>0.0</td>\n",
       "      <td>US</td>\n",
       "      <td>2011-01-07</td>\n",
       "      <td>CA-2011-130813</td>\n",
       "      <td>High</td>\n",
       "      <td>...</td>\n",
       "      <td>2011-01-09</td>\n",
       "      <td>Second Class</td>\n",
       "      <td>4.37</td>\n",
       "      <td>California</td>\n",
       "      <td>Paper</td>\n",
       "      <td>2011</td>\n",
       "      <td>North America</td>\n",
       "      <td>2</td>\n",
       "      <td>2 days</td>\n",
       "      <td>2</td>\n",
       "    </tr>\n",
       "    <tr>\n",
       "      <th>1</th>\n",
       "      <td>Office Supplies</td>\n",
       "      <td>Los Angeles</td>\n",
       "      <td>United States</td>\n",
       "      <td>MV-174854</td>\n",
       "      <td>Mark Van Huff</td>\n",
       "      <td>0.0</td>\n",
       "      <td>US</td>\n",
       "      <td>2011-01-21</td>\n",
       "      <td>CA-2011-148614</td>\n",
       "      <td>Medium</td>\n",
       "      <td>...</td>\n",
       "      <td>2011-01-26</td>\n",
       "      <td>Standard Class</td>\n",
       "      <td>0.94</td>\n",
       "      <td>California</td>\n",
       "      <td>Paper</td>\n",
       "      <td>2011</td>\n",
       "      <td>North America</td>\n",
       "      <td>4</td>\n",
       "      <td>5 days</td>\n",
       "      <td>5</td>\n",
       "    </tr>\n",
       "    <tr>\n",
       "      <th>2</th>\n",
       "      <td>Office Supplies</td>\n",
       "      <td>Los Angeles</td>\n",
       "      <td>United States</td>\n",
       "      <td>CS-121304</td>\n",
       "      <td>Chad Sievert</td>\n",
       "      <td>0.0</td>\n",
       "      <td>US</td>\n",
       "      <td>2011-08-05</td>\n",
       "      <td>CA-2011-118962</td>\n",
       "      <td>Medium</td>\n",
       "      <td>...</td>\n",
       "      <td>2011-08-09</td>\n",
       "      <td>Standard Class</td>\n",
       "      <td>1.81</td>\n",
       "      <td>California</td>\n",
       "      <td>Paper</td>\n",
       "      <td>2011</td>\n",
       "      <td>North America</td>\n",
       "      <td>32</td>\n",
       "      <td>4 days</td>\n",
       "      <td>4</td>\n",
       "    </tr>\n",
       "    <tr>\n",
       "      <th>3</th>\n",
       "      <td>Office Supplies</td>\n",
       "      <td>Los Angeles</td>\n",
       "      <td>United States</td>\n",
       "      <td>CS-121304</td>\n",
       "      <td>Chad Sievert</td>\n",
       "      <td>0.0</td>\n",
       "      <td>US</td>\n",
       "      <td>2011-08-05</td>\n",
       "      <td>CA-2011-118962</td>\n",
       "      <td>Medium</td>\n",
       "      <td>...</td>\n",
       "      <td>2011-08-09</td>\n",
       "      <td>Standard Class</td>\n",
       "      <td>4.59</td>\n",
       "      <td>California</td>\n",
       "      <td>Paper</td>\n",
       "      <td>2011</td>\n",
       "      <td>North America</td>\n",
       "      <td>32</td>\n",
       "      <td>4 days</td>\n",
       "      <td>4</td>\n",
       "    </tr>\n",
       "    <tr>\n",
       "      <th>4</th>\n",
       "      <td>Office Supplies</td>\n",
       "      <td>Los Angeles</td>\n",
       "      <td>United States</td>\n",
       "      <td>AP-109154</td>\n",
       "      <td>Arthur Prichep</td>\n",
       "      <td>0.0</td>\n",
       "      <td>US</td>\n",
       "      <td>2011-09-29</td>\n",
       "      <td>CA-2011-146969</td>\n",
       "      <td>High</td>\n",
       "      <td>...</td>\n",
       "      <td>2011-10-03</td>\n",
       "      <td>Standard Class</td>\n",
       "      <td>1.32</td>\n",
       "      <td>California</td>\n",
       "      <td>Paper</td>\n",
       "      <td>2011</td>\n",
       "      <td>North America</td>\n",
       "      <td>40</td>\n",
       "      <td>4 days</td>\n",
       "      <td>4</td>\n",
       "    </tr>\n",
       "  </tbody>\n",
       "</table>\n",
       "<p>5 rows × 28 columns</p>\n",
       "</div>"
      ],
      "text/plain": [
       "          Category         City        Country Customer.ID     Customer.Name  \\\n",
       "0  Office Supplies  Los Angeles  United States   LS-172304  Lycoris Saunders   \n",
       "1  Office Supplies  Los Angeles  United States   MV-174854     Mark Van Huff   \n",
       "2  Office Supplies  Los Angeles  United States   CS-121304      Chad Sievert   \n",
       "3  Office Supplies  Los Angeles  United States   CS-121304      Chad Sievert   \n",
       "4  Office Supplies  Los Angeles  United States   AP-109154    Arthur Prichep   \n",
       "\n",
       "   Discount Market Order.Date        Order.ID Order.Priority  ...  Ship.Date  \\\n",
       "0       0.0     US 2011-01-07  CA-2011-130813           High  ... 2011-01-09   \n",
       "1       0.0     US 2011-01-21  CA-2011-148614         Medium  ... 2011-01-26   \n",
       "2       0.0     US 2011-08-05  CA-2011-118962         Medium  ... 2011-08-09   \n",
       "3       0.0     US 2011-08-05  CA-2011-118962         Medium  ... 2011-08-09   \n",
       "4       0.0     US 2011-09-29  CA-2011-146969           High  ... 2011-10-03   \n",
       "\n",
       "        Ship.Mode  Shipping.Cost       State Sub.Category  Year  \\\n",
       "0    Second Class           4.37  California        Paper  2011   \n",
       "1  Standard Class           0.94  California        Paper  2011   \n",
       "2  Standard Class           1.81  California        Paper  2011   \n",
       "3  Standard Class           4.59  California        Paper  2011   \n",
       "4  Standard Class           1.32  California        Paper  2011   \n",
       "\n",
       "         Market2 weeknum Shipping.Duration Shipping.Duration.Days  \n",
       "0  North America       2            2 days                      2  \n",
       "1  North America       4            5 days                      5  \n",
       "2  North America      32            4 days                      4  \n",
       "3  North America      32            4 days                      4  \n",
       "4  North America      40            4 days                      4  \n",
       "\n",
       "[5 rows x 28 columns]"
      ]
     },
     "execution_count": 153,
     "metadata": {},
     "output_type": "execute_result"
    }
   ],
   "source": [
    "df.head()"
   ]
  },
  {
   "cell_type": "code",
   "execution_count": 155,
   "id": "fd6d9b4e-6709-4652-83f3-caa1263e2147",
   "metadata": {},
   "outputs": [
    {
     "name": "stdout",
     "output_type": "stream",
     "text": [
      "Category                  0\n",
      "City                      0\n",
      "Country                   0\n",
      "Customer.ID               0\n",
      "Customer.Name             0\n",
      "Discount                  0\n",
      "Market                    0\n",
      "Order.Date                0\n",
      "Order.ID                  0\n",
      "Order.Priority            0\n",
      "Product.ID                0\n",
      "Product.Name              0\n",
      "Profit                    0\n",
      "Quantity                  0\n",
      "Region                    0\n",
      "Row.ID                    0\n",
      "Sales                     0\n",
      "Segment                   0\n",
      "Ship.Date                 0\n",
      "Ship.Mode                 0\n",
      "Shipping.Cost             0\n",
      "State                     0\n",
      "Sub.Category              0\n",
      "Year                      0\n",
      "Market2                   0\n",
      "weeknum                   0\n",
      "Shipping.Duration         0\n",
      "Shipping.Duration.Days    0\n",
      "dtype: int64\n"
     ]
    }
   ],
   "source": [
    "#null값 결측치 확인 \n",
    "print(df.isnull().sum()) "
   ]
  },
  {
   "cell_type": "markdown",
   "id": "3a569a60-5f58-4f38-861e-6158c0c7a8b8",
   "metadata": {},
   "source": [
    "# 3. 대륙 및 나라별 이익분석"
   ]
  },
  {
   "cell_type": "code",
   "execution_count": 182,
   "id": "9ef5091f-2dae-49fb-8135-02e9aad8ed62",
   "metadata": {},
   "outputs": [
    {
     "name": "stdout",
     "output_type": "stream",
     "text": [
      "          Sales       Profit      Profit/Sales(%)\n",
      "            sum mean     sum mean                \n",
      "Market                                           \n",
      "APAC    3585833  326  436000   40              12\n",
      "Africa   783776  171   88872   19              11\n",
      "Canada    66932  174   17817   46              27\n",
      "EMEA     806184  160   43898    9               5\n",
      "EU      2938139  294  372830   37              13\n",
      "LATAM   2164687  210  221643   22              10\n",
      "US      2297354  230  286397   29              12\n"
     ]
    }
   ],
   "source": [
    "df = pd.read_csv('superstore.csv')\n",
    "df_copy = df[['Market', 'Sales', 'Profit']].copy()\n",
    "df_copy=df_copy.dropna()\n",
    "\n",
    "grouped_data = df_copy.groupby('Market')[['Sales', 'Profit']].agg(['sum', 'mean'])\n",
    "\n",
    "grouped_data['Profit/Sales(%)'] = grouped_data[('Profit', 'sum')] / grouped_data[('Sales', 'sum')]*100\n",
    "grouped_data['Profit/Sales(%)'] = grouped_data[('Profit', 'mean')] / grouped_data[('Sales', 'mean')]*100\n",
    "\n",
    "print(grouped_data.applymap(lambda x: \"{:.0f}\".format(x))) #applymap으로 소수점 이하 버림표기"
   ]
  },
  {
   "cell_type": "code",
   "execution_count": 194,
   "id": "4ff981de-8f0a-46ec-8f0f-9ca714934d46",
   "metadata": {
    "scrolled": true
   },
   "outputs": [
    {
     "data": {
      "application/vnd.plotly.v1+json": {
       "config": {
        "plotlyServerURL": "https://plot.ly"
       },
       "data": [
        {
         "branchvalues": "total",
         "customdata": [
          [
           "APAC",
           "Afghanistan",
           21674,
           21674
          ],
          [
           "EMEA",
           "Albania",
           3888,
           3888
          ],
          [
           "Africa",
           "Algeria",
           36090,
           36090
          ],
          [
           "Africa",
           "Angola",
           25551,
           25551
          ],
          [
           "LATAM",
           "Argentina",
           57510,
           57510
          ],
          [
           "EMEA",
           "Armenia",
           156,
           156
          ],
          [
           "APAC",
           "Australia",
           925257,
           925257
          ],
          [
           "EMEA",
           "Austria",
           11375,
           11375
          ],
          [
           "EU",
           "Austria",
           81168,
           81168
          ],
          [
           "EMEA",
           "Azerbaijan",
           5630,
           5630
          ],
          [
           "EMEA",
           "Bahrain",
           669,
           669
          ],
          [
           "APAC",
           "Bangladesh",
           78254,
           78254
          ],
          [
           "LATAM",
           "Barbados",
           7175,
           7175
          ],
          [
           "EMEA",
           "Belarus",
           13390,
           13390
          ],
          [
           "EU",
           "Belgium",
           49233,
           49233
          ],
          [
           "Africa",
           "Benin",
           6215,
           6215
          ],
          [
           "LATAM",
           "Bolivia",
           11589,
           11589
          ],
          [
           "EMEA",
           "Bosnia and Herzegovina",
           2600,
           2600
          ],
          [
           "LATAM",
           "Brazil",
           361098,
           361098
          ],
          [
           "EMEA",
           "Bulgaria",
           15560,
           15560
          ],
          [
           "Africa",
           "Burundi",
           268,
           268
          ],
          [
           "APAC",
           "Cambodia",
           17476,
           17476
          ],
          [
           "Africa",
           "Cameroon",
           22355,
           22355
          ],
          [
           "Canada",
           "Canada",
           66932,
           66932
          ],
          [
           "Africa",
           "Central African Republic",
           2376,
           2376
          ],
          [
           "Africa",
           "Chad",
           1317,
           1317
          ],
          [
           "LATAM",
           "Chile",
           35449,
           35449
          ],
          [
           "APAC",
           "China",
           700591,
           700591
          ],
          [
           "LATAM",
           "Colombia",
           81508,
           81508
          ],
          [
           "Africa",
           "Cote d'Ivoire",
           25615,
           25615
          ],
          [
           "EMEA",
           "Croatia",
           4463,
           4463
          ],
          [
           "LATAM",
           "Cuba",
           158861,
           158861
          ],
          [
           "EMEA",
           "Czech Republic",
           9579,
           9579
          ],
          [
           "Africa",
           "Democratic Republic of the Congo",
           87415,
           87415
          ],
          [
           "EU",
           "Denmark",
           8643,
           8643
          ],
          [
           "Africa",
           "Djibouti",
           2394,
           2394
          ],
          [
           "LATAM",
           "Dominican Republic",
           126137,
           126137
          ],
          [
           "LATAM",
           "Ecuador",
           13344,
           13344
          ],
          [
           "Africa",
           "Egypt",
           84137,
           84137
          ],
          [
           "LATAM",
           "El Salvador",
           177565,
           177565
          ],
          [
           "Africa",
           "Equatorial Guinea",
           150,
           150
          ],
          [
           "Africa",
           "Eritrea",
           188,
           188
          ],
          [
           "EMEA",
           "Estonia",
           4479,
           4479
          ],
          [
           "Africa",
           "Ethiopia",
           850,
           850
          ],
          [
           "EU",
           "Finland",
           20702,
           20702
          ],
          [
           "EU",
           "France",
           858930,
           858930
          ],
          [
           "Africa",
           "Gabon",
           1752,
           1752
          ],
          [
           "EMEA",
           "Georgia",
           5428,
           5428
          ],
          [
           "EU",
           "Germany",
           628857,
           628857
          ],
          [
           "Africa",
           "Ghana",
           23272,
           23272
          ],
          [
           "LATAM",
           "Guadeloupe",
           1462,
           1462
          ],
          [
           "LATAM",
           "Guatemala",
           131609,
           131609
          ],
          [
           "Africa",
           "Guinea",
           3498,
           3498
          ],
          [
           "Africa",
           "Guinea-Bissau",
           2065,
           2065
          ],
          [
           "LATAM",
           "Haiti",
           11036,
           11036
          ],
          [
           "LATAM",
           "Honduras",
           90137,
           90137
          ],
          [
           "APAC",
           "Hong Kong",
           6148,
           6148
          ],
          [
           "EMEA",
           "Hungary",
           14254,
           14254
          ],
          [
           "APAC",
           "India",
           589664,
           589664
          ],
          [
           "APAC",
           "Indonesia",
           404887,
           404887
          ],
          [
           "EMEA",
           "Iran",
           113750,
           113750
          ],
          [
           "EMEA",
           "Iraq",
           70730,
           70730
          ],
          [
           "EU",
           "Ireland",
           16638,
           16638
          ],
          [
           "EMEA",
           "Israel",
           19294,
           19294
          ],
          [
           "EU",
           "Italy",
           289717,
           289717
          ],
          [
           "LATAM",
           "Jamaica",
           6762,
           6762
          ],
          [
           "APAC",
           "Japan",
           100789,
           100789
          ],
          [
           "EMEA",
           "Jordan",
           7325,
           7325
          ],
          [
           "EMEA",
           "Kazakhstan",
           4602,
           4602
          ],
          [
           "Africa",
           "Kenya",
           17569,
           17569
          ],
          [
           "EMEA",
           "Kyrgyzstan",
           5103,
           5103
          ],
          [
           "EMEA",
           "Lebanon",
           2797,
           2797
          ],
          [
           "Africa",
           "Lesotho",
           6712,
           6712
          ],
          [
           "Africa",
           "Liberia",
           3561,
           3561
          ],
          [
           "Africa",
           "Libya",
           7809,
           7809
          ],
          [
           "EMEA",
           "Lithuania",
           6723,
           6723
          ],
          [
           "EMEA",
           "Macedonia",
           210,
           210
          ],
          [
           "Africa",
           "Madagascar",
           12618,
           12618
          ],
          [
           "APAC",
           "Malaysia",
           61363,
           61363
          ],
          [
           "Africa",
           "Mali",
           8915,
           8915
          ],
          [
           "LATAM",
           "Martinique",
           5968,
           5968
          ],
          [
           "Africa",
           "Mauritania",
           4020,
           4020
          ],
          [
           "LATAM",
           "Mexico",
           622620,
           622620
          ],
          [
           "EMEA",
           "Moldova",
           5139,
           5139
          ],
          [
           "APAC",
           "Mongolia",
           40,
           40
          ],
          [
           "EMEA",
           "Mongolia",
           6749,
           6749
          ],
          [
           "EMEA",
           "Montenegro",
           4004,
           4004
          ],
          [
           "Africa",
           "Morocco",
           87079,
           87079
          ],
          [
           "Africa",
           "Mozambique",
           21302,
           21302
          ],
          [
           "APAC",
           "Myanmar (Burma)",
           34144,
           34144
          ],
          [
           "Africa",
           "Namibia",
           2899,
           2899
          ],
          [
           "APAC",
           "Nepal",
           3522,
           3522
          ],
          [
           "EU",
           "Netherlands",
           77520,
           77520
          ],
          [
           "APAC",
           "New Zealand",
           172022,
           172022
          ],
          [
           "LATAM",
           "Nicaragua",
           149694,
           149694
          ],
          [
           "Africa",
           "Niger",
           6923,
           6923
          ],
          [
           "Africa",
           "Nigeria",
           54347,
           54347
          ],
          [
           "EU",
           "Norway",
           20529,
           20529
          ],
          [
           "APAC",
           "Pakistan",
           58873,
           58873
          ],
          [
           "LATAM",
           "Panama",
           51556,
           51556
          ],
          [
           "APAC",
           "Papua New Guinea",
           2928,
           2928
          ],
          [
           "LATAM",
           "Paraguay",
           2591,
           2591
          ],
          [
           "LATAM",
           "Peru",
           17834,
           17834
          ],
          [
           "APAC",
           "Philippines",
           183433,
           183433
          ],
          [
           "EMEA",
           "Poland",
           44227,
           44227
          ],
          [
           "EU",
           "Portugal",
           15106,
           15106
          ],
          [
           "EMEA",
           "Qatar",
           6050,
           6050
          ],
          [
           "Africa",
           "Republic of the Congo",
           2714,
           2714
          ],
          [
           "EMEA",
           "Romania",
           37259,
           37259
          ],
          [
           "EMEA",
           "Russia",
           82915,
           82915
          ],
          [
           "Africa",
           "Rwanda",
           5197,
           5197
          ],
          [
           "EMEA",
           "Saudi Arabia",
           82006,
           82006
          ],
          [
           "Africa",
           "Senegal",
           28850,
           28850
          ],
          [
           "Africa",
           "Sierra Leone",
           2449,
           2449
          ],
          [
           "APAC",
           "Singapore",
           40285,
           40285
          ],
          [
           "EMEA",
           "Slovakia",
           866,
           866
          ],
          [
           "EMEA",
           "Slovenia",
           1469,
           1469
          ],
          [
           "Africa",
           "Somalia",
           8185,
           8185
          ],
          [
           "Africa",
           "South Africa",
           95301,
           95301
          ],
          [
           "APAC",
           "South Korea",
           33133,
           33133
          ],
          [
           "Africa",
           "South Sudan",
           1045,
           1045
          ],
          [
           "EU",
           "Spain",
           287162,
           287162
          ],
          [
           "APAC",
           "Sri Lanka",
           852,
           852
          ],
          [
           "Africa",
           "Sudan",
           16336,
           16336
          ],
          [
           "Africa",
           "Swaziland",
           288,
           288
          ],
          [
           "EU",
           "Sweden",
           30490,
           30490
          ],
          [
           "EU",
           "Switzerland",
           24874,
           24874
          ],
          [
           "EMEA",
           "Syria",
           5309,
           5309
          ],
          [
           "APAC",
           "Taiwan",
           7648,
           7648
          ],
          [
           "EMEA",
           "Tajikistan",
           242,
           242
          ],
          [
           "Africa",
           "Tanzania",
           26816,
           26816
          ],
          [
           "APAC",
           "Thailand",
           77048,
           77048
          ],
          [
           "Africa",
           "Togo",
           4150,
           4150
          ],
          [
           "LATAM",
           "Trinidad and Tobago",
           6880,
           6880
          ],
          [
           "Africa",
           "Tunisia",
           1762,
           1762
          ],
          [
           "EMEA",
           "Turkey",
           108524,
           108524
          ],
          [
           "EMEA",
           "Turkmenistan",
           2029,
           2029
          ],
          [
           "Africa",
           "Uganda",
           1625,
           1625
          ],
          [
           "EMEA",
           "Ukraine",
           86855,
           86855
          ],
          [
           "EMEA",
           "United Arab Emirates",
           742,
           742
          ],
          [
           "EU",
           "United Kingdom",
           528570,
           528570
          ],
          [
           "US",
           "United States",
           2297354,
           2297354
          ],
          [
           "LATAM",
           "Uruguay",
           9715,
           9715
          ],
          [
           "EMEA",
           "Uzbekistan",
           7330,
           7330
          ],
          [
           "LATAM",
           "Venezuela",
           26587,
           26587
          ],
          [
           "APAC",
           "Vietnam",
           65802,
           65802
          ],
          [
           "EMEA",
           "Yemen",
           2464,
           2464
          ],
          [
           "Africa",
           "Zambia",
           26029,
           26029
          ],
          [
           "Africa",
           "Zimbabwe",
           3767,
           3767
          ],
          [
           "APAC",
           "(?)",
           546696.9958983031,
           546696.9958983031
          ],
          [
           "Africa",
           "(?)",
           53456.39793512432,
           53456.39793512432
          ],
          [
           "Canada",
           "Canada",
           66932,
           66932
          ],
          [
           "EMEA",
           "(?)",
           69367.31168318895,
           69367.31168318895
          ],
          [
           "EU",
           "(?)",
           543543.2557292217,
           543543.2557292217
          ],
          [
           "LATAM",
           "(?)",
           302208.1699696076,
           302208.1699696076
          ],
          [
           "US",
           "United States",
           2297354,
           2297354
          ]
         ],
         "domain": {
          "x": [
           0,
           1
          ],
          "y": [
           0,
           1
          ]
         },
         "hovertemplate": "labels=%{label}<br>Sales_sum=%{value}<br>parent=%{parent}<br>id=%{id}<br>Market=%{customdata[0]}<br>Country=%{customdata[1]}<br>Sales=%{color}<extra></extra>",
         "ids": [
          "APAC/Afghanistan",
          "EMEA/Albania",
          "Africa/Algeria",
          "Africa/Angola",
          "LATAM/Argentina",
          "EMEA/Armenia",
          "APAC/Australia",
          "EMEA/Austria",
          "EU/Austria",
          "EMEA/Azerbaijan",
          "EMEA/Bahrain",
          "APAC/Bangladesh",
          "LATAM/Barbados",
          "EMEA/Belarus",
          "EU/Belgium",
          "Africa/Benin",
          "LATAM/Bolivia",
          "EMEA/Bosnia and Herzegovina",
          "LATAM/Brazil",
          "EMEA/Bulgaria",
          "Africa/Burundi",
          "APAC/Cambodia",
          "Africa/Cameroon",
          "Canada/Canada",
          "Africa/Central African Republic",
          "Africa/Chad",
          "LATAM/Chile",
          "APAC/China",
          "LATAM/Colombia",
          "Africa/Cote d'Ivoire",
          "EMEA/Croatia",
          "LATAM/Cuba",
          "EMEA/Czech Republic",
          "Africa/Democratic Republic of the Congo",
          "EU/Denmark",
          "Africa/Djibouti",
          "LATAM/Dominican Republic",
          "LATAM/Ecuador",
          "Africa/Egypt",
          "LATAM/El Salvador",
          "Africa/Equatorial Guinea",
          "Africa/Eritrea",
          "EMEA/Estonia",
          "Africa/Ethiopia",
          "EU/Finland",
          "EU/France",
          "Africa/Gabon",
          "EMEA/Georgia",
          "EU/Germany",
          "Africa/Ghana",
          "LATAM/Guadeloupe",
          "LATAM/Guatemala",
          "Africa/Guinea",
          "Africa/Guinea-Bissau",
          "LATAM/Haiti",
          "LATAM/Honduras",
          "APAC/Hong Kong",
          "EMEA/Hungary",
          "APAC/India",
          "APAC/Indonesia",
          "EMEA/Iran",
          "EMEA/Iraq",
          "EU/Ireland",
          "EMEA/Israel",
          "EU/Italy",
          "LATAM/Jamaica",
          "APAC/Japan",
          "EMEA/Jordan",
          "EMEA/Kazakhstan",
          "Africa/Kenya",
          "EMEA/Kyrgyzstan",
          "EMEA/Lebanon",
          "Africa/Lesotho",
          "Africa/Liberia",
          "Africa/Libya",
          "EMEA/Lithuania",
          "EMEA/Macedonia",
          "Africa/Madagascar",
          "APAC/Malaysia",
          "Africa/Mali",
          "LATAM/Martinique",
          "Africa/Mauritania",
          "LATAM/Mexico",
          "EMEA/Moldova",
          "APAC/Mongolia",
          "EMEA/Mongolia",
          "EMEA/Montenegro",
          "Africa/Morocco",
          "Africa/Mozambique",
          "APAC/Myanmar (Burma)",
          "Africa/Namibia",
          "APAC/Nepal",
          "EU/Netherlands",
          "APAC/New Zealand",
          "LATAM/Nicaragua",
          "Africa/Niger",
          "Africa/Nigeria",
          "EU/Norway",
          "APAC/Pakistan",
          "LATAM/Panama",
          "APAC/Papua New Guinea",
          "LATAM/Paraguay",
          "LATAM/Peru",
          "APAC/Philippines",
          "EMEA/Poland",
          "EU/Portugal",
          "EMEA/Qatar",
          "Africa/Republic of the Congo",
          "EMEA/Romania",
          "EMEA/Russia",
          "Africa/Rwanda",
          "EMEA/Saudi Arabia",
          "Africa/Senegal",
          "Africa/Sierra Leone",
          "APAC/Singapore",
          "EMEA/Slovakia",
          "EMEA/Slovenia",
          "Africa/Somalia",
          "Africa/South Africa",
          "APAC/South Korea",
          "Africa/South Sudan",
          "EU/Spain",
          "APAC/Sri Lanka",
          "Africa/Sudan",
          "Africa/Swaziland",
          "EU/Sweden",
          "EU/Switzerland",
          "EMEA/Syria",
          "APAC/Taiwan",
          "EMEA/Tajikistan",
          "Africa/Tanzania",
          "APAC/Thailand",
          "Africa/Togo",
          "LATAM/Trinidad and Tobago",
          "Africa/Tunisia",
          "EMEA/Turkey",
          "EMEA/Turkmenistan",
          "Africa/Uganda",
          "EMEA/Ukraine",
          "EMEA/United Arab Emirates",
          "EU/United Kingdom",
          "US/United States",
          "LATAM/Uruguay",
          "EMEA/Uzbekistan",
          "LATAM/Venezuela",
          "APAC/Vietnam",
          "EMEA/Yemen",
          "Africa/Zambia",
          "Africa/Zimbabwe",
          "APAC",
          "Africa",
          "Canada",
          "EMEA",
          "EU",
          "LATAM",
          "US"
         ],
         "labels": [
          "Afghanistan",
          "Albania",
          "Algeria",
          "Angola",
          "Argentina",
          "Armenia",
          "Australia",
          "Austria",
          "Austria",
          "Azerbaijan",
          "Bahrain",
          "Bangladesh",
          "Barbados",
          "Belarus",
          "Belgium",
          "Benin",
          "Bolivia",
          "Bosnia and Herzegovina",
          "Brazil",
          "Bulgaria",
          "Burundi",
          "Cambodia",
          "Cameroon",
          "Canada",
          "Central African Republic",
          "Chad",
          "Chile",
          "China",
          "Colombia",
          "Cote d'Ivoire",
          "Croatia",
          "Cuba",
          "Czech Republic",
          "Democratic Republic of the Congo",
          "Denmark",
          "Djibouti",
          "Dominican Republic",
          "Ecuador",
          "Egypt",
          "El Salvador",
          "Equatorial Guinea",
          "Eritrea",
          "Estonia",
          "Ethiopia",
          "Finland",
          "France",
          "Gabon",
          "Georgia",
          "Germany",
          "Ghana",
          "Guadeloupe",
          "Guatemala",
          "Guinea",
          "Guinea-Bissau",
          "Haiti",
          "Honduras",
          "Hong Kong",
          "Hungary",
          "India",
          "Indonesia",
          "Iran",
          "Iraq",
          "Ireland",
          "Israel",
          "Italy",
          "Jamaica",
          "Japan",
          "Jordan",
          "Kazakhstan",
          "Kenya",
          "Kyrgyzstan",
          "Lebanon",
          "Lesotho",
          "Liberia",
          "Libya",
          "Lithuania",
          "Macedonia",
          "Madagascar",
          "Malaysia",
          "Mali",
          "Martinique",
          "Mauritania",
          "Mexico",
          "Moldova",
          "Mongolia",
          "Mongolia",
          "Montenegro",
          "Morocco",
          "Mozambique",
          "Myanmar (Burma)",
          "Namibia",
          "Nepal",
          "Netherlands",
          "New Zealand",
          "Nicaragua",
          "Niger",
          "Nigeria",
          "Norway",
          "Pakistan",
          "Panama",
          "Papua New Guinea",
          "Paraguay",
          "Peru",
          "Philippines",
          "Poland",
          "Portugal",
          "Qatar",
          "Republic of the Congo",
          "Romania",
          "Russia",
          "Rwanda",
          "Saudi Arabia",
          "Senegal",
          "Sierra Leone",
          "Singapore",
          "Slovakia",
          "Slovenia",
          "Somalia",
          "South Africa",
          "South Korea",
          "South Sudan",
          "Spain",
          "Sri Lanka",
          "Sudan",
          "Swaziland",
          "Sweden",
          "Switzerland",
          "Syria",
          "Taiwan",
          "Tajikistan",
          "Tanzania",
          "Thailand",
          "Togo",
          "Trinidad and Tobago",
          "Tunisia",
          "Turkey",
          "Turkmenistan",
          "Uganda",
          "Ukraine",
          "United Arab Emirates",
          "United Kingdom",
          "United States",
          "Uruguay",
          "Uzbekistan",
          "Venezuela",
          "Vietnam",
          "Yemen",
          "Zambia",
          "Zimbabwe",
          "APAC",
          "Africa",
          "Canada",
          "EMEA",
          "EU",
          "LATAM",
          "US"
         ],
         "marker": {
          "coloraxis": "coloraxis",
          "colors": [
           21674,
           3888,
           36090,
           25551,
           57510,
           156,
           925257,
           11375,
           81168,
           5630,
           669,
           78254,
           7175,
           13390,
           49233,
           6215,
           11589,
           2600,
           361098,
           15560,
           268,
           17476,
           22355,
           66932,
           2376,
           1317,
           35449,
           700591,
           81508,
           25615,
           4463,
           158861,
           9579,
           87415,
           8643,
           2394,
           126137,
           13344,
           84137,
           177565,
           150,
           188,
           4479,
           850,
           20702,
           858930,
           1752,
           5428,
           628857,
           23272,
           1462,
           131609,
           3498,
           2065,
           11036,
           90137,
           6148,
           14254,
           589664,
           404887,
           113750,
           70730,
           16638,
           19294,
           289717,
           6762,
           100789,
           7325,
           4602,
           17569,
           5103,
           2797,
           6712,
           3561,
           7809,
           6723,
           210,
           12618,
           61363,
           8915,
           5968,
           4020,
           622620,
           5139,
           40,
           6749,
           4004,
           87079,
           21302,
           34144,
           2899,
           3522,
           77520,
           172022,
           149694,
           6923,
           54347,
           20529,
           58873,
           51556,
           2928,
           2591,
           17834,
           183433,
           44227,
           15106,
           6050,
           2714,
           37259,
           82915,
           5197,
           82006,
           28850,
           2449,
           40285,
           866,
           1469,
           8185,
           95301,
           33133,
           1045,
           287162,
           852,
           16336,
           288,
           30490,
           24874,
           5309,
           7648,
           242,
           26816,
           77048,
           4150,
           6880,
           1762,
           108524,
           2029,
           1625,
           86855,
           742,
           528570,
           2297354,
           9715,
           7330,
           26587,
           65802,
           2464,
           26029,
           3767,
           546696.9958983031,
           53456.39793512432,
           66932,
           69367.31168318895,
           543543.2557292217,
           302208.1699696076,
           2297354
          ]
         },
         "name": "",
         "parents": [
          "APAC",
          "EMEA",
          "Africa",
          "Africa",
          "LATAM",
          "EMEA",
          "APAC",
          "EMEA",
          "EU",
          "EMEA",
          "EMEA",
          "APAC",
          "LATAM",
          "EMEA",
          "EU",
          "Africa",
          "LATAM",
          "EMEA",
          "LATAM",
          "EMEA",
          "Africa",
          "APAC",
          "Africa",
          "Canada",
          "Africa",
          "Africa",
          "LATAM",
          "APAC",
          "LATAM",
          "Africa",
          "EMEA",
          "LATAM",
          "EMEA",
          "Africa",
          "EU",
          "Africa",
          "LATAM",
          "LATAM",
          "Africa",
          "LATAM",
          "Africa",
          "Africa",
          "EMEA",
          "Africa",
          "EU",
          "EU",
          "Africa",
          "EMEA",
          "EU",
          "Africa",
          "LATAM",
          "LATAM",
          "Africa",
          "Africa",
          "LATAM",
          "LATAM",
          "APAC",
          "EMEA",
          "APAC",
          "APAC",
          "EMEA",
          "EMEA",
          "EU",
          "EMEA",
          "EU",
          "LATAM",
          "APAC",
          "EMEA",
          "EMEA",
          "Africa",
          "EMEA",
          "EMEA",
          "Africa",
          "Africa",
          "Africa",
          "EMEA",
          "EMEA",
          "Africa",
          "APAC",
          "Africa",
          "LATAM",
          "Africa",
          "LATAM",
          "EMEA",
          "APAC",
          "EMEA",
          "EMEA",
          "Africa",
          "Africa",
          "APAC",
          "Africa",
          "APAC",
          "EU",
          "APAC",
          "LATAM",
          "Africa",
          "Africa",
          "EU",
          "APAC",
          "LATAM",
          "APAC",
          "LATAM",
          "LATAM",
          "APAC",
          "EMEA",
          "EU",
          "EMEA",
          "Africa",
          "EMEA",
          "EMEA",
          "Africa",
          "EMEA",
          "Africa",
          "Africa",
          "APAC",
          "EMEA",
          "EMEA",
          "Africa",
          "Africa",
          "APAC",
          "Africa",
          "EU",
          "APAC",
          "Africa",
          "Africa",
          "EU",
          "EU",
          "EMEA",
          "APAC",
          "EMEA",
          "Africa",
          "APAC",
          "Africa",
          "LATAM",
          "Africa",
          "EMEA",
          "EMEA",
          "Africa",
          "EMEA",
          "EMEA",
          "EU",
          "US",
          "LATAM",
          "EMEA",
          "LATAM",
          "APAC",
          "EMEA",
          "Africa",
          "Africa",
          "",
          "",
          "",
          "",
          "",
          "",
          ""
         ],
         "type": "treemap",
         "values": [
          21674,
          3888,
          36090,
          25551,
          57510,
          156,
          925257,
          11375,
          81168,
          5630,
          669,
          78254,
          7175,
          13390,
          49233,
          6215,
          11589,
          2600,
          361098,
          15560,
          268,
          17476,
          22355,
          66932,
          2376,
          1317,
          35449,
          700591,
          81508,
          25615,
          4463,
          158861,
          9579,
          87415,
          8643,
          2394,
          126137,
          13344,
          84137,
          177565,
          150,
          188,
          4479,
          850,
          20702,
          858930,
          1752,
          5428,
          628857,
          23272,
          1462,
          131609,
          3498,
          2065,
          11036,
          90137,
          6148,
          14254,
          589664,
          404887,
          113750,
          70730,
          16638,
          19294,
          289717,
          6762,
          100789,
          7325,
          4602,
          17569,
          5103,
          2797,
          6712,
          3561,
          7809,
          6723,
          210,
          12618,
          61363,
          8915,
          5968,
          4020,
          622620,
          5139,
          40,
          6749,
          4004,
          87079,
          21302,
          34144,
          2899,
          3522,
          77520,
          172022,
          149694,
          6923,
          54347,
          20529,
          58873,
          51556,
          2928,
          2591,
          17834,
          183433,
          44227,
          15106,
          6050,
          2714,
          37259,
          82915,
          5197,
          82006,
          28850,
          2449,
          40285,
          866,
          1469,
          8185,
          95301,
          33133,
          1045,
          287162,
          852,
          16336,
          288,
          30490,
          24874,
          5309,
          7648,
          242,
          26816,
          77048,
          4150,
          6880,
          1762,
          108524,
          2029,
          1625,
          86855,
          742,
          528570,
          2297354,
          9715,
          7330,
          26587,
          65802,
          2464,
          26029,
          3767,
          3585833,
          783776,
          66932,
          806184,
          2938139,
          2164687,
          2297354
         ]
        }
       ],
       "layout": {
        "coloraxis": {
         "colorbar": {
          "title": {
           "text": "Sales"
          }
         },
         "colorscale": [
          [
           0,
           "rgb(103,0,31)"
          ],
          [
           0.1,
           "rgb(178,24,43)"
          ],
          [
           0.2,
           "rgb(214,96,77)"
          ],
          [
           0.3,
           "rgb(244,165,130)"
          ],
          [
           0.4,
           "rgb(253,219,199)"
          ],
          [
           0.5,
           "rgb(247,247,247)"
          ],
          [
           0.6,
           "rgb(209,229,240)"
          ],
          [
           0.7,
           "rgb(146,197,222)"
          ],
          [
           0.8,
           "rgb(67,147,195)"
          ],
          [
           0.9,
           "rgb(33,102,172)"
          ],
          [
           1,
           "rgb(5,48,97)"
          ]
         ]
        },
        "legend": {
         "tracegroupgap": 0
        },
        "margin": {
         "b": 25,
         "l": 25,
         "r": 25,
         "t": 50
        },
        "template": {
         "data": {
          "bar": [
           {
            "error_x": {
             "color": "#2a3f5f"
            },
            "error_y": {
             "color": "#2a3f5f"
            },
            "marker": {
             "line": {
              "color": "#E5ECF6",
              "width": 0.5
             },
             "pattern": {
              "fillmode": "overlay",
              "size": 10,
              "solidity": 0.2
             }
            },
            "type": "bar"
           }
          ],
          "barpolar": [
           {
            "marker": {
             "line": {
              "color": "#E5ECF6",
              "width": 0.5
             },
             "pattern": {
              "fillmode": "overlay",
              "size": 10,
              "solidity": 0.2
             }
            },
            "type": "barpolar"
           }
          ],
          "carpet": [
           {
            "aaxis": {
             "endlinecolor": "#2a3f5f",
             "gridcolor": "white",
             "linecolor": "white",
             "minorgridcolor": "white",
             "startlinecolor": "#2a3f5f"
            },
            "baxis": {
             "endlinecolor": "#2a3f5f",
             "gridcolor": "white",
             "linecolor": "white",
             "minorgridcolor": "white",
             "startlinecolor": "#2a3f5f"
            },
            "type": "carpet"
           }
          ],
          "choropleth": [
           {
            "colorbar": {
             "outlinewidth": 0,
             "ticks": ""
            },
            "type": "choropleth"
           }
          ],
          "contour": [
           {
            "colorbar": {
             "outlinewidth": 0,
             "ticks": ""
            },
            "colorscale": [
             [
              0,
              "#0d0887"
             ],
             [
              0.1111111111111111,
              "#46039f"
             ],
             [
              0.2222222222222222,
              "#7201a8"
             ],
             [
              0.3333333333333333,
              "#9c179e"
             ],
             [
              0.4444444444444444,
              "#bd3786"
             ],
             [
              0.5555555555555556,
              "#d8576b"
             ],
             [
              0.6666666666666666,
              "#ed7953"
             ],
             [
              0.7777777777777778,
              "#fb9f3a"
             ],
             [
              0.8888888888888888,
              "#fdca26"
             ],
             [
              1,
              "#f0f921"
             ]
            ],
            "type": "contour"
           }
          ],
          "contourcarpet": [
           {
            "colorbar": {
             "outlinewidth": 0,
             "ticks": ""
            },
            "type": "contourcarpet"
           }
          ],
          "heatmap": [
           {
            "colorbar": {
             "outlinewidth": 0,
             "ticks": ""
            },
            "colorscale": [
             [
              0,
              "#0d0887"
             ],
             [
              0.1111111111111111,
              "#46039f"
             ],
             [
              0.2222222222222222,
              "#7201a8"
             ],
             [
              0.3333333333333333,
              "#9c179e"
             ],
             [
              0.4444444444444444,
              "#bd3786"
             ],
             [
              0.5555555555555556,
              "#d8576b"
             ],
             [
              0.6666666666666666,
              "#ed7953"
             ],
             [
              0.7777777777777778,
              "#fb9f3a"
             ],
             [
              0.8888888888888888,
              "#fdca26"
             ],
             [
              1,
              "#f0f921"
             ]
            ],
            "type": "heatmap"
           }
          ],
          "heatmapgl": [
           {
            "colorbar": {
             "outlinewidth": 0,
             "ticks": ""
            },
            "colorscale": [
             [
              0,
              "#0d0887"
             ],
             [
              0.1111111111111111,
              "#46039f"
             ],
             [
              0.2222222222222222,
              "#7201a8"
             ],
             [
              0.3333333333333333,
              "#9c179e"
             ],
             [
              0.4444444444444444,
              "#bd3786"
             ],
             [
              0.5555555555555556,
              "#d8576b"
             ],
             [
              0.6666666666666666,
              "#ed7953"
             ],
             [
              0.7777777777777778,
              "#fb9f3a"
             ],
             [
              0.8888888888888888,
              "#fdca26"
             ],
             [
              1,
              "#f0f921"
             ]
            ],
            "type": "heatmapgl"
           }
          ],
          "histogram": [
           {
            "marker": {
             "pattern": {
              "fillmode": "overlay",
              "size": 10,
              "solidity": 0.2
             }
            },
            "type": "histogram"
           }
          ],
          "histogram2d": [
           {
            "colorbar": {
             "outlinewidth": 0,
             "ticks": ""
            },
            "colorscale": [
             [
              0,
              "#0d0887"
             ],
             [
              0.1111111111111111,
              "#46039f"
             ],
             [
              0.2222222222222222,
              "#7201a8"
             ],
             [
              0.3333333333333333,
              "#9c179e"
             ],
             [
              0.4444444444444444,
              "#bd3786"
             ],
             [
              0.5555555555555556,
              "#d8576b"
             ],
             [
              0.6666666666666666,
              "#ed7953"
             ],
             [
              0.7777777777777778,
              "#fb9f3a"
             ],
             [
              0.8888888888888888,
              "#fdca26"
             ],
             [
              1,
              "#f0f921"
             ]
            ],
            "type": "histogram2d"
           }
          ],
          "histogram2dcontour": [
           {
            "colorbar": {
             "outlinewidth": 0,
             "ticks": ""
            },
            "colorscale": [
             [
              0,
              "#0d0887"
             ],
             [
              0.1111111111111111,
              "#46039f"
             ],
             [
              0.2222222222222222,
              "#7201a8"
             ],
             [
              0.3333333333333333,
              "#9c179e"
             ],
             [
              0.4444444444444444,
              "#bd3786"
             ],
             [
              0.5555555555555556,
              "#d8576b"
             ],
             [
              0.6666666666666666,
              "#ed7953"
             ],
             [
              0.7777777777777778,
              "#fb9f3a"
             ],
             [
              0.8888888888888888,
              "#fdca26"
             ],
             [
              1,
              "#f0f921"
             ]
            ],
            "type": "histogram2dcontour"
           }
          ],
          "mesh3d": [
           {
            "colorbar": {
             "outlinewidth": 0,
             "ticks": ""
            },
            "type": "mesh3d"
           }
          ],
          "parcoords": [
           {
            "line": {
             "colorbar": {
              "outlinewidth": 0,
              "ticks": ""
             }
            },
            "type": "parcoords"
           }
          ],
          "pie": [
           {
            "automargin": true,
            "type": "pie"
           }
          ],
          "scatter": [
           {
            "fillpattern": {
             "fillmode": "overlay",
             "size": 10,
             "solidity": 0.2
            },
            "type": "scatter"
           }
          ],
          "scatter3d": [
           {
            "line": {
             "colorbar": {
              "outlinewidth": 0,
              "ticks": ""
             }
            },
            "marker": {
             "colorbar": {
              "outlinewidth": 0,
              "ticks": ""
             }
            },
            "type": "scatter3d"
           }
          ],
          "scattercarpet": [
           {
            "marker": {
             "colorbar": {
              "outlinewidth": 0,
              "ticks": ""
             }
            },
            "type": "scattercarpet"
           }
          ],
          "scattergeo": [
           {
            "marker": {
             "colorbar": {
              "outlinewidth": 0,
              "ticks": ""
             }
            },
            "type": "scattergeo"
           }
          ],
          "scattergl": [
           {
            "marker": {
             "colorbar": {
              "outlinewidth": 0,
              "ticks": ""
             }
            },
            "type": "scattergl"
           }
          ],
          "scattermapbox": [
           {
            "marker": {
             "colorbar": {
              "outlinewidth": 0,
              "ticks": ""
             }
            },
            "type": "scattermapbox"
           }
          ],
          "scatterpolar": [
           {
            "marker": {
             "colorbar": {
              "outlinewidth": 0,
              "ticks": ""
             }
            },
            "type": "scatterpolar"
           }
          ],
          "scatterpolargl": [
           {
            "marker": {
             "colorbar": {
              "outlinewidth": 0,
              "ticks": ""
             }
            },
            "type": "scatterpolargl"
           }
          ],
          "scatterternary": [
           {
            "marker": {
             "colorbar": {
              "outlinewidth": 0,
              "ticks": ""
             }
            },
            "type": "scatterternary"
           }
          ],
          "surface": [
           {
            "colorbar": {
             "outlinewidth": 0,
             "ticks": ""
            },
            "colorscale": [
             [
              0,
              "#0d0887"
             ],
             [
              0.1111111111111111,
              "#46039f"
             ],
             [
              0.2222222222222222,
              "#7201a8"
             ],
             [
              0.3333333333333333,
              "#9c179e"
             ],
             [
              0.4444444444444444,
              "#bd3786"
             ],
             [
              0.5555555555555556,
              "#d8576b"
             ],
             [
              0.6666666666666666,
              "#ed7953"
             ],
             [
              0.7777777777777778,
              "#fb9f3a"
             ],
             [
              0.8888888888888888,
              "#fdca26"
             ],
             [
              1,
              "#f0f921"
             ]
            ],
            "type": "surface"
           }
          ],
          "table": [
           {
            "cells": {
             "fill": {
              "color": "#EBF0F8"
             },
             "line": {
              "color": "white"
             }
            },
            "header": {
             "fill": {
              "color": "#C8D4E3"
             },
             "line": {
              "color": "white"
             }
            },
            "type": "table"
           }
          ]
         },
         "layout": {
          "annotationdefaults": {
           "arrowcolor": "#2a3f5f",
           "arrowhead": 0,
           "arrowwidth": 1
          },
          "autotypenumbers": "strict",
          "coloraxis": {
           "colorbar": {
            "outlinewidth": 0,
            "ticks": ""
           }
          },
          "colorscale": {
           "diverging": [
            [
             0,
             "#8e0152"
            ],
            [
             0.1,
             "#c51b7d"
            ],
            [
             0.2,
             "#de77ae"
            ],
            [
             0.3,
             "#f1b6da"
            ],
            [
             0.4,
             "#fde0ef"
            ],
            [
             0.5,
             "#f7f7f7"
            ],
            [
             0.6,
             "#e6f5d0"
            ],
            [
             0.7,
             "#b8e186"
            ],
            [
             0.8,
             "#7fbc41"
            ],
            [
             0.9,
             "#4d9221"
            ],
            [
             1,
             "#276419"
            ]
           ],
           "sequential": [
            [
             0,
             "#0d0887"
            ],
            [
             0.1111111111111111,
             "#46039f"
            ],
            [
             0.2222222222222222,
             "#7201a8"
            ],
            [
             0.3333333333333333,
             "#9c179e"
            ],
            [
             0.4444444444444444,
             "#bd3786"
            ],
            [
             0.5555555555555556,
             "#d8576b"
            ],
            [
             0.6666666666666666,
             "#ed7953"
            ],
            [
             0.7777777777777778,
             "#fb9f3a"
            ],
            [
             0.8888888888888888,
             "#fdca26"
            ],
            [
             1,
             "#f0f921"
            ]
           ],
           "sequentialminus": [
            [
             0,
             "#0d0887"
            ],
            [
             0.1111111111111111,
             "#46039f"
            ],
            [
             0.2222222222222222,
             "#7201a8"
            ],
            [
             0.3333333333333333,
             "#9c179e"
            ],
            [
             0.4444444444444444,
             "#bd3786"
            ],
            [
             0.5555555555555556,
             "#d8576b"
            ],
            [
             0.6666666666666666,
             "#ed7953"
            ],
            [
             0.7777777777777778,
             "#fb9f3a"
            ],
            [
             0.8888888888888888,
             "#fdca26"
            ],
            [
             1,
             "#f0f921"
            ]
           ]
          },
          "colorway": [
           "#636efa",
           "#EF553B",
           "#00cc96",
           "#ab63fa",
           "#FFA15A",
           "#19d3f3",
           "#FF6692",
           "#B6E880",
           "#FF97FF",
           "#FECB52"
          ],
          "font": {
           "color": "#2a3f5f"
          },
          "geo": {
           "bgcolor": "white",
           "lakecolor": "white",
           "landcolor": "#E5ECF6",
           "showlakes": true,
           "showland": true,
           "subunitcolor": "white"
          },
          "hoverlabel": {
           "align": "left"
          },
          "hovermode": "closest",
          "mapbox": {
           "style": "light"
          },
          "paper_bgcolor": "white",
          "plot_bgcolor": "#E5ECF6",
          "polar": {
           "angularaxis": {
            "gridcolor": "white",
            "linecolor": "white",
            "ticks": ""
           },
           "bgcolor": "#E5ECF6",
           "radialaxis": {
            "gridcolor": "white",
            "linecolor": "white",
            "ticks": ""
           }
          },
          "scene": {
           "xaxis": {
            "backgroundcolor": "#E5ECF6",
            "gridcolor": "white",
            "gridwidth": 2,
            "linecolor": "white",
            "showbackground": true,
            "ticks": "",
            "zerolinecolor": "white"
           },
           "yaxis": {
            "backgroundcolor": "#E5ECF6",
            "gridcolor": "white",
            "gridwidth": 2,
            "linecolor": "white",
            "showbackground": true,
            "ticks": "",
            "zerolinecolor": "white"
           },
           "zaxis": {
            "backgroundcolor": "#E5ECF6",
            "gridcolor": "white",
            "gridwidth": 2,
            "linecolor": "white",
            "showbackground": true,
            "ticks": "",
            "zerolinecolor": "white"
           }
          },
          "shapedefaults": {
           "line": {
            "color": "#2a3f5f"
           }
          },
          "ternary": {
           "aaxis": {
            "gridcolor": "white",
            "linecolor": "white",
            "ticks": ""
           },
           "baxis": {
            "gridcolor": "white",
            "linecolor": "white",
            "ticks": ""
           },
           "bgcolor": "#E5ECF6",
           "caxis": {
            "gridcolor": "white",
            "linecolor": "white",
            "ticks": ""
           }
          },
          "title": {
           "x": 0.05
          },
          "xaxis": {
           "automargin": true,
           "gridcolor": "white",
           "linecolor": "white",
           "ticks": "",
           "title": {
            "standoff": 15
           },
           "zerolinecolor": "white",
           "zerolinewidth": 2
          },
          "yaxis": {
           "automargin": true,
           "gridcolor": "white",
           "linecolor": "white",
           "ticks": "",
           "title": {
            "standoff": 15
           },
           "zerolinecolor": "white",
           "zerolinewidth": 2
          }
         }
        }
       }
      },
      "image/png": "[encoded data removed]",
      "text/html": [
       "<div>                            <div id=\"2f4613af-3847-42ad-ad4c-8057a0271349\" class=\"plotly-graph-div\" style=\"height:525px; width:100%;\"></div>            <script type=\"text/javascript\">                require([\"plotly\"], function(Plotly) {                    window.PLOTLYENV=window.PLOTLYENV || {};                                    if (document.getElementById(\"2f4613af-3847-42ad-ad4c-8057a0271349\")) {                    Plotly.newPlot(                        \"2f4613af-3847-42ad-ad4c-8057a0271349\",                        [{\"branchvalues\":\"total\",\"customdata\":[[\"APAC\",\"Afghanistan\",21674.0,21674.0],[\"EMEA\",\"Albania\",3888.0,3888.0],[\"Africa\",\"Algeria\",36090.0,36090.0],[\"Africa\",\"Angola\",25551.0,25551.0],[\"LATAM\",\"Argentina\",57510.0,57510.0],[\"EMEA\",\"Armenia\",156.0,156.0],[\"APAC\",\"Australia\",925257.0,925257.0],[\"EMEA\",\"Austria\",11375.0,11375.0],[\"EU\",\"Austria\",81168.0,81168.0],[\"EMEA\",\"Azerbaijan\",5630.0,5630.0],[\"EMEA\",\"Bahrain\",669.0,669.0],[\"APAC\",\"Bangladesh\",78254.0,78254.0],[\"LATAM\",\"Barbados\",7175.0,7175.0],[\"EMEA\",\"Belarus\",13390.0,13390.0],[\"EU\",\"Belgium\",49233.0,49233.0],[\"Africa\",\"Benin\",6215.0,6215.0],[\"LATAM\",\"Bolivia\",11589.0,11589.0],[\"EMEA\",\"Bosnia and Herzegovina\",2600.0,2600.0],[\"LATAM\",\"Brazil\",361098.0,361098.0],[\"EMEA\",\"Bulgaria\",15560.0,15560.0],[\"Africa\",\"Burundi\",268.0,268.0],[\"APAC\",\"Cambodia\",17476.0,17476.0],[\"Africa\",\"Cameroon\",22355.0,22355.0],[\"Canada\",\"Canada\",66932.0,66932.0],[\"Africa\",\"Central African Republic\",2376.0,2376.0],[\"Africa\",\"Chad\",1317.0,1317.0],[\"LATAM\",\"Chile\",35449.0,35449.0],[\"APAC\",\"China\",700591.0,700591.0],[\"LATAM\",\"Colombia\",81508.0,81508.0],[\"Africa\",\"Cote d'Ivoire\",25615.0,25615.0],[\"EMEA\",\"Croatia\",4463.0,4463.0],[\"LATAM\",\"Cuba\",158861.0,158861.0],[\"EMEA\",\"Czech Republic\",9579.0,9579.0],[\"Africa\",\"Democratic Republic of the Congo\",87415.0,87415.0],[\"EU\",\"Denmark\",8643.0,8643.0],[\"Africa\",\"Djibouti\",2394.0,2394.0],[\"LATAM\",\"Dominican Republic\",126137.0,126137.0],[\"LATAM\",\"Ecuador\",13344.0,13344.0],[\"Africa\",\"Egypt\",84137.0,84137.0],[\"LATAM\",\"El Salvador\",177565.0,177565.0],[\"Africa\",\"Equatorial Guinea\",150.0,150.0],[\"Africa\",\"Eritrea\",188.0,188.0],[\"EMEA\",\"Estonia\",4479.0,4479.0],[\"Africa\",\"Ethiopia\",850.0,850.0],[\"EU\",\"Finland\",20702.0,20702.0],[\"EU\",\"France\",858930.0,858930.0],[\"Africa\",\"Gabon\",1752.0,1752.0],[\"EMEA\",\"Georgia\",5428.0,5428.0],[\"EU\",\"Germany\",628857.0,628857.0],[\"Africa\",\"Ghana\",23272.0,23272.0],[\"LATAM\",\"Guadeloupe\",1462.0,1462.0],[\"LATAM\",\"Guatemala\",131609.0,131609.0],[\"Africa\",\"Guinea\",3498.0,3498.0],[\"Africa\",\"Guinea-Bissau\",2065.0,2065.0],[\"LATAM\",\"Haiti\",11036.0,11036.0],[\"LATAM\",\"Honduras\",90137.0,90137.0],[\"APAC\",\"Hong Kong\",6148.0,6148.0],[\"EMEA\",\"Hungary\",14254.0,14254.0],[\"APAC\",\"India\",589664.0,589664.0],[\"APAC\",\"Indonesia\",404887.0,404887.0],[\"EMEA\",\"Iran\",113750.0,113750.0],[\"EMEA\",\"Iraq\",70730.0,70730.0],[\"EU\",\"Ireland\",16638.0,16638.0],[\"EMEA\",\"Israel\",19294.0,19294.0],[\"EU\",\"Italy\",289717.0,289717.0],[\"LATAM\",\"Jamaica\",6762.0,6762.0],[\"APAC\",\"Japan\",100789.0,100789.0],[\"EMEA\",\"Jordan\",7325.0,7325.0],[\"EMEA\",\"Kazakhstan\",4602.0,4602.0],[\"Africa\",\"Kenya\",17569.0,17569.0],[\"EMEA\",\"Kyrgyzstan\",5103.0,5103.0],[\"EMEA\",\"Lebanon\",2797.0,2797.0],[\"Africa\",\"Lesotho\",6712.0,6712.0],[\"Africa\",\"Liberia\",3561.0,3561.0],[\"Africa\",\"Libya\",7809.0,7809.0],[\"EMEA\",\"Lithuania\",6723.0,6723.0],[\"EMEA\",\"Macedonia\",210.0,210.0],[\"Africa\",\"Madagascar\",12618.0,12618.0],[\"APAC\",\"Malaysia\",61363.0,61363.0],[\"Africa\",\"Mali\",8915.0,8915.0],[\"LATAM\",\"Martinique\",5968.0,5968.0],[\"Africa\",\"Mauritania\",4020.0,4020.0],[\"LATAM\",\"Mexico\",622620.0,622620.0],[\"EMEA\",\"Moldova\",5139.0,5139.0],[\"APAC\",\"Mongolia\",40.0,40.0],[\"EMEA\",\"Mongolia\",6749.0,6749.0],[\"EMEA\",\"Montenegro\",4004.0,4004.0],[\"Africa\",\"Morocco\",87079.0,87079.0],[\"Africa\",\"Mozambique\",21302.0,21302.0],[\"APAC\",\"Myanmar (Burma)\",34144.0,34144.0],[\"Africa\",\"Namibia\",2899.0,2899.0],[\"APAC\",\"Nepal\",3522.0,3522.0],[\"EU\",\"Netherlands\",77520.0,77520.0],[\"APAC\",\"New Zealand\",172022.0,172022.0],[\"LATAM\",\"Nicaragua\",149694.0,149694.0],[\"Africa\",\"Niger\",6923.0,6923.0],[\"Africa\",\"Nigeria\",54347.0,54347.0],[\"EU\",\"Norway\",20529.0,20529.0],[\"APAC\",\"Pakistan\",58873.0,58873.0],[\"LATAM\",\"Panama\",51556.0,51556.0],[\"APAC\",\"Papua New Guinea\",2928.0,2928.0],[\"LATAM\",\"Paraguay\",2591.0,2591.0],[\"LATAM\",\"Peru\",17834.0,17834.0],[\"APAC\",\"Philippines\",183433.0,183433.0],[\"EMEA\",\"Poland\",44227.0,44227.0],[\"EU\",\"Portugal\",15106.0,15106.0],[\"EMEA\",\"Qatar\",6050.0,6050.0],[\"Africa\",\"Republic of the Congo\",2714.0,2714.0],[\"EMEA\",\"Romania\",37259.0,37259.0],[\"EMEA\",\"Russia\",82915.0,82915.0],[\"Africa\",\"Rwanda\",5197.0,5197.0],[\"EMEA\",\"Saudi Arabia\",82006.0,82006.0],[\"Africa\",\"Senegal\",28850.0,28850.0],[\"Africa\",\"Sierra Leone\",2449.0,2449.0],[\"APAC\",\"Singapore\",40285.0,40285.0],[\"EMEA\",\"Slovakia\",866.0,866.0],[\"EMEA\",\"Slovenia\",1469.0,1469.0],[\"Africa\",\"Somalia\",8185.0,8185.0],[\"Africa\",\"South Africa\",95301.0,95301.0],[\"APAC\",\"South Korea\",33133.0,33133.0],[\"Africa\",\"South Sudan\",1045.0,1045.0],[\"EU\",\"Spain\",287162.0,287162.0],[\"APAC\",\"Sri Lanka\",852.0,852.0],[\"Africa\",\"Sudan\",16336.0,16336.0],[\"Africa\",\"Swaziland\",288.0,288.0],[\"EU\",\"Sweden\",30490.0,30490.0],[\"EU\",\"Switzerland\",24874.0,24874.0],[\"EMEA\",\"Syria\",5309.0,5309.0],[\"APAC\",\"Taiwan\",7648.0,7648.0],[\"EMEA\",\"Tajikistan\",242.0,242.0],[\"Africa\",\"Tanzania\",26816.0,26816.0],[\"APAC\",\"Thailand\",77048.0,77048.0],[\"Africa\",\"Togo\",4150.0,4150.0],[\"LATAM\",\"Trinidad and Tobago\",6880.0,6880.0],[\"Africa\",\"Tunisia\",1762.0,1762.0],[\"EMEA\",\"Turkey\",108524.0,108524.0],[\"EMEA\",\"Turkmenistan\",2029.0,2029.0],[\"Africa\",\"Uganda\",1625.0,1625.0],[\"EMEA\",\"Ukraine\",86855.0,86855.0],[\"EMEA\",\"United Arab Emirates\",742.0,742.0],[\"EU\",\"United Kingdom\",528570.0,528570.0],[\"US\",\"United States\",2297354.0,2297354.0],[\"LATAM\",\"Uruguay\",9715.0,9715.0],[\"EMEA\",\"Uzbekistan\",7330.0,7330.0],[\"LATAM\",\"Venezuela\",26587.0,26587.0],[\"APAC\",\"Vietnam\",65802.0,65802.0],[\"EMEA\",\"Yemen\",2464.0,2464.0],[\"Africa\",\"Zambia\",26029.0,26029.0],[\"Africa\",\"Zimbabwe\",3767.0,3767.0],[\"APAC\",\"(?)\",546696.9958983031,546696.9958983031],[\"Africa\",\"(?)\",53456.39793512432,53456.39793512432],[\"Canada\",\"Canada\",66932.0,66932.0],[\"EMEA\",\"(?)\",69367.31168318895,69367.31168318895],[\"EU\",\"(?)\",543543.2557292217,543543.2557292217],[\"LATAM\",\"(?)\",302208.1699696076,302208.1699696076],[\"US\",\"United States\",2297354.0,2297354.0]],\"domain\":{\"x\":[0.0,1.0],\"y\":[0.0,1.0]},\"hovertemplate\":\"labels=%{label}\\u003cbr\\u003eSales_sum=%{value}\\u003cbr\\u003eparent=%{parent}\\u003cbr\\u003eid=%{id}\\u003cbr\\u003eMarket=%{customdata[0]}\\u003cbr\\u003eCountry=%{customdata[1]}\\u003cbr\\u003eSales=%{color}\\u003cextra\\u003e\\u003c\\u002fextra\\u003e\",\"ids\":[\"APAC\\u002fAfghanistan\",\"EMEA\\u002fAlbania\",\"Africa\\u002fAlgeria\",\"Africa\\u002fAngola\",\"LATAM\\u002fArgentina\",\"EMEA\\u002fArmenia\",\"APAC\\u002fAustralia\",\"EMEA\\u002fAustria\",\"EU\\u002fAustria\",\"EMEA\\u002fAzerbaijan\",\"EMEA\\u002fBahrain\",\"APAC\\u002fBangladesh\",\"LATAM\\u002fBarbados\",\"EMEA\\u002fBelarus\",\"EU\\u002fBelgium\",\"Africa\\u002fBenin\",\"LATAM\\u002fBolivia\",\"EMEA\\u002fBosnia and Herzegovina\",\"LATAM\\u002fBrazil\",\"EMEA\\u002fBulgaria\",\"Africa\\u002fBurundi\",\"APAC\\u002fCambodia\",\"Africa\\u002fCameroon\",\"Canada\\u002fCanada\",\"Africa\\u002fCentral African Republic\",\"Africa\\u002fChad\",\"LATAM\\u002fChile\",\"APAC\\u002fChina\",\"LATAM\\u002fColombia\",\"Africa\\u002fCote d'Ivoire\",\"EMEA\\u002fCroatia\",\"LATAM\\u002fCuba\",\"EMEA\\u002fCzech Republic\",\"Africa\\u002fDemocratic Republic of the Congo\",\"EU\\u002fDenmark\",\"Africa\\u002fDjibouti\",\"LATAM\\u002fDominican Republic\",\"LATAM\\u002fEcuador\",\"Africa\\u002fEgypt\",\"LATAM\\u002fEl Salvador\",\"Africa\\u002fEquatorial Guinea\",\"Africa\\u002fEritrea\",\"EMEA\\u002fEstonia\",\"Africa\\u002fEthiopia\",\"EU\\u002fFinland\",\"EU\\u002fFrance\",\"Africa\\u002fGabon\",\"EMEA\\u002fGeorgia\",\"EU\\u002fGermany\",\"Africa\\u002fGhana\",\"LATAM\\u002fGuadeloupe\",\"LATAM\\u002fGuatemala\",\"Africa\\u002fGuinea\",\"Africa\\u002fGuinea-Bissau\",\"LATAM\\u002fHaiti\",\"LATAM\\u002fHonduras\",\"APAC\\u002fHong Kong\",\"EMEA\\u002fHungary\",\"APAC\\u002fIndia\",\"APAC\\u002fIndonesia\",\"EMEA\\u002fIran\",\"EMEA\\u002fIraq\",\"EU\\u002fIreland\",\"EMEA\\u002fIsrael\",\"EU\\u002fItaly\",\"LATAM\\u002fJamaica\",\"APAC\\u002fJapan\",\"EMEA\\u002fJordan\",\"EMEA\\u002fKazakhstan\",\"Africa\\u002fKenya\",\"EMEA\\u002fKyrgyzstan\",\"EMEA\\u002fLebanon\",\"Africa\\u002fLesotho\",\"Africa\\u002fLiberia\",\"Africa\\u002fLibya\",\"EMEA\\u002fLithuania\",\"EMEA\\u002fMacedonia\",\"Africa\\u002fMadagascar\",\"APAC\\u002fMalaysia\",\"Africa\\u002fMali\",\"LATAM\\u002fMartinique\",\"Africa\\u002fMauritania\",\"LATAM\\u002fMexico\",\"EMEA\\u002fMoldova\",\"APAC\\u002fMongolia\",\"EMEA\\u002fMongolia\",\"EMEA\\u002fMontenegro\",\"Africa\\u002fMorocco\",\"Africa\\u002fMozambique\",\"APAC\\u002fMyanmar (Burma)\",\"Africa\\u002fNamibia\",\"APAC\\u002fNepal\",\"EU\\u002fNetherlands\",\"APAC\\u002fNew Zealand\",\"LATAM\\u002fNicaragua\",\"Africa\\u002fNiger\",\"Africa\\u002fNigeria\",\"EU\\u002fNorway\",\"APAC\\u002fPakistan\",\"LATAM\\u002fPanama\",\"APAC\\u002fPapua New Guinea\",\"LATAM\\u002fParaguay\",\"LATAM\\u002fPeru\",\"APAC\\u002fPhilippines\",\"EMEA\\u002fPoland\",\"EU\\u002fPortugal\",\"EMEA\\u002fQatar\",\"Africa\\u002fRepublic of the Congo\",\"EMEA\\u002fRomania\",\"EMEA\\u002fRussia\",\"Africa\\u002fRwanda\",\"EMEA\\u002fSaudi Arabia\",\"Africa\\u002fSenegal\",\"Africa\\u002fSierra Leone\",\"APAC\\u002fSingapore\",\"EMEA\\u002fSlovakia\",\"EMEA\\u002fSlovenia\",\"Africa\\u002fSomalia\",\"Africa\\u002fSouth Africa\",\"APAC\\u002fSouth Korea\",\"Africa\\u002fSouth Sudan\",\"EU\\u002fSpain\",\"APAC\\u002fSri Lanka\",\"Africa\\u002fSudan\",\"Africa\\u002fSwaziland\",\"EU\\u002fSweden\",\"EU\\u002fSwitzerland\",\"EMEA\\u002fSyria\",\"APAC\\u002fTaiwan\",\"EMEA\\u002fTajikistan\",\"Africa\\u002fTanzania\",\"APAC\\u002fThailand\",\"Africa\\u002fTogo\",\"LATAM\\u002fTrinidad and Tobago\",\"Africa\\u002fTunisia\",\"EMEA\\u002fTurkey\",\"EMEA\\u002fTurkmenistan\",\"Africa\\u002fUganda\",\"EMEA\\u002fUkraine\",\"EMEA\\u002fUnited Arab Emirates\",\"EU\\u002fUnited Kingdom\",\"US\\u002fUnited States\",\"LATAM\\u002fUruguay\",\"EMEA\\u002fUzbekistan\",\"LATAM\\u002fVenezuela\",\"APAC\\u002fVietnam\",\"EMEA\\u002fYemen\",\"Africa\\u002fZambia\",\"Africa\\u002fZimbabwe\",\"APAC\",\"Africa\",\"Canada\",\"EMEA\",\"EU\",\"LATAM\",\"US\"],\"labels\":[\"Afghanistan\",\"Albania\",\"Algeria\",\"Angola\",\"Argentina\",\"Armenia\",\"Australia\",\"Austria\",\"Austria\",\"Azerbaijan\",\"Bahrain\",\"Bangladesh\",\"Barbados\",\"Belarus\",\"Belgium\",\"Benin\",\"Bolivia\",\"Bosnia and Herzegovina\",\"Brazil\",\"Bulgaria\",\"Burundi\",\"Cambodia\",\"Cameroon\",\"Canada\",\"Central African Republic\",\"Chad\",\"Chile\",\"China\",\"Colombia\",\"Cote d'Ivoire\",\"Croatia\",\"Cuba\",\"Czech Republic\",\"Democratic Republic of the Congo\",\"Denmark\",\"Djibouti\",\"Dominican Republic\",\"Ecuador\",\"Egypt\",\"El Salvador\",\"Equatorial Guinea\",\"Eritrea\",\"Estonia\",\"Ethiopia\",\"Finland\",\"France\",\"Gabon\",\"Georgia\",\"Germany\",\"Ghana\",\"Guadeloupe\",\"Guatemala\",\"Guinea\",\"Guinea-Bissau\",\"Haiti\",\"Honduras\",\"Hong Kong\",\"Hungary\",\"India\",\"Indonesia\",\"Iran\",\"Iraq\",\"Ireland\",\"Israel\",\"Italy\",\"Jamaica\",\"Japan\",\"Jordan\",\"Kazakhstan\",\"Kenya\",\"Kyrgyzstan\",\"Lebanon\",\"Lesotho\",\"Liberia\",\"Libya\",\"Lithuania\",\"Macedonia\",\"Madagascar\",\"Malaysia\",\"Mali\",\"Martinique\",\"Mauritania\",\"Mexico\",\"Moldova\",\"Mongolia\",\"Mongolia\",\"Montenegro\",\"Morocco\",\"Mozambique\",\"Myanmar (Burma)\",\"Namibia\",\"Nepal\",\"Netherlands\",\"New Zealand\",\"Nicaragua\",\"Niger\",\"Nigeria\",\"Norway\",\"Pakistan\",\"Panama\",\"Papua New Guinea\",\"Paraguay\",\"Peru\",\"Philippines\",\"Poland\",\"Portugal\",\"Qatar\",\"Republic of the Congo\",\"Romania\",\"Russia\",\"Rwanda\",\"Saudi Arabia\",\"Senegal\",\"Sierra Leone\",\"Singapore\",\"Slovakia\",\"Slovenia\",\"Somalia\",\"South Africa\",\"South Korea\",\"South Sudan\",\"Spain\",\"Sri Lanka\",\"Sudan\",\"Swaziland\",\"Sweden\",\"Switzerland\",\"Syria\",\"Taiwan\",\"Tajikistan\",\"Tanzania\",\"Thailand\",\"Togo\",\"Trinidad and Tobago\",\"Tunisia\",\"Turkey\",\"Turkmenistan\",\"Uganda\",\"Ukraine\",\"United Arab Emirates\",\"United Kingdom\",\"United States\",\"Uruguay\",\"Uzbekistan\",\"Venezuela\",\"Vietnam\",\"Yemen\",\"Zambia\",\"Zimbabwe\",\"APAC\",\"Africa\",\"Canada\",\"EMEA\",\"EU\",\"LATAM\",\"US\"],\"marker\":{\"coloraxis\":\"coloraxis\",\"colors\":[21674.0,3888.0,36090.0,25551.0,57510.0,156.0,925257.0,11375.0,81168.0,5630.0,669.0,78254.0,7175.0,13390.0,49233.0,6215.0,11589.0,2600.0,361098.0,15560.0,268.0,17476.0,22355.0,66932.0,2376.0,1317.0,35449.0,700591.0,81508.0,25615.0,4463.0,158861.0,9579.0,87415.0,8643.0,2394.0,126137.0,13344.0,84137.0,177565.0,150.0,188.0,4479.0,850.0,20702.0,858930.0,1752.0,5428.0,628857.0,23272.0,1462.0,131609.0,3498.0,2065.0,11036.0,90137.0,6148.0,14254.0,589664.0,404887.0,113750.0,70730.0,16638.0,19294.0,289717.0,6762.0,100789.0,7325.0,4602.0,17569.0,5103.0,2797.0,6712.0,3561.0,7809.0,6723.0,210.0,12618.0,61363.0,8915.0,5968.0,4020.0,622620.0,5139.0,40.0,6749.0,4004.0,87079.0,21302.0,34144.0,2899.0,3522.0,77520.0,172022.0,149694.0,6923.0,54347.0,20529.0,58873.0,51556.0,2928.0,2591.0,17834.0,183433.0,44227.0,15106.0,6050.0,2714.0,37259.0,82915.0,5197.0,82006.0,28850.0,2449.0,40285.0,866.0,1469.0,8185.0,95301.0,33133.0,1045.0,287162.0,852.0,16336.0,288.0,30490.0,24874.0,5309.0,7648.0,242.0,26816.0,77048.0,4150.0,6880.0,1762.0,108524.0,2029.0,1625.0,86855.0,742.0,528570.0,2297354.0,9715.0,7330.0,26587.0,65802.0,2464.0,26029.0,3767.0,546696.9958983031,53456.39793512432,66932.0,69367.31168318895,543543.2557292217,302208.1699696076,2297354.0]},\"name\":\"\",\"parents\":[\"APAC\",\"EMEA\",\"Africa\",\"Africa\",\"LATAM\",\"EMEA\",\"APAC\",\"EMEA\",\"EU\",\"EMEA\",\"EMEA\",\"APAC\",\"LATAM\",\"EMEA\",\"EU\",\"Africa\",\"LATAM\",\"EMEA\",\"LATAM\",\"EMEA\",\"Africa\",\"APAC\",\"Africa\",\"Canada\",\"Africa\",\"Africa\",\"LATAM\",\"APAC\",\"LATAM\",\"Africa\",\"EMEA\",\"LATAM\",\"EMEA\",\"Africa\",\"EU\",\"Africa\",\"LATAM\",\"LATAM\",\"Africa\",\"LATAM\",\"Africa\",\"Africa\",\"EMEA\",\"Africa\",\"EU\",\"EU\",\"Africa\",\"EMEA\",\"EU\",\"Africa\",\"LATAM\",\"LATAM\",\"Africa\",\"Africa\",\"LATAM\",\"LATAM\",\"APAC\",\"EMEA\",\"APAC\",\"APAC\",\"EMEA\",\"EMEA\",\"EU\",\"EMEA\",\"EU\",\"LATAM\",\"APAC\",\"EMEA\",\"EMEA\",\"Africa\",\"EMEA\",\"EMEA\",\"Africa\",\"Africa\",\"Africa\",\"EMEA\",\"EMEA\",\"Africa\",\"APAC\",\"Africa\",\"LATAM\",\"Africa\",\"LATAM\",\"EMEA\",\"APAC\",\"EMEA\",\"EMEA\",\"Africa\",\"Africa\",\"APAC\",\"Africa\",\"APAC\",\"EU\",\"APAC\",\"LATAM\",\"Africa\",\"Africa\",\"EU\",\"APAC\",\"LATAM\",\"APAC\",\"LATAM\",\"LATAM\",\"APAC\",\"EMEA\",\"EU\",\"EMEA\",\"Africa\",\"EMEA\",\"EMEA\",\"Africa\",\"EMEA\",\"Africa\",\"Africa\",\"APAC\",\"EMEA\",\"EMEA\",\"Africa\",\"Africa\",\"APAC\",\"Africa\",\"EU\",\"APAC\",\"Africa\",\"Africa\",\"EU\",\"EU\",\"EMEA\",\"APAC\",\"EMEA\",\"Africa\",\"APAC\",\"Africa\",\"LATAM\",\"Africa\",\"EMEA\",\"EMEA\",\"Africa\",\"EMEA\",\"EMEA\",\"EU\",\"US\",\"LATAM\",\"EMEA\",\"LATAM\",\"APAC\",\"EMEA\",\"Africa\",\"Africa\",\"\",\"\",\"\",\"\",\"\",\"\",\"\"],\"values\":[21674,3888,36090,25551,57510,156,925257,11375,81168,5630,669,78254,7175,13390,49233,6215,11589,2600,361098,15560,268,17476,22355,66932,2376,1317,35449,700591,81508,25615,4463,158861,9579,87415,8643,2394,126137,13344,84137,177565,150,188,4479,850,20702,858930,1752,5428,628857,23272,1462,131609,3498,2065,11036,90137,6148,14254,589664,404887,113750,70730,16638,19294,289717,6762,100789,7325,4602,17569,5103,2797,6712,3561,7809,6723,210,12618,61363,8915,5968,4020,622620,5139,40,6749,4004,87079,21302,34144,2899,3522,77520,172022,149694,6923,54347,20529,58873,51556,2928,2591,17834,183433,44227,15106,6050,2714,37259,82915,5197,82006,28850,2449,40285,866,1469,8185,95301,33133,1045,287162,852,16336,288,30490,24874,5309,7648,242,26816,77048,4150,6880,1762,108524,2029,1625,86855,742,528570,2297354,9715,7330,26587,65802,2464,26029,3767,3585833,783776,66932,806184,2938139,2164687,2297354],\"type\":\"treemap\"}],                        {\"template\":{\"data\":{\"histogram2dcontour\":[{\"type\":\"histogram2dcontour\",\"colorbar\":{\"outlinewidth\":0,\"ticks\":\"\"},\"colorscale\":[[0.0,\"#0d0887\"],[0.1111111111111111,\"#46039f\"],[0.2222222222222222,\"#7201a8\"],[0.3333333333333333,\"#9c179e\"],[0.4444444444444444,\"#bd3786\"],[0.5555555555555556,\"#d8576b\"],[0.6666666666666666,\"#ed7953\"],[0.7777777777777778,\"#fb9f3a\"],[0.8888888888888888,\"#fdca26\"],[1.0,\"#f0f921\"]]}],\"choropleth\":[{\"type\":\"choropleth\",\"colorbar\":{\"outlinewidth\":0,\"ticks\":\"\"}}],\"histogram2d\":[{\"type\":\"histogram2d\",\"colorbar\":{\"outlinewidth\":0,\"ticks\":\"\"},\"colorscale\":[[0.0,\"#0d0887\"],[0.1111111111111111,\"#46039f\"],[0.2222222222222222,\"#7201a8\"],[0.3333333333333333,\"#9c179e\"],[0.4444444444444444,\"#bd3786\"],[0.5555555555555556,\"#d8576b\"],[0.6666666666666666,\"#ed7953\"],[0.7777777777777778,\"#fb9f3a\"],[0.8888888888888888,\"#fdca26\"],[1.0,\"#f0f921\"]]}],\"heatmap\":[{\"type\":\"heatmap\",\"colorbar\":{\"outlinewidth\":0,\"ticks\":\"\"},\"colorscale\":[[0.0,\"#0d0887\"],[0.1111111111111111,\"#46039f\"],[0.2222222222222222,\"#7201a8\"],[0.3333333333333333,\"#9c179e\"],[0.4444444444444444,\"#bd3786\"],[0.5555555555555556,\"#d8576b\"],[0.6666666666666666,\"#ed7953\"],[0.7777777777777778,\"#fb9f3a\"],[0.8888888888888888,\"#fdca26\"],[1.0,\"#f0f921\"]]}],\"heatmapgl\":[{\"type\":\"heatmapgl\",\"colorbar\":{\"outlinewidth\":0,\"ticks\":\"\"},\"colorscale\":[[0.0,\"#0d0887\"],[0.1111111111111111,\"#46039f\"],[0.2222222222222222,\"#7201a8\"],[0.3333333333333333,\"#9c179e\"],[0.4444444444444444,\"#bd3786\"],[0.5555555555555556,\"#d8576b\"],[0.6666666666666666,\"#ed7953\"],[0.7777777777777778,\"#fb9f3a\"],[0.8888888888888888,\"#fdca26\"],[1.0,\"#f0f921\"]]}],\"contourcarpet\":[{\"type\":\"contourcarpet\",\"colorbar\":{\"outlinewidth\":0,\"ticks\":\"\"}}],\"contour\":[{\"type\":\"contour\",\"colorbar\":{\"outlinewidth\":0,\"ticks\":\"\"},\"colorscale\":[[0.0,\"#0d0887\"],[0.1111111111111111,\"#46039f\"],[0.2222222222222222,\"#7201a8\"],[0.3333333333333333,\"#9c179e\"],[0.4444444444444444,\"#bd3786\"],[0.5555555555555556,\"#d8576b\"],[0.6666666666666666,\"#ed7953\"],[0.7777777777777778,\"#fb9f3a\"],[0.8888888888888888,\"#fdca26\"],[1.0,\"#f0f921\"]]}],\"surface\":[{\"type\":\"surface\",\"colorbar\":{\"outlinewidth\":0,\"ticks\":\"\"},\"colorscale\":[[0.0,\"#0d0887\"],[0.1111111111111111,\"#46039f\"],[0.2222222222222222,\"#7201a8\"],[0.3333333333333333,\"#9c179e\"],[0.4444444444444444,\"#bd3786\"],[0.5555555555555556,\"#d8576b\"],[0.6666666666666666,\"#ed7953\"],[0.7777777777777778,\"#fb9f3a\"],[0.8888888888888888,\"#fdca26\"],[1.0,\"#f0f921\"]]}],\"mesh3d\":[{\"type\":\"mesh3d\",\"colorbar\":{\"outlinewidth\":0,\"ticks\":\"\"}}],\"scatter\":[{\"fillpattern\":{\"fillmode\":\"overlay\",\"size\":10,\"solidity\":0.2},\"type\":\"scatter\"}],\"parcoords\":[{\"type\":\"parcoords\",\"line\":{\"colorbar\":{\"outlinewidth\":0,\"ticks\":\"\"}}}],\"scatterpolargl\":[{\"type\":\"scatterpolargl\",\"marker\":{\"colorbar\":{\"outlinewidth\":0,\"ticks\":\"\"}}}],\"bar\":[{\"error_x\":{\"color\":\"#2a3f5f\"},\"error_y\":{\"color\":\"#2a3f5f\"},\"marker\":{\"line\":{\"color\":\"#E5ECF6\",\"width\":0.5},\"pattern\":{\"fillmode\":\"overlay\",\"size\":10,\"solidity\":0.2}},\"type\":\"bar\"}],\"scattergeo\":[{\"type\":\"scattergeo\",\"marker\":{\"colorbar\":{\"outlinewidth\":0,\"ticks\":\"\"}}}],\"scatterpolar\":[{\"type\":\"scatterpolar\",\"marker\":{\"colorbar\":{\"outlinewidth\":0,\"ticks\":\"\"}}}],\"histogram\":[{\"marker\":{\"pattern\":{\"fillmode\":\"overlay\",\"size\":10,\"solidity\":0.2}},\"type\":\"histogram\"}],\"scattergl\":[{\"type\":\"scattergl\",\"marker\":{\"colorbar\":{\"outlinewidth\":0,\"ticks\":\"\"}}}],\"scatter3d\":[{\"type\":\"scatter3d\",\"line\":{\"colorbar\":{\"outlinewidth\":0,\"ticks\":\"\"}},\"marker\":{\"colorbar\":{\"outlinewidth\":0,\"ticks\":\"\"}}}],\"scattermapbox\":[{\"type\":\"scattermapbox\",\"marker\":{\"colorbar\":{\"outlinewidth\":0,\"ticks\":\"\"}}}],\"scatterternary\":[{\"type\":\"scatterternary\",\"marker\":{\"colorbar\":{\"outlinewidth\":0,\"ticks\":\"\"}}}],\"scattercarpet\":[{\"type\":\"scattercarpet\",\"marker\":{\"colorbar\":{\"outlinewidth\":0,\"ticks\":\"\"}}}],\"carpet\":[{\"aaxis\":{\"endlinecolor\":\"#2a3f5f\",\"gridcolor\":\"white\",\"linecolor\":\"white\",\"minorgridcolor\":\"white\",\"startlinecolor\":\"#2a3f5f\"},\"baxis\":{\"endlinecolor\":\"#2a3f5f\",\"gridcolor\":\"white\",\"linecolor\":\"white\",\"minorgridcolor\":\"white\",\"startlinecolor\":\"#2a3f5f\"},\"type\":\"carpet\"}],\"table\":[{\"cells\":{\"fill\":{\"color\":\"#EBF0F8\"},\"line\":{\"color\":\"white\"}},\"header\":{\"fill\":{\"color\":\"#C8D4E3\"},\"line\":{\"color\":\"white\"}},\"type\":\"table\"}],\"barpolar\":[{\"marker\":{\"line\":{\"color\":\"#E5ECF6\",\"width\":0.5},\"pattern\":{\"fillmode\":\"overlay\",\"size\":10,\"solidity\":0.2}},\"type\":\"barpolar\"}],\"pie\":[{\"automargin\":true,\"type\":\"pie\"}]},\"layout\":{\"autotypenumbers\":\"strict\",\"colorway\":[\"#636efa\",\"#EF553B\",\"#00cc96\",\"#ab63fa\",\"#FFA15A\",\"#19d3f3\",\"#FF6692\",\"#B6E880\",\"#FF97FF\",\"#FECB52\"],\"font\":{\"color\":\"#2a3f5f\"},\"hovermode\":\"closest\",\"hoverlabel\":{\"align\":\"left\"},\"paper_bgcolor\":\"white\",\"plot_bgcolor\":\"#E5ECF6\",\"polar\":{\"bgcolor\":\"#E5ECF6\",\"angularaxis\":{\"gridcolor\":\"white\",\"linecolor\":\"white\",\"ticks\":\"\"},\"radialaxis\":{\"gridcolor\":\"white\",\"linecolor\":\"white\",\"ticks\":\"\"}},\"ternary\":{\"bgcolor\":\"#E5ECF6\",\"aaxis\":{\"gridcolor\":\"white\",\"linecolor\":\"white\",\"ticks\":\"\"},\"baxis\":{\"gridcolor\":\"white\",\"linecolor\":\"white\",\"ticks\":\"\"},\"caxis\":{\"gridcolor\":\"white\",\"linecolor\":\"white\",\"ticks\":\"\"}},\"coloraxis\":{\"colorbar\":{\"outlinewidth\":0,\"ticks\":\"\"}},\"colorscale\":{\"sequential\":[[0.0,\"#0d0887\"],[0.1111111111111111,\"#46039f\"],[0.2222222222222222,\"#7201a8\"],[0.3333333333333333,\"#9c179e\"],[0.4444444444444444,\"#bd3786\"],[0.5555555555555556,\"#d8576b\"],[0.6666666666666666,\"#ed7953\"],[0.7777777777777778,\"#fb9f3a\"],[0.8888888888888888,\"#fdca26\"],[1.0,\"#f0f921\"]],\"sequentialminus\":[[0.0,\"#0d0887\"],[0.1111111111111111,\"#46039f\"],[0.2222222222222222,\"#7201a8\"],[0.3333333333333333,\"#9c179e\"],[0.4444444444444444,\"#bd3786\"],[0.5555555555555556,\"#d8576b\"],[0.6666666666666666,\"#ed7953\"],[0.7777777777777778,\"#fb9f3a\"],[0.8888888888888888,\"#fdca26\"],[1.0,\"#f0f921\"]],\"diverging\":[[0,\"#8e0152\"],[0.1,\"#c51b7d\"],[0.2,\"#de77ae\"],[0.3,\"#f1b6da\"],[0.4,\"#fde0ef\"],[0.5,\"#f7f7f7\"],[0.6,\"#e6f5d0\"],[0.7,\"#b8e186\"],[0.8,\"#7fbc41\"],[0.9,\"#4d9221\"],[1,\"#276419\"]]},\"xaxis\":{\"gridcolor\":\"white\",\"linecolor\":\"white\",\"ticks\":\"\",\"title\":{\"standoff\":15},\"zerolinecolor\":\"white\",\"automargin\":true,\"zerolinewidth\":2},\"yaxis\":{\"gridcolor\":\"white\",\"linecolor\":\"white\",\"ticks\":\"\",\"title\":{\"standoff\":15},\"zerolinecolor\":\"white\",\"automargin\":true,\"zerolinewidth\":2},\"scene\":{\"xaxis\":{\"backgroundcolor\":\"#E5ECF6\",\"gridcolor\":\"white\",\"linecolor\":\"white\",\"showbackground\":true,\"ticks\":\"\",\"zerolinecolor\":\"white\",\"gridwidth\":2},\"yaxis\":{\"backgroundcolor\":\"#E5ECF6\",\"gridcolor\":\"white\",\"linecolor\":\"white\",\"showbackground\":true,\"ticks\":\"\",\"zerolinecolor\":\"white\",\"gridwidth\":2},\"zaxis\":{\"backgroundcolor\":\"#E5ECF6\",\"gridcolor\":\"white\",\"linecolor\":\"white\",\"showbackground\":true,\"ticks\":\"\",\"zerolinecolor\":\"white\",\"gridwidth\":2}},\"shapedefaults\":{\"line\":{\"color\":\"#2a3f5f\"}},\"annotationdefaults\":{\"arrowcolor\":\"#2a3f5f\",\"arrowhead\":0,\"arrowwidth\":1},\"geo\":{\"bgcolor\":\"white\",\"landcolor\":\"#E5ECF6\",\"subunitcolor\":\"white\",\"showland\":true,\"showlakes\":true,\"lakecolor\":\"white\"},\"title\":{\"x\":0.05},\"mapbox\":{\"style\":\"light\"}}},\"coloraxis\":{\"colorbar\":{\"title\":{\"text\":\"Sales\"}},\"colorscale\":[[0.0,\"rgb(103,0,31)\"],[0.1,\"rgb(178,24,43)\"],[0.2,\"rgb(214,96,77)\"],[0.3,\"rgb(244,165,130)\"],[0.4,\"rgb(253,219,199)\"],[0.5,\"rgb(247,247,247)\"],[0.6,\"rgb(209,229,240)\"],[0.7,\"rgb(146,197,222)\"],[0.8,\"rgb(67,147,195)\"],[0.9,\"rgb(33,102,172)\"],[1.0,\"rgb(5,48,97)\"]]},\"legend\":{\"tracegroupgap\":0},\"margin\":{\"t\":50,\"l\":25,\"r\":25,\"b\":25}},                        {\"responsive\": true}                    ).then(function(){\n",
       "                            \n",
       "var gd = document.getElementById('2f4613af-3847-42ad-ad4c-8057a0271349');\n",
       "var x = new MutationObserver(function (mutations, observer) {{\n",
       "        var display = window.getComputedStyle(gd).display;\n",
       "        if (!display || display === 'none') {{\n",
       "            console.log([gd, 'removed!']);\n",
       "            Plotly.purge(gd);\n",
       "            observer.disconnect();\n",
       "        }}\n",
       "}});\n",
       "\n",
       "// Listen for the removal of the full notebook cells\n",
       "var notebookContainer = gd.closest('#notebook-container');\n",
       "if (notebookContainer) {{\n",
       "    x.observe(notebookContainer, {childList: true});\n",
       "}}\n",
       "\n",
       "// Listen for the clearing of the current output cell\n",
       "var outputEl = gd.closest('.output');\n",
       "if (outputEl) {{\n",
       "    x.observe(outputEl, {childList: true});\n",
       "}}\n",
       "\n",
       "                        })                };                });            </script>        </div>"
      ]
     },
     "metadata": {},
     "output_type": "display_data"
    }
   ],
   "source": [
    "#판매액 기준 트리맵 - 미국 포함 \n",
    "import plotly.express as px\n",
    "import numpy as np\n",
    "temp = df[['Market','Country','Sales']].groupby(['Market','Country'])['Sales'].sum().reset_index()\n",
    "fig = px.treemap(temp,path=['Market','Country'], values='Sales',\n",
    "                  color='Sales', hover_data=['Market','Country','Sales'], color_continuous_scale='RdBu')\n",
    "\n",
    "fig.update_layout(margin = dict(t=50, l=25, r=25, b=25))\n",
    "#color_discrete_sequence = px.colors.qualitative.Plotly)fig.data[0].textinfo = 'label+text+value'fig.show()"
   ]
  },
  {
   "cell_type": "code",
   "execution_count": 186,
   "id": "eb97b2a8-1625-4e03-a778-5dc3278fefec",
   "metadata": {
    "scrolled": true
   },
   "outputs": [
    {
     "data": {
      "application/vnd.plotly.v1+json": {
       "config": {
        "plotlyServerURL": "https://plot.ly"
       },
       "data": [
        {
         "branchvalues": "total",
         "customdata": [
          [
           "APAC",
           "Afghanistan",
           21674,
           21674
          ],
          [
           "EMEA",
           "Albania",
           3888,
           3888
          ],
          [
           "Africa",
           "Algeria",
           36090,
           36090
          ],
          [
           "Africa",
           "Angola",
           25551,
           25551
          ],
          [
           "LATAM",
           "Argentina",
           57510,
           57510
          ],
          [
           "EMEA",
           "Armenia",
           156,
           156
          ],
          [
           "APAC",
           "Australia",
           925257,
           925257
          ],
          [
           "EMEA",
           "Austria",
           11375,
           11375
          ],
          [
           "EU",
           "Austria",
           81168,
           81168
          ],
          [
           "EMEA",
           "Azerbaijan",
           5630,
           5630
          ],
          [
           "EMEA",
           "Bahrain",
           669,
           669
          ],
          [
           "APAC",
           "Bangladesh",
           78254,
           78254
          ],
          [
           "LATAM",
           "Barbados",
           7175,
           7175
          ],
          [
           "EMEA",
           "Belarus",
           13390,
           13390
          ],
          [
           "EU",
           "Belgium",
           49233,
           49233
          ],
          [
           "Africa",
           "Benin",
           6215,
           6215
          ],
          [
           "LATAM",
           "Bolivia",
           11589,
           11589
          ],
          [
           "EMEA",
           "Bosnia and Herzegovina",
           2600,
           2600
          ],
          [
           "LATAM",
           "Brazil",
           361098,
           361098
          ],
          [
           "EMEA",
           "Bulgaria",
           15560,
           15560
          ],
          [
           "Africa",
           "Burundi",
           268,
           268
          ],
          [
           "APAC",
           "Cambodia",
           17476,
           17476
          ],
          [
           "Africa",
           "Cameroon",
           22355,
           22355
          ],
          [
           "Canada",
           "Canada",
           66932,
           66932
          ],
          [
           "Africa",
           "Central African Republic",
           2376,
           2376
          ],
          [
           "Africa",
           "Chad",
           1317,
           1317
          ],
          [
           "LATAM",
           "Chile",
           35449,
           35449
          ],
          [
           "APAC",
           "China",
           700591,
           700591
          ],
          [
           "LATAM",
           "Colombia",
           81508,
           81508
          ],
          [
           "Africa",
           "Cote d'Ivoire",
           25615,
           25615
          ],
          [
           "EMEA",
           "Croatia",
           4463,
           4463
          ],
          [
           "LATAM",
           "Cuba",
           158861,
           158861
          ],
          [
           "EMEA",
           "Czech Republic",
           9579,
           9579
          ],
          [
           "Africa",
           "Democratic Republic of the Congo",
           87415,
           87415
          ],
          [
           "EU",
           "Denmark",
           8643,
           8643
          ],
          [
           "Africa",
           "Djibouti",
           2394,
           2394
          ],
          [
           "LATAM",
           "Dominican Republic",
           126137,
           126137
          ],
          [
           "LATAM",
           "Ecuador",
           13344,
           13344
          ],
          [
           "Africa",
           "Egypt",
           84137,
           84137
          ],
          [
           "LATAM",
           "El Salvador",
           177565,
           177565
          ],
          [
           "Africa",
           "Equatorial Guinea",
           150,
           150
          ],
          [
           "Africa",
           "Eritrea",
           188,
           188
          ],
          [
           "EMEA",
           "Estonia",
           4479,
           4479
          ],
          [
           "Africa",
           "Ethiopia",
           850,
           850
          ],
          [
           "EU",
           "Finland",
           20702,
           20702
          ],
          [
           "EU",
           "France",
           858930,
           858930
          ],
          [
           "Africa",
           "Gabon",
           1752,
           1752
          ],
          [
           "EMEA",
           "Georgia",
           5428,
           5428
          ],
          [
           "EU",
           "Germany",
           628857,
           628857
          ],
          [
           "Africa",
           "Ghana",
           23272,
           23272
          ],
          [
           "LATAM",
           "Guadeloupe",
           1462,
           1462
          ],
          [
           "LATAM",
           "Guatemala",
           131609,
           131609
          ],
          [
           "Africa",
           "Guinea",
           3498,
           3498
          ],
          [
           "Africa",
           "Guinea-Bissau",
           2065,
           2065
          ],
          [
           "LATAM",
           "Haiti",
           11036,
           11036
          ],
          [
           "LATAM",
           "Honduras",
           90137,
           90137
          ],
          [
           "APAC",
           "Hong Kong",
           6148,
           6148
          ],
          [
           "EMEA",
           "Hungary",
           14254,
           14254
          ],
          [
           "APAC",
           "India",
           589664,
           589664
          ],
          [
           "APAC",
           "Indonesia",
           404887,
           404887
          ],
          [
           "EMEA",
           "Iran",
           113750,
           113750
          ],
          [
           "EMEA",
           "Iraq",
           70730,
           70730
          ],
          [
           "EU",
           "Ireland",
           16638,
           16638
          ],
          [
           "EMEA",
           "Israel",
           19294,
           19294
          ],
          [
           "EU",
           "Italy",
           289717,
           289717
          ],
          [
           "LATAM",
           "Jamaica",
           6762,
           6762
          ],
          [
           "APAC",
           "Japan",
           100789,
           100789
          ],
          [
           "EMEA",
           "Jordan",
           7325,
           7325
          ],
          [
           "EMEA",
           "Kazakhstan",
           4602,
           4602
          ],
          [
           "Africa",
           "Kenya",
           17569,
           17569
          ],
          [
           "EMEA",
           "Kyrgyzstan",
           5103,
           5103
          ],
          [
           "EMEA",
           "Lebanon",
           2797,
           2797
          ],
          [
           "Africa",
           "Lesotho",
           6712,
           6712
          ],
          [
           "Africa",
           "Liberia",
           3561,
           3561
          ],
          [
           "Africa",
           "Libya",
           7809,
           7809
          ],
          [
           "EMEA",
           "Lithuania",
           6723,
           6723
          ],
          [
           "EMEA",
           "Macedonia",
           210,
           210
          ],
          [
           "Africa",
           "Madagascar",
           12618,
           12618
          ],
          [
           "APAC",
           "Malaysia",
           61363,
           61363
          ],
          [
           "Africa",
           "Mali",
           8915,
           8915
          ],
          [
           "LATAM",
           "Martinique",
           5968,
           5968
          ],
          [
           "Africa",
           "Mauritania",
           4020,
           4020
          ],
          [
           "LATAM",
           "Mexico",
           622620,
           622620
          ],
          [
           "EMEA",
           "Moldova",
           5139,
           5139
          ],
          [
           "APAC",
           "Mongolia",
           40,
           40
          ],
          [
           "EMEA",
           "Mongolia",
           6749,
           6749
          ],
          [
           "EMEA",
           "Montenegro",
           4004,
           4004
          ],
          [
           "Africa",
           "Morocco",
           87079,
           87079
          ],
          [
           "Africa",
           "Mozambique",
           21302,
           21302
          ],
          [
           "APAC",
           "Myanmar (Burma)",
           34144,
           34144
          ],
          [
           "Africa",
           "Namibia",
           2899,
           2899
          ],
          [
           "APAC",
           "Nepal",
           3522,
           3522
          ],
          [
           "EU",
           "Netherlands",
           77520,
           77520
          ],
          [
           "APAC",
           "New Zealand",
           172022,
           172022
          ],
          [
           "LATAM",
           "Nicaragua",
           149694,
           149694
          ],
          [
           "Africa",
           "Niger",
           6923,
           6923
          ],
          [
           "Africa",
           "Nigeria",
           54347,
           54347
          ],
          [
           "EU",
           "Norway",
           20529,
           20529
          ],
          [
           "APAC",
           "Pakistan",
           58873,
           58873
          ],
          [
           "LATAM",
           "Panama",
           51556,
           51556
          ],
          [
           "APAC",
           "Papua New Guinea",
           2928,
           2928
          ],
          [
           "LATAM",
           "Paraguay",
           2591,
           2591
          ],
          [
           "LATAM",
           "Peru",
           17834,
           17834
          ],
          [
           "APAC",
           "Philippines",
           183433,
           183433
          ],
          [
           "EMEA",
           "Poland",
           44227,
           44227
          ],
          [
           "EU",
           "Portugal",
           15106,
           15106
          ],
          [
           "EMEA",
           "Qatar",
           6050,
           6050
          ],
          [
           "Africa",
           "Republic of the Congo",
           2714,
           2714
          ],
          [
           "EMEA",
           "Romania",
           37259,
           37259
          ],
          [
           "EMEA",
           "Russia",
           82915,
           82915
          ],
          [
           "Africa",
           "Rwanda",
           5197,
           5197
          ],
          [
           "EMEA",
           "Saudi Arabia",
           82006,
           82006
          ],
          [
           "Africa",
           "Senegal",
           28850,
           28850
          ],
          [
           "Africa",
           "Sierra Leone",
           2449,
           2449
          ],
          [
           "APAC",
           "Singapore",
           40285,
           40285
          ],
          [
           "EMEA",
           "Slovakia",
           866,
           866
          ],
          [
           "EMEA",
           "Slovenia",
           1469,
           1469
          ],
          [
           "Africa",
           "Somalia",
           8185,
           8185
          ],
          [
           "Africa",
           "South Africa",
           95301,
           95301
          ],
          [
           "APAC",
           "South Korea",
           33133,
           33133
          ],
          [
           "Africa",
           "South Sudan",
           1045,
           1045
          ],
          [
           "EU",
           "Spain",
           287162,
           287162
          ],
          [
           "APAC",
           "Sri Lanka",
           852,
           852
          ],
          [
           "Africa",
           "Sudan",
           16336,
           16336
          ],
          [
           "Africa",
           "Swaziland",
           288,
           288
          ],
          [
           "EU",
           "Sweden",
           30490,
           30490
          ],
          [
           "EU",
           "Switzerland",
           24874,
           24874
          ],
          [
           "EMEA",
           "Syria",
           5309,
           5309
          ],
          [
           "APAC",
           "Taiwan",
           7648,
           7648
          ],
          [
           "EMEA",
           "Tajikistan",
           242,
           242
          ],
          [
           "Africa",
           "Tanzania",
           26816,
           26816
          ],
          [
           "APAC",
           "Thailand",
           77048,
           77048
          ],
          [
           "Africa",
           "Togo",
           4150,
           4150
          ],
          [
           "LATAM",
           "Trinidad and Tobago",
           6880,
           6880
          ],
          [
           "Africa",
           "Tunisia",
           1762,
           1762
          ],
          [
           "EMEA",
           "Turkey",
           108524,
           108524
          ],
          [
           "EMEA",
           "Turkmenistan",
           2029,
           2029
          ],
          [
           "Africa",
           "Uganda",
           1625,
           1625
          ],
          [
           "EMEA",
           "Ukraine",
           86855,
           86855
          ],
          [
           "EMEA",
           "United Arab Emirates",
           742,
           742
          ],
          [
           "EU",
           "United Kingdom",
           528570,
           528570
          ],
          [
           "LATAM",
           "Uruguay",
           9715,
           9715
          ],
          [
           "EMEA",
           "Uzbekistan",
           7330,
           7330
          ],
          [
           "LATAM",
           "Venezuela",
           26587,
           26587
          ],
          [
           "APAC",
           "Vietnam",
           65802,
           65802
          ],
          [
           "EMEA",
           "Yemen",
           2464,
           2464
          ],
          [
           "Africa",
           "Zambia",
           26029,
           26029
          ],
          [
           "Africa",
           "Zimbabwe",
           3767,
           3767
          ],
          [
           "APAC",
           "(?)",
           546696.9958983031,
           546696.9958983031
          ],
          [
           "Africa",
           "(?)",
           53456.39793512432,
           53456.39793512432
          ],
          [
           "Canada",
           "Canada",
           66932,
           66932
          ],
          [
           "EMEA",
           "(?)",
           69367.31168318895,
           69367.31168318895
          ],
          [
           "EU",
           "(?)",
           543543.2557292217,
           543543.2557292217
          ],
          [
           "LATAM",
           "(?)",
           302208.1699696076,
           302208.1699696076
          ]
         ],
         "domain": {
          "x": [
           0,
           1
          ],
          "y": [
           0,
           1
          ]
         },
         "hovertemplate": "labels=%{label}<br>Sales_sum=%{value}<br>parent=%{parent}<br>id=%{id}<br>Market=%{customdata[0]}<br>Country=%{customdata[1]}<br>Sales=%{color}<extra></extra>",
         "ids": [
          "APAC/Afghanistan",
          "EMEA/Albania",
          "Africa/Algeria",
          "Africa/Angola",
          "LATAM/Argentina",
          "EMEA/Armenia",
          "APAC/Australia",
          "EMEA/Austria",
          "EU/Austria",
          "EMEA/Azerbaijan",
          "EMEA/Bahrain",
          "APAC/Bangladesh",
          "LATAM/Barbados",
          "EMEA/Belarus",
          "EU/Belgium",
          "Africa/Benin",
          "LATAM/Bolivia",
          "EMEA/Bosnia and Herzegovina",
          "LATAM/Brazil",
          "EMEA/Bulgaria",
          "Africa/Burundi",
          "APAC/Cambodia",
          "Africa/Cameroon",
          "Canada/Canada",
          "Africa/Central African Republic",
          "Africa/Chad",
          "LATAM/Chile",
          "APAC/China",
          "LATAM/Colombia",
          "Africa/Cote d'Ivoire",
          "EMEA/Croatia",
          "LATAM/Cuba",
          "EMEA/Czech Republic",
          "Africa/Democratic Republic of the Congo",
          "EU/Denmark",
          "Africa/Djibouti",
          "LATAM/Dominican Republic",
          "LATAM/Ecuador",
          "Africa/Egypt",
          "LATAM/El Salvador",
          "Africa/Equatorial Guinea",
          "Africa/Eritrea",
          "EMEA/Estonia",
          "Africa/Ethiopia",
          "EU/Finland",
          "EU/France",
          "Africa/Gabon",
          "EMEA/Georgia",
          "EU/Germany",
          "Africa/Ghana",
          "LATAM/Guadeloupe",
          "LATAM/Guatemala",
          "Africa/Guinea",
          "Africa/Guinea-Bissau",
          "LATAM/Haiti",
          "LATAM/Honduras",
          "APAC/Hong Kong",
          "EMEA/Hungary",
          "APAC/India",
          "APAC/Indonesia",
          "EMEA/Iran",
          "EMEA/Iraq",
          "EU/Ireland",
          "EMEA/Israel",
          "EU/Italy",
          "LATAM/Jamaica",
          "APAC/Japan",
          "EMEA/Jordan",
          "EMEA/Kazakhstan",
          "Africa/Kenya",
          "EMEA/Kyrgyzstan",
          "EMEA/Lebanon",
          "Africa/Lesotho",
          "Africa/Liberia",
          "Africa/Libya",
          "EMEA/Lithuania",
          "EMEA/Macedonia",
          "Africa/Madagascar",
          "APAC/Malaysia",
          "Africa/Mali",
          "LATAM/Martinique",
          "Africa/Mauritania",
          "LATAM/Mexico",
          "EMEA/Moldova",
          "APAC/Mongolia",
          "EMEA/Mongolia",
          "EMEA/Montenegro",
          "Africa/Morocco",
          "Africa/Mozambique",
          "APAC/Myanmar (Burma)",
          "Africa/Namibia",
          "APAC/Nepal",
          "EU/Netherlands",
          "APAC/New Zealand",
          "LATAM/Nicaragua",
          "Africa/Niger",
          "Africa/Nigeria",
          "EU/Norway",
          "APAC/Pakistan",
          "LATAM/Panama",
          "APAC/Papua New Guinea",
          "LATAM/Paraguay",
          "LATAM/Peru",
          "APAC/Philippines",
          "EMEA/Poland",
          "EU/Portugal",
          "EMEA/Qatar",
          "Africa/Republic of the Congo",
          "EMEA/Romania",
          "EMEA/Russia",
          "Africa/Rwanda",
          "EMEA/Saudi Arabia",
          "Africa/Senegal",
          "Africa/Sierra Leone",
          "APAC/Singapore",
          "EMEA/Slovakia",
          "EMEA/Slovenia",
          "Africa/Somalia",
          "Africa/South Africa",
          "APAC/South Korea",
          "Africa/South Sudan",
          "EU/Spain",
          "APAC/Sri Lanka",
          "Africa/Sudan",
          "Africa/Swaziland",
          "EU/Sweden",
          "EU/Switzerland",
          "EMEA/Syria",
          "APAC/Taiwan",
          "EMEA/Tajikistan",
          "Africa/Tanzania",
          "APAC/Thailand",
          "Africa/Togo",
          "LATAM/Trinidad and Tobago",
          "Africa/Tunisia",
          "EMEA/Turkey",
          "EMEA/Turkmenistan",
          "Africa/Uganda",
          "EMEA/Ukraine",
          "EMEA/United Arab Emirates",
          "EU/United Kingdom",
          "LATAM/Uruguay",
          "EMEA/Uzbekistan",
          "LATAM/Venezuela",
          "APAC/Vietnam",
          "EMEA/Yemen",
          "Africa/Zambia",
          "Africa/Zimbabwe",
          "APAC",
          "Africa",
          "Canada",
          "EMEA",
          "EU",
          "LATAM"
         ],
         "labels": [
          "Afghanistan",
          "Albania",
          "Algeria",
          "Angola",
          "Argentina",
          "Armenia",
          "Australia",
          "Austria",
          "Austria",
          "Azerbaijan",
          "Bahrain",
          "Bangladesh",
          "Barbados",
          "Belarus",
          "Belgium",
          "Benin",
          "Bolivia",
          "Bosnia and Herzegovina",
          "Brazil",
          "Bulgaria",
          "Burundi",
          "Cambodia",
          "Cameroon",
          "Canada",
          "Central African Republic",
          "Chad",
          "Chile",
          "China",
          "Colombia",
          "Cote d'Ivoire",
          "Croatia",
          "Cuba",
          "Czech Republic",
          "Democratic Republic of the Congo",
          "Denmark",
          "Djibouti",
          "Dominican Republic",
          "Ecuador",
          "Egypt",
          "El Salvador",
          "Equatorial Guinea",
          "Eritrea",
          "Estonia",
          "Ethiopia",
          "Finland",
          "France",
          "Gabon",
          "Georgia",
          "Germany",
          "Ghana",
          "Guadeloupe",
          "Guatemala",
          "Guinea",
          "Guinea-Bissau",
          "Haiti",
          "Honduras",
          "Hong Kong",
          "Hungary",
          "India",
          "Indonesia",
          "Iran",
          "Iraq",
          "Ireland",
          "Israel",
          "Italy",
          "Jamaica",
          "Japan",
          "Jordan",
          "Kazakhstan",
          "Kenya",
          "Kyrgyzstan",
          "Lebanon",
          "Lesotho",
          "Liberia",
          "Libya",
          "Lithuania",
          "Macedonia",
          "Madagascar",
          "Malaysia",
          "Mali",
          "Martinique",
          "Mauritania",
          "Mexico",
          "Moldova",
          "Mongolia",
          "Mongolia",
          "Montenegro",
          "Morocco",
          "Mozambique",
          "Myanmar (Burma)",
          "Namibia",
          "Nepal",
          "Netherlands",
          "New Zealand",
          "Nicaragua",
          "Niger",
          "Nigeria",
          "Norway",
          "Pakistan",
          "Panama",
          "Papua New Guinea",
          "Paraguay",
          "Peru",
          "Philippines",
          "Poland",
          "Portugal",
          "Qatar",
          "Republic of the Congo",
          "Romania",
          "Russia",
          "Rwanda",
          "Saudi Arabia",
          "Senegal",
          "Sierra Leone",
          "Singapore",
          "Slovakia",
          "Slovenia",
          "Somalia",
          "South Africa",
          "South Korea",
          "South Sudan",
          "Spain",
          "Sri Lanka",
          "Sudan",
          "Swaziland",
          "Sweden",
          "Switzerland",
          "Syria",
          "Taiwan",
          "Tajikistan",
          "Tanzania",
          "Thailand",
          "Togo",
          "Trinidad and Tobago",
          "Tunisia",
          "Turkey",
          "Turkmenistan",
          "Uganda",
          "Ukraine",
          "United Arab Emirates",
          "United Kingdom",
          "Uruguay",
          "Uzbekistan",
          "Venezuela",
          "Vietnam",
          "Yemen",
          "Zambia",
          "Zimbabwe",
          "APAC",
          "Africa",
          "Canada",
          "EMEA",
          "EU",
          "LATAM"
         ],
         "marker": {
          "coloraxis": "coloraxis",
          "colors": [
           21674,
           3888,
           36090,
           25551,
           57510,
           156,
           925257,
           11375,
           81168,
           5630,
           669,
           78254,
           7175,
           13390,
           49233,
           6215,
           11589,
           2600,
           361098,
           15560,
           268,
           17476,
           22355,
           66932,
           2376,
           1317,
           35449,
           700591,
           81508,
           25615,
           4463,
           158861,
           9579,
           87415,
           8643,
           2394,
           126137,
           13344,
           84137,
           177565,
           150,
           188,
           4479,
           850,
           20702,
           858930,
           1752,
           5428,
           628857,
           23272,
           1462,
           131609,
           3498,
           2065,
           11036,
           90137,
           6148,
           14254,
           589664,
           404887,
           113750,
           70730,
           16638,
           19294,
           289717,
           6762,
           100789,
           7325,
           4602,
           17569,
           5103,
           2797,
           6712,
           3561,
           7809,
           6723,
           210,
           12618,
           61363,
           8915,
           5968,
           4020,
           622620,
           5139,
           40,
           6749,
           4004,
           87079,
           21302,
           34144,
           2899,
           3522,
           77520,
           172022,
           149694,
           6923,
           54347,
           20529,
           58873,
           51556,
           2928,
           2591,
           17834,
           183433,
           44227,
           15106,
           6050,
           2714,
           37259,
           82915,
           5197,
           82006,
           28850,
           2449,
           40285,
           866,
           1469,
           8185,
           95301,
           33133,
           1045,
           287162,
           852,
           16336,
           288,
           30490,
           24874,
           5309,
           7648,
           242,
           26816,
           77048,
           4150,
           6880,
           1762,
           108524,
           2029,
           1625,
           86855,
           742,
           528570,
           9715,
           7330,
           26587,
           65802,
           2464,
           26029,
           3767,
           546696.9958983031,
           53456.39793512432,
           66932,
           69367.31168318895,
           543543.2557292217,
           302208.1699696076
          ]
         },
         "name": "",
         "parents": [
          "APAC",
          "EMEA",
          "Africa",
          "Africa",
          "LATAM",
          "EMEA",
          "APAC",
          "EMEA",
          "EU",
          "EMEA",
          "EMEA",
          "APAC",
          "LATAM",
          "EMEA",
          "EU",
          "Africa",
          "LATAM",
          "EMEA",
          "LATAM",
          "EMEA",
          "Africa",
          "APAC",
          "Africa",
          "Canada",
          "Africa",
          "Africa",
          "LATAM",
          "APAC",
          "LATAM",
          "Africa",
          "EMEA",
          "LATAM",
          "EMEA",
          "Africa",
          "EU",
          "Africa",
          "LATAM",
          "LATAM",
          "Africa",
          "LATAM",
          "Africa",
          "Africa",
          "EMEA",
          "Africa",
          "EU",
          "EU",
          "Africa",
          "EMEA",
          "EU",
          "Africa",
          "LATAM",
          "LATAM",
          "Africa",
          "Africa",
          "LATAM",
          "LATAM",
          "APAC",
          "EMEA",
          "APAC",
          "APAC",
          "EMEA",
          "EMEA",
          "EU",
          "EMEA",
          "EU",
          "LATAM",
          "APAC",
          "EMEA",
          "EMEA",
          "Africa",
          "EMEA",
          "EMEA",
          "Africa",
          "Africa",
          "Africa",
          "EMEA",
          "EMEA",
          "Africa",
          "APAC",
          "Africa",
          "LATAM",
          "Africa",
          "LATAM",
          "EMEA",
          "APAC",
          "EMEA",
          "EMEA",
          "Africa",
          "Africa",
          "APAC",
          "Africa",
          "APAC",
          "EU",
          "APAC",
          "LATAM",
          "Africa",
          "Africa",
          "EU",
          "APAC",
          "LATAM",
          "APAC",
          "LATAM",
          "LATAM",
          "APAC",
          "EMEA",
          "EU",
          "EMEA",
          "Africa",
          "EMEA",
          "EMEA",
          "Africa",
          "EMEA",
          "Africa",
          "Africa",
          "APAC",
          "EMEA",
          "EMEA",
          "Africa",
          "Africa",
          "APAC",
          "Africa",
          "EU",
          "APAC",
          "Africa",
          "Africa",
          "EU",
          "EU",
          "EMEA",
          "APAC",
          "EMEA",
          "Africa",
          "APAC",
          "Africa",
          "LATAM",
          "Africa",
          "EMEA",
          "EMEA",
          "Africa",
          "EMEA",
          "EMEA",
          "EU",
          "LATAM",
          "EMEA",
          "LATAM",
          "APAC",
          "EMEA",
          "Africa",
          "Africa",
          "",
          "",
          "",
          "",
          "",
          ""
         ],
         "type": "treemap",
         "values": [
          21674,
          3888,
          36090,
          25551,
          57510,
          156,
          925257,
          11375,
          81168,
          5630,
          669,
          78254,
          7175,
          13390,
          49233,
          6215,
          11589,
          2600,
          361098,
          15560,
          268,
          17476,
          22355,
          66932,
          2376,
          1317,
          35449,
          700591,
          81508,
          25615,
          4463,
          158861,
          9579,
          87415,
          8643,
          2394,
          126137,
          13344,
          84137,
          177565,
          150,
          188,
          4479,
          850,
          20702,
          858930,
          1752,
          5428,
          628857,
          23272,
          1462,
          131609,
          3498,
          2065,
          11036,
          90137,
          6148,
          14254,
          589664,
          404887,
          113750,
          70730,
          16638,
          19294,
          289717,
          6762,
          100789,
          7325,
          4602,
          17569,
          5103,
          2797,
          6712,
          3561,
          7809,
          6723,
          210,
          12618,
          61363,
          8915,
          5968,
          4020,
          622620,
          5139,
          40,
          6749,
          4004,
          87079,
          21302,
          34144,
          2899,
          3522,
          77520,
          172022,
          149694,
          6923,
          54347,
          20529,
          58873,
          51556,
          2928,
          2591,
          17834,
          183433,
          44227,
          15106,
          6050,
          2714,
          37259,
          82915,
          5197,
          82006,
          28850,
          2449,
          40285,
          866,
          1469,
          8185,
          95301,
          33133,
          1045,
          287162,
          852,
          16336,
          288,
          30490,
          24874,
          5309,
          7648,
          242,
          26816,
          77048,
          4150,
          6880,
          1762,
          108524,
          2029,
          1625,
          86855,
          742,
          528570,
          9715,
          7330,
          26587,
          65802,
          2464,
          26029,
          3767,
          3585833,
          783776,
          66932,
          806184,
          2938139,
          2164687
         ]
        }
       ],
       "layout": {
        "coloraxis": {
         "colorbar": {
          "title": {
           "text": "Sales"
          }
         },
         "colorscale": [
          [
           0,
           "rgb(103,0,31)"
          ],
          [
           0.1,
           "rgb(178,24,43)"
          ],
          [
           0.2,
           "rgb(214,96,77)"
          ],
          [
           0.3,
           "rgb(244,165,130)"
          ],
          [
           0.4,
           "rgb(253,219,199)"
          ],
          [
           0.5,
           "rgb(247,247,247)"
          ],
          [
           0.6,
           "rgb(209,229,240)"
          ],
          [
           0.7,
           "rgb(146,197,222)"
          ],
          [
           0.8,
           "rgb(67,147,195)"
          ],
          [
           0.9,
           "rgb(33,102,172)"
          ],
          [
           1,
           "rgb(5,48,97)"
          ]
         ]
        },
        "legend": {
         "tracegroupgap": 0
        },
        "margin": {
         "b": 25,
         "l": 25,
         "r": 25,
         "t": 50
        },
        "template": {
         "data": {
          "bar": [
           {
            "error_x": {
             "color": "#2a3f5f"
            },
            "error_y": {
             "color": "#2a3f5f"
            },
            "marker": {
             "line": {
              "color": "#E5ECF6",
              "width": 0.5
             },
             "pattern": {
              "fillmode": "overlay",
              "size": 10,
              "solidity": 0.2
             }
            },
            "type": "bar"
           }
          ],
          "barpolar": [
           {
            "marker": {
             "line": {
              "color": "#E5ECF6",
              "width": 0.5
             },
             "pattern": {
              "fillmode": "overlay",
              "size": 10,
              "solidity": 0.2
             }
            },
            "type": "barpolar"
           }
          ],
          "carpet": [
           {
            "aaxis": {
             "endlinecolor": "#2a3f5f",
             "gridcolor": "white",
             "linecolor": "white",
             "minorgridcolor": "white",
             "startlinecolor": "#2a3f5f"
            },
            "baxis": {
             "endlinecolor": "#2a3f5f",
             "gridcolor": "white",
             "linecolor": "white",
             "minorgridcolor": "white",
             "startlinecolor": "#2a3f5f"
            },
            "type": "carpet"
           }
          ],
          "choropleth": [
           {
            "colorbar": {
             "outlinewidth": 0,
             "ticks": ""
            },
            "type": "choropleth"
           }
          ],
          "contour": [
           {
            "colorbar": {
             "outlinewidth": 0,
             "ticks": ""
            },
            "colorscale": [
             [
              0,
              "#0d0887"
             ],
             [
              0.1111111111111111,
              "#46039f"
             ],
             [
              0.2222222222222222,
              "#7201a8"
             ],
             [
              0.3333333333333333,
              "#9c179e"
             ],
             [
              0.4444444444444444,
              "#bd3786"
             ],
             [
              0.5555555555555556,
              "#d8576b"
             ],
             [
              0.6666666666666666,
              "#ed7953"
             ],
             [
              0.7777777777777778,
              "#fb9f3a"
             ],
             [
              0.8888888888888888,
              "#fdca26"
             ],
             [
              1,
              "#f0f921"
             ]
            ],
            "type": "contour"
           }
          ],
          "contourcarpet": [
           {
            "colorbar": {
             "outlinewidth": 0,
             "ticks": ""
            },
            "type": "contourcarpet"
           }
          ],
          "heatmap": [
           {
            "colorbar": {
             "outlinewidth": 0,
             "ticks": ""
            },
            "colorscale": [
             [
              0,
              "#0d0887"
             ],
             [
              0.1111111111111111,
              "#46039f"
             ],
             [
              0.2222222222222222,
              "#7201a8"
             ],
             [
              0.3333333333333333,
              "#9c179e"
             ],
             [
              0.4444444444444444,
              "#bd3786"
             ],
             [
              0.5555555555555556,
              "#d8576b"
             ],
             [
              0.6666666666666666,
              "#ed7953"
             ],
             [
              0.7777777777777778,
              "#fb9f3a"
             ],
             [
              0.8888888888888888,
              "#fdca26"
             ],
             [
              1,
              "#f0f921"
             ]
            ],
            "type": "heatmap"
           }
          ],
          "heatmapgl": [
           {
            "colorbar": {
             "outlinewidth": 0,
             "ticks": ""
            },
            "colorscale": [
             [
              0,
              "#0d0887"
             ],
             [
              0.1111111111111111,
              "#46039f"
             ],
             [
              0.2222222222222222,
              "#7201a8"
             ],
             [
              0.3333333333333333,
              "#9c179e"
             ],
             [
              0.4444444444444444,
              "#bd3786"
             ],
             [
              0.5555555555555556,
              "#d8576b"
             ],
             [
              0.6666666666666666,
              "#ed7953"
             ],
             [
              0.7777777777777778,
              "#fb9f3a"
             ],
             [
              0.8888888888888888,
              "#fdca26"
             ],
             [
              1,
              "#f0f921"
             ]
            ],
            "type": "heatmapgl"
           }
          ],
          "histogram": [
           {
            "marker": {
             "pattern": {
              "fillmode": "overlay",
              "size": 10,
              "solidity": 0.2
             }
            },
            "type": "histogram"
           }
          ],
          "histogram2d": [
           {
            "colorbar": {
             "outlinewidth": 0,
             "ticks": ""
            },
            "colorscale": [
             [
              0,
              "#0d0887"
             ],
             [
              0.1111111111111111,
              "#46039f"
             ],
             [
              0.2222222222222222,
              "#7201a8"
             ],
             [
              0.3333333333333333,
              "#9c179e"
             ],
             [
              0.4444444444444444,
              "#bd3786"
             ],
             [
              0.5555555555555556,
              "#d8576b"
             ],
             [
              0.6666666666666666,
              "#ed7953"
             ],
             [
              0.7777777777777778,
              "#fb9f3a"
             ],
             [
              0.8888888888888888,
              "#fdca26"
             ],
             [
              1,
              "#f0f921"
             ]
            ],
            "type": "histogram2d"
           }
          ],
          "histogram2dcontour": [
           {
            "colorbar": {
             "outlinewidth": 0,
             "ticks": ""
            },
            "colorscale": [
             [
              0,
              "#0d0887"
             ],
             [
              0.1111111111111111,
              "#46039f"
             ],
             [
              0.2222222222222222,
              "#7201a8"
             ],
             [
              0.3333333333333333,
              "#9c179e"
             ],
             [
              0.4444444444444444,
              "#bd3786"
             ],
             [
              0.5555555555555556,
              "#d8576b"
             ],
             [
              0.6666666666666666,
              "#ed7953"
             ],
             [
              0.7777777777777778,
              "#fb9f3a"
             ],
             [
              0.8888888888888888,
              "#fdca26"
             ],
             [
              1,
              "#f0f921"
             ]
            ],
            "type": "histogram2dcontour"
           }
          ],
          "mesh3d": [
           {
            "colorbar": {
             "outlinewidth": 0,
             "ticks": ""
            },
            "type": "mesh3d"
           }
          ],
          "parcoords": [
           {
            "line": {
             "colorbar": {
              "outlinewidth": 0,
              "ticks": ""
             }
            },
            "type": "parcoords"
           }
          ],
          "pie": [
           {
            "automargin": true,
            "type": "pie"
           }
          ],
          "scatter": [
           {
            "fillpattern": {
             "fillmode": "overlay",
             "size": 10,
             "solidity": 0.2
            },
            "type": "scatter"
           }
          ],
          "scatter3d": [
           {
            "line": {
             "colorbar": {
              "outlinewidth": 0,
              "ticks": ""
             }
            },
            "marker": {
             "colorbar": {
              "outlinewidth": 0,
              "ticks": ""
             }
            },
            "type": "scatter3d"
           }
          ],
          "scattercarpet": [
           {
            "marker": {
             "colorbar": {
              "outlinewidth": 0,
              "ticks": ""
             }
            },
            "type": "scattercarpet"
           }
          ],
          "scattergeo": [
           {
            "marker": {
             "colorbar": {
              "outlinewidth": 0,
              "ticks": ""
             }
            },
            "type": "scattergeo"
           }
          ],
          "scattergl": [
           {
            "marker": {
             "colorbar": {
              "outlinewidth": 0,
              "ticks": ""
             }
            },
            "type": "scattergl"
           }
          ],
          "scattermapbox": [
           {
            "marker": {
             "colorbar": {
              "outlinewidth": 0,
              "ticks": ""
             }
            },
            "type": "scattermapbox"
           }
          ],
          "scatterpolar": [
           {
            "marker": {
             "colorbar": {
              "outlinewidth": 0,
              "ticks": ""
             }
            },
            "type": "scatterpolar"
           }
          ],
          "scatterpolargl": [
           {
            "marker": {
             "colorbar": {
              "outlinewidth": 0,
              "ticks": ""
             }
            },
            "type": "scatterpolargl"
           }
          ],
          "scatterternary": [
           {
            "marker": {
             "colorbar": {
              "outlinewidth": 0,
              "ticks": ""
             }
            },
            "type": "scatterternary"
           }
          ],
          "surface": [
           {
            "colorbar": {
             "outlinewidth": 0,
             "ticks": ""
            },
            "colorscale": [
             [
              0,
              "#0d0887"
             ],
             [
              0.1111111111111111,
              "#46039f"
             ],
             [
              0.2222222222222222,
              "#7201a8"
             ],
             [
              0.3333333333333333,
              "#9c179e"
             ],
             [
              0.4444444444444444,
              "#bd3786"
             ],
             [
              0.5555555555555556,
              "#d8576b"
             ],
             [
              0.6666666666666666,
              "#ed7953"
             ],
             [
              0.7777777777777778,
              "#fb9f3a"
             ],
             [
              0.8888888888888888,
              "#fdca26"
             ],
             [
              1,
              "#f0f921"
             ]
            ],
            "type": "surface"
           }
          ],
          "table": [
           {
            "cells": {
             "fill": {
              "color": "#EBF0F8"
             },
             "line": {
              "color": "white"
             }
            },
            "header": {
             "fill": {
              "color": "#C8D4E3"
             },
             "line": {
              "color": "white"
             }
            },
            "type": "table"
           }
          ]
         },
         "layout": {
          "annotationdefaults": {
           "arrowcolor": "#2a3f5f",
           "arrowhead": 0,
           "arrowwidth": 1
          },
          "autotypenumbers": "strict",
          "coloraxis": {
           "colorbar": {
            "outlinewidth": 0,
            "ticks": ""
           }
          },
          "colorscale": {
           "diverging": [
            [
             0,
             "#8e0152"
            ],
            [
             0.1,
             "#c51b7d"
            ],
            [
             0.2,
             "#de77ae"
            ],
            [
             0.3,
             "#f1b6da"
            ],
            [
             0.4,
             "#fde0ef"
            ],
            [
             0.5,
             "#f7f7f7"
            ],
            [
             0.6,
             "#e6f5d0"
            ],
            [
             0.7,
             "#b8e186"
            ],
            [
             0.8,
             "#7fbc41"
            ],
            [
             0.9,
             "#4d9221"
            ],
            [
             1,
             "#276419"
            ]
           ],
           "sequential": [
            [
             0,
             "#0d0887"
            ],
            [
             0.1111111111111111,
             "#46039f"
            ],
            [
             0.2222222222222222,
             "#7201a8"
            ],
            [
             0.3333333333333333,
             "#9c179e"
            ],
            [
             0.4444444444444444,
             "#bd3786"
            ],
            [
             0.5555555555555556,
             "#d8576b"
            ],
            [
             0.6666666666666666,
             "#ed7953"
            ],
            [
             0.7777777777777778,
             "#fb9f3a"
            ],
            [
             0.8888888888888888,
             "#fdca26"
            ],
            [
             1,
             "#f0f921"
            ]
           ],
           "sequentialminus": [
            [
             0,
             "#0d0887"
            ],
            [
             0.1111111111111111,
             "#46039f"
            ],
            [
             0.2222222222222222,
             "#7201a8"
            ],
            [
             0.3333333333333333,
             "#9c179e"
            ],
            [
             0.4444444444444444,
             "#bd3786"
            ],
            [
             0.5555555555555556,
             "#d8576b"
            ],
            [
             0.6666666666666666,
             "#ed7953"
            ],
            [
             0.7777777777777778,
             "#fb9f3a"
            ],
            [
             0.8888888888888888,
             "#fdca26"
            ],
            [
             1,
             "#f0f921"
            ]
           ]
          },
          "colorway": [
           "#636efa",
           "#EF553B",
           "#00cc96",
           "#ab63fa",
           "#FFA15A",
           "#19d3f3",
           "#FF6692",
           "#B6E880",
           "#FF97FF",
           "#FECB52"
          ],
          "font": {
           "color": "#2a3f5f"
          },
          "geo": {
           "bgcolor": "white",
           "lakecolor": "white",
           "landcolor": "#E5ECF6",
           "showlakes": true,
           "showland": true,
           "subunitcolor": "white"
          },
          "hoverlabel": {
           "align": "left"
          },
          "hovermode": "closest",
          "mapbox": {
           "style": "light"
          },
          "paper_bgcolor": "white",
          "plot_bgcolor": "#E5ECF6",
          "polar": {
           "angularaxis": {
            "gridcolor": "white",
            "linecolor": "white",
            "ticks": ""
           },
           "bgcolor": "#E5ECF6",
           "radialaxis": {
            "gridcolor": "white",
            "linecolor": "white",
            "ticks": ""
           }
          },
          "scene": {
           "xaxis": {
            "backgroundcolor": "#E5ECF6",
            "gridcolor": "white",
            "gridwidth": 2,
            "linecolor": "white",
            "showbackground": true,
            "ticks": "",
            "zerolinecolor": "white"
           },
           "yaxis": {
            "backgroundcolor": "#E5ECF6",
            "gridcolor": "white",
            "gridwidth": 2,
            "linecolor": "white",
            "showbackground": true,
            "ticks": "",
            "zerolinecolor": "white"
           },
           "zaxis": {
            "backgroundcolor": "#E5ECF6",
            "gridcolor": "white",
            "gridwidth": 2,
            "linecolor": "white",
            "showbackground": true,
            "ticks": "",
            "zerolinecolor": "white"
           }
          },
          "shapedefaults": {
           "line": {
            "color": "#2a3f5f"
           }
          },
          "ternary": {
           "aaxis": {
            "gridcolor": "white",
            "linecolor": "white",
            "ticks": ""
           },
           "baxis": {
            "gridcolor": "white",
            "linecolor": "white",
            "ticks": ""
           },
           "bgcolor": "#E5ECF6",
           "caxis": {
            "gridcolor": "white",
            "linecolor": "white",
            "ticks": ""
           }
          },
          "title": {
           "x": 0.05
          },
          "xaxis": {
           "automargin": true,
           "gridcolor": "white",
           "linecolor": "white",
           "ticks": "",
           "title": {
            "standoff": 15
           },
           "zerolinecolor": "white",
           "zerolinewidth": 2
          },
          "yaxis": {
           "automargin": true,
           "gridcolor": "white",
           "linecolor": "white",
           "ticks": "",
           "title": {
            "standoff": 15
           },
           "zerolinecolor": "white",
           "zerolinewidth": 2
          }
         }
        }
       }
      },
      "image/png": "[encoded data removed]",
      "text/html": [
       "<div>                            <div id=\"17e9c937-a4fc-49e9-881b-f228cbc1703a\" class=\"plotly-graph-div\" style=\"height:525px; width:100%;\"></div>            <script type=\"text/javascript\">                require([\"plotly\"], function(Plotly) {                    window.PLOTLYENV=window.PLOTLYENV || {};                                    if (document.getElementById(\"17e9c937-a4fc-49e9-881b-f228cbc1703a\")) {                    Plotly.newPlot(                        \"17e9c937-a4fc-49e9-881b-f228cbc1703a\",                        [{\"branchvalues\":\"total\",\"customdata\":[[\"APAC\",\"Afghanistan\",21674.0,21674.0],[\"EMEA\",\"Albania\",3888.0,3888.0],[\"Africa\",\"Algeria\",36090.0,36090.0],[\"Africa\",\"Angola\",25551.0,25551.0],[\"LATAM\",\"Argentina\",57510.0,57510.0],[\"EMEA\",\"Armenia\",156.0,156.0],[\"APAC\",\"Australia\",925257.0,925257.0],[\"EMEA\",\"Austria\",11375.0,11375.0],[\"EU\",\"Austria\",81168.0,81168.0],[\"EMEA\",\"Azerbaijan\",5630.0,5630.0],[\"EMEA\",\"Bahrain\",669.0,669.0],[\"APAC\",\"Bangladesh\",78254.0,78254.0],[\"LATAM\",\"Barbados\",7175.0,7175.0],[\"EMEA\",\"Belarus\",13390.0,13390.0],[\"EU\",\"Belgium\",49233.0,49233.0],[\"Africa\",\"Benin\",6215.0,6215.0],[\"LATAM\",\"Bolivia\",11589.0,11589.0],[\"EMEA\",\"Bosnia and Herzegovina\",2600.0,2600.0],[\"LATAM\",\"Brazil\",361098.0,361098.0],[\"EMEA\",\"Bulgaria\",15560.0,15560.0],[\"Africa\",\"Burundi\",268.0,268.0],[\"APAC\",\"Cambodia\",17476.0,17476.0],[\"Africa\",\"Cameroon\",22355.0,22355.0],[\"Canada\",\"Canada\",66932.0,66932.0],[\"Africa\",\"Central African Republic\",2376.0,2376.0],[\"Africa\",\"Chad\",1317.0,1317.0],[\"LATAM\",\"Chile\",35449.0,35449.0],[\"APAC\",\"China\",700591.0,700591.0],[\"LATAM\",\"Colombia\",81508.0,81508.0],[\"Africa\",\"Cote d'Ivoire\",25615.0,25615.0],[\"EMEA\",\"Croatia\",4463.0,4463.0],[\"LATAM\",\"Cuba\",158861.0,158861.0],[\"EMEA\",\"Czech Republic\",9579.0,9579.0],[\"Africa\",\"Democratic Republic of the Congo\",87415.0,87415.0],[\"EU\",\"Denmark\",8643.0,8643.0],[\"Africa\",\"Djibouti\",2394.0,2394.0],[\"LATAM\",\"Dominican Republic\",126137.0,126137.0],[\"LATAM\",\"Ecuador\",13344.0,13344.0],[\"Africa\",\"Egypt\",84137.0,84137.0],[\"LATAM\",\"El Salvador\",177565.0,177565.0],[\"Africa\",\"Equatorial Guinea\",150.0,150.0],[\"Africa\",\"Eritrea\",188.0,188.0],[\"EMEA\",\"Estonia\",4479.0,4479.0],[\"Africa\",\"Ethiopia\",850.0,850.0],[\"EU\",\"Finland\",20702.0,20702.0],[\"EU\",\"France\",858930.0,858930.0],[\"Africa\",\"Gabon\",1752.0,1752.0],[\"EMEA\",\"Georgia\",5428.0,5428.0],[\"EU\",\"Germany\",628857.0,628857.0],[\"Africa\",\"Ghana\",23272.0,23272.0],[\"LATAM\",\"Guadeloupe\",1462.0,1462.0],[\"LATAM\",\"Guatemala\",131609.0,131609.0],[\"Africa\",\"Guinea\",3498.0,3498.0],[\"Africa\",\"Guinea-Bissau\",2065.0,2065.0],[\"LATAM\",\"Haiti\",11036.0,11036.0],[\"LATAM\",\"Honduras\",90137.0,90137.0],[\"APAC\",\"Hong Kong\",6148.0,6148.0],[\"EMEA\",\"Hungary\",14254.0,14254.0],[\"APAC\",\"India\",589664.0,589664.0],[\"APAC\",\"Indonesia\",404887.0,404887.0],[\"EMEA\",\"Iran\",113750.0,113750.0],[\"EMEA\",\"Iraq\",70730.0,70730.0],[\"EU\",\"Ireland\",16638.0,16638.0],[\"EMEA\",\"Israel\",19294.0,19294.0],[\"EU\",\"Italy\",289717.0,289717.0],[\"LATAM\",\"Jamaica\",6762.0,6762.0],[\"APAC\",\"Japan\",100789.0,100789.0],[\"EMEA\",\"Jordan\",7325.0,7325.0],[\"EMEA\",\"Kazakhstan\",4602.0,4602.0],[\"Africa\",\"Kenya\",17569.0,17569.0],[\"EMEA\",\"Kyrgyzstan\",5103.0,5103.0],[\"EMEA\",\"Lebanon\",2797.0,2797.0],[\"Africa\",\"Lesotho\",6712.0,6712.0],[\"Africa\",\"Liberia\",3561.0,3561.0],[\"Africa\",\"Libya\",7809.0,7809.0],[\"EMEA\",\"Lithuania\",6723.0,6723.0],[\"EMEA\",\"Macedonia\",210.0,210.0],[\"Africa\",\"Madagascar\",12618.0,12618.0],[\"APAC\",\"Malaysia\",61363.0,61363.0],[\"Africa\",\"Mali\",8915.0,8915.0],[\"LATAM\",\"Martinique\",5968.0,5968.0],[\"Africa\",\"Mauritania\",4020.0,4020.0],[\"LATAM\",\"Mexico\",622620.0,622620.0],[\"EMEA\",\"Moldova\",5139.0,5139.0],[\"APAC\",\"Mongolia\",40.0,40.0],[\"EMEA\",\"Mongolia\",6749.0,6749.0],[\"EMEA\",\"Montenegro\",4004.0,4004.0],[\"Africa\",\"Morocco\",87079.0,87079.0],[\"Africa\",\"Mozambique\",21302.0,21302.0],[\"APAC\",\"Myanmar (Burma)\",34144.0,34144.0],[\"Africa\",\"Namibia\",2899.0,2899.0],[\"APAC\",\"Nepal\",3522.0,3522.0],[\"EU\",\"Netherlands\",77520.0,77520.0],[\"APAC\",\"New Zealand\",172022.0,172022.0],[\"LATAM\",\"Nicaragua\",149694.0,149694.0],[\"Africa\",\"Niger\",6923.0,6923.0],[\"Africa\",\"Nigeria\",54347.0,54347.0],[\"EU\",\"Norway\",20529.0,20529.0],[\"APAC\",\"Pakistan\",58873.0,58873.0],[\"LATAM\",\"Panama\",51556.0,51556.0],[\"APAC\",\"Papua New Guinea\",2928.0,2928.0],[\"LATAM\",\"Paraguay\",2591.0,2591.0],[\"LATAM\",\"Peru\",17834.0,17834.0],[\"APAC\",\"Philippines\",183433.0,183433.0],[\"EMEA\",\"Poland\",44227.0,44227.0],[\"EU\",\"Portugal\",15106.0,15106.0],[\"EMEA\",\"Qatar\",6050.0,6050.0],[\"Africa\",\"Republic of the Congo\",2714.0,2714.0],[\"EMEA\",\"Romania\",37259.0,37259.0],[\"EMEA\",\"Russia\",82915.0,82915.0],[\"Africa\",\"Rwanda\",5197.0,5197.0],[\"EMEA\",\"Saudi Arabia\",82006.0,82006.0],[\"Africa\",\"Senegal\",28850.0,28850.0],[\"Africa\",\"Sierra Leone\",2449.0,2449.0],[\"APAC\",\"Singapore\",40285.0,40285.0],[\"EMEA\",\"Slovakia\",866.0,866.0],[\"EMEA\",\"Slovenia\",1469.0,1469.0],[\"Africa\",\"Somalia\",8185.0,8185.0],[\"Africa\",\"South Africa\",95301.0,95301.0],[\"APAC\",\"South Korea\",33133.0,33133.0],[\"Africa\",\"South Sudan\",1045.0,1045.0],[\"EU\",\"Spain\",287162.0,287162.0],[\"APAC\",\"Sri Lanka\",852.0,852.0],[\"Africa\",\"Sudan\",16336.0,16336.0],[\"Africa\",\"Swaziland\",288.0,288.0],[\"EU\",\"Sweden\",30490.0,30490.0],[\"EU\",\"Switzerland\",24874.0,24874.0],[\"EMEA\",\"Syria\",5309.0,5309.0],[\"APAC\",\"Taiwan\",7648.0,7648.0],[\"EMEA\",\"Tajikistan\",242.0,242.0],[\"Africa\",\"Tanzania\",26816.0,26816.0],[\"APAC\",\"Thailand\",77048.0,77048.0],[\"Africa\",\"Togo\",4150.0,4150.0],[\"LATAM\",\"Trinidad and Tobago\",6880.0,6880.0],[\"Africa\",\"Tunisia\",1762.0,1762.0],[\"EMEA\",\"Turkey\",108524.0,108524.0],[\"EMEA\",\"Turkmenistan\",2029.0,2029.0],[\"Africa\",\"Uganda\",1625.0,1625.0],[\"EMEA\",\"Ukraine\",86855.0,86855.0],[\"EMEA\",\"United Arab Emirates\",742.0,742.0],[\"EU\",\"United Kingdom\",528570.0,528570.0],[\"LATAM\",\"Uruguay\",9715.0,9715.0],[\"EMEA\",\"Uzbekistan\",7330.0,7330.0],[\"LATAM\",\"Venezuela\",26587.0,26587.0],[\"APAC\",\"Vietnam\",65802.0,65802.0],[\"EMEA\",\"Yemen\",2464.0,2464.0],[\"Africa\",\"Zambia\",26029.0,26029.0],[\"Africa\",\"Zimbabwe\",3767.0,3767.0],[\"APAC\",\"(?)\",546696.9958983031,546696.9958983031],[\"Africa\",\"(?)\",53456.39793512432,53456.39793512432],[\"Canada\",\"Canada\",66932.0,66932.0],[\"EMEA\",\"(?)\",69367.31168318895,69367.31168318895],[\"EU\",\"(?)\",543543.2557292217,543543.2557292217],[\"LATAM\",\"(?)\",302208.1699696076,302208.1699696076]],\"domain\":{\"x\":[0.0,1.0],\"y\":[0.0,1.0]},\"hovertemplate\":\"labels=%{label}\\u003cbr\\u003eSales_sum=%{value}\\u003cbr\\u003eparent=%{parent}\\u003cbr\\u003eid=%{id}\\u003cbr\\u003eMarket=%{customdata[0]}\\u003cbr\\u003eCountry=%{customdata[1]}\\u003cbr\\u003eSales=%{color}\\u003cextra\\u003e\\u003c\\u002fextra\\u003e\",\"ids\":[\"APAC\\u002fAfghanistan\",\"EMEA\\u002fAlbania\",\"Africa\\u002fAlgeria\",\"Africa\\u002fAngola\",\"LATAM\\u002fArgentina\",\"EMEA\\u002fArmenia\",\"APAC\\u002fAustralia\",\"EMEA\\u002fAustria\",\"EU\\u002fAustria\",\"EMEA\\u002fAzerbaijan\",\"EMEA\\u002fBahrain\",\"APAC\\u002fBangladesh\",\"LATAM\\u002fBarbados\",\"EMEA\\u002fBelarus\",\"EU\\u002fBelgium\",\"Africa\\u002fBenin\",\"LATAM\\u002fBolivia\",\"EMEA\\u002fBosnia and Herzegovina\",\"LATAM\\u002fBrazil\",\"EMEA\\u002fBulgaria\",\"Africa\\u002fBurundi\",\"APAC\\u002fCambodia\",\"Africa\\u002fCameroon\",\"Canada\\u002fCanada\",\"Africa\\u002fCentral African Republic\",\"Africa\\u002fChad\",\"LATAM\\u002fChile\",\"APAC\\u002fChina\",\"LATAM\\u002fColombia\",\"Africa\\u002fCote d'Ivoire\",\"EMEA\\u002fCroatia\",\"LATAM\\u002fCuba\",\"EMEA\\u002fCzech Republic\",\"Africa\\u002fDemocratic Republic of the Congo\",\"EU\\u002fDenmark\",\"Africa\\u002fDjibouti\",\"LATAM\\u002fDominican Republic\",\"LATAM\\u002fEcuador\",\"Africa\\u002fEgypt\",\"LATAM\\u002fEl Salvador\",\"Africa\\u002fEquatorial Guinea\",\"Africa\\u002fEritrea\",\"EMEA\\u002fEstonia\",\"Africa\\u002fEthiopia\",\"EU\\u002fFinland\",\"EU\\u002fFrance\",\"Africa\\u002fGabon\",\"EMEA\\u002fGeorgia\",\"EU\\u002fGermany\",\"Africa\\u002fGhana\",\"LATAM\\u002fGuadeloupe\",\"LATAM\\u002fGuatemala\",\"Africa\\u002fGuinea\",\"Africa\\u002fGuinea-Bissau\",\"LATAM\\u002fHaiti\",\"LATAM\\u002fHonduras\",\"APAC\\u002fHong Kong\",\"EMEA\\u002fHungary\",\"APAC\\u002fIndia\",\"APAC\\u002fIndonesia\",\"EMEA\\u002fIran\",\"EMEA\\u002fIraq\",\"EU\\u002fIreland\",\"EMEA\\u002fIsrael\",\"EU\\u002fItaly\",\"LATAM\\u002fJamaica\",\"APAC\\u002fJapan\",\"EMEA\\u002fJordan\",\"EMEA\\u002fKazakhstan\",\"Africa\\u002fKenya\",\"EMEA\\u002fKyrgyzstan\",\"EMEA\\u002fLebanon\",\"Africa\\u002fLesotho\",\"Africa\\u002fLiberia\",\"Africa\\u002fLibya\",\"EMEA\\u002fLithuania\",\"EMEA\\u002fMacedonia\",\"Africa\\u002fMadagascar\",\"APAC\\u002fMalaysia\",\"Africa\\u002fMali\",\"LATAM\\u002fMartinique\",\"Africa\\u002fMauritania\",\"LATAM\\u002fMexico\",\"EMEA\\u002fMoldova\",\"APAC\\u002fMongolia\",\"EMEA\\u002fMongolia\",\"EMEA\\u002fMontenegro\",\"Africa\\u002fMorocco\",\"Africa\\u002fMozambique\",\"APAC\\u002fMyanmar (Burma)\",\"Africa\\u002fNamibia\",\"APAC\\u002fNepal\",\"EU\\u002fNetherlands\",\"APAC\\u002fNew Zealand\",\"LATAM\\u002fNicaragua\",\"Africa\\u002fNiger\",\"Africa\\u002fNigeria\",\"EU\\u002fNorway\",\"APAC\\u002fPakistan\",\"LATAM\\u002fPanama\",\"APAC\\u002fPapua New Guinea\",\"LATAM\\u002fParaguay\",\"LATAM\\u002fPeru\",\"APAC\\u002fPhilippines\",\"EMEA\\u002fPoland\",\"EU\\u002fPortugal\",\"EMEA\\u002fQatar\",\"Africa\\u002fRepublic of the Congo\",\"EMEA\\u002fRomania\",\"EMEA\\u002fRussia\",\"Africa\\u002fRwanda\",\"EMEA\\u002fSaudi Arabia\",\"Africa\\u002fSenegal\",\"Africa\\u002fSierra Leone\",\"APAC\\u002fSingapore\",\"EMEA\\u002fSlovakia\",\"EMEA\\u002fSlovenia\",\"Africa\\u002fSomalia\",\"Africa\\u002fSouth Africa\",\"APAC\\u002fSouth Korea\",\"Africa\\u002fSouth Sudan\",\"EU\\u002fSpain\",\"APAC\\u002fSri Lanka\",\"Africa\\u002fSudan\",\"Africa\\u002fSwaziland\",\"EU\\u002fSweden\",\"EU\\u002fSwitzerland\",\"EMEA\\u002fSyria\",\"APAC\\u002fTaiwan\",\"EMEA\\u002fTajikistan\",\"Africa\\u002fTanzania\",\"APAC\\u002fThailand\",\"Africa\\u002fTogo\",\"LATAM\\u002fTrinidad and Tobago\",\"Africa\\u002fTunisia\",\"EMEA\\u002fTurkey\",\"EMEA\\u002fTurkmenistan\",\"Africa\\u002fUganda\",\"EMEA\\u002fUkraine\",\"EMEA\\u002fUnited Arab Emirates\",\"EU\\u002fUnited Kingdom\",\"LATAM\\u002fUruguay\",\"EMEA\\u002fUzbekistan\",\"LATAM\\u002fVenezuela\",\"APAC\\u002fVietnam\",\"EMEA\\u002fYemen\",\"Africa\\u002fZambia\",\"Africa\\u002fZimbabwe\",\"APAC\",\"Africa\",\"Canada\",\"EMEA\",\"EU\",\"LATAM\"],\"labels\":[\"Afghanistan\",\"Albania\",\"Algeria\",\"Angola\",\"Argentina\",\"Armenia\",\"Australia\",\"Austria\",\"Austria\",\"Azerbaijan\",\"Bahrain\",\"Bangladesh\",\"Barbados\",\"Belarus\",\"Belgium\",\"Benin\",\"Bolivia\",\"Bosnia and Herzegovina\",\"Brazil\",\"Bulgaria\",\"Burundi\",\"Cambodia\",\"Cameroon\",\"Canada\",\"Central African Republic\",\"Chad\",\"Chile\",\"China\",\"Colombia\",\"Cote d'Ivoire\",\"Croatia\",\"Cuba\",\"Czech Republic\",\"Democratic Republic of the Congo\",\"Denmark\",\"Djibouti\",\"Dominican Republic\",\"Ecuador\",\"Egypt\",\"El Salvador\",\"Equatorial Guinea\",\"Eritrea\",\"Estonia\",\"Ethiopia\",\"Finland\",\"France\",\"Gabon\",\"Georgia\",\"Germany\",\"Ghana\",\"Guadeloupe\",\"Guatemala\",\"Guinea\",\"Guinea-Bissau\",\"Haiti\",\"Honduras\",\"Hong Kong\",\"Hungary\",\"India\",\"Indonesia\",\"Iran\",\"Iraq\",\"Ireland\",\"Israel\",\"Italy\",\"Jamaica\",\"Japan\",\"Jordan\",\"Kazakhstan\",\"Kenya\",\"Kyrgyzstan\",\"Lebanon\",\"Lesotho\",\"Liberia\",\"Libya\",\"Lithuania\",\"Macedonia\",\"Madagascar\",\"Malaysia\",\"Mali\",\"Martinique\",\"Mauritania\",\"Mexico\",\"Moldova\",\"Mongolia\",\"Mongolia\",\"Montenegro\",\"Morocco\",\"Mozambique\",\"Myanmar (Burma)\",\"Namibia\",\"Nepal\",\"Netherlands\",\"New Zealand\",\"Nicaragua\",\"Niger\",\"Nigeria\",\"Norway\",\"Pakistan\",\"Panama\",\"Papua New Guinea\",\"Paraguay\",\"Peru\",\"Philippines\",\"Poland\",\"Portugal\",\"Qatar\",\"Republic of the Congo\",\"Romania\",\"Russia\",\"Rwanda\",\"Saudi Arabia\",\"Senegal\",\"Sierra Leone\",\"Singapore\",\"Slovakia\",\"Slovenia\",\"Somalia\",\"South Africa\",\"South Korea\",\"South Sudan\",\"Spain\",\"Sri Lanka\",\"Sudan\",\"Swaziland\",\"Sweden\",\"Switzerland\",\"Syria\",\"Taiwan\",\"Tajikistan\",\"Tanzania\",\"Thailand\",\"Togo\",\"Trinidad and Tobago\",\"Tunisia\",\"Turkey\",\"Turkmenistan\",\"Uganda\",\"Ukraine\",\"United Arab Emirates\",\"United Kingdom\",\"Uruguay\",\"Uzbekistan\",\"Venezuela\",\"Vietnam\",\"Yemen\",\"Zambia\",\"Zimbabwe\",\"APAC\",\"Africa\",\"Canada\",\"EMEA\",\"EU\",\"LATAM\"],\"marker\":{\"coloraxis\":\"coloraxis\",\"colors\":[21674.0,3888.0,36090.0,25551.0,57510.0,156.0,925257.0,11375.0,81168.0,5630.0,669.0,78254.0,7175.0,13390.0,49233.0,6215.0,11589.0,2600.0,361098.0,15560.0,268.0,17476.0,22355.0,66932.0,2376.0,1317.0,35449.0,700591.0,81508.0,25615.0,4463.0,158861.0,9579.0,87415.0,8643.0,2394.0,126137.0,13344.0,84137.0,177565.0,150.0,188.0,4479.0,850.0,20702.0,858930.0,1752.0,5428.0,628857.0,23272.0,1462.0,131609.0,3498.0,2065.0,11036.0,90137.0,6148.0,14254.0,589664.0,404887.0,113750.0,70730.0,16638.0,19294.0,289717.0,6762.0,100789.0,7325.0,4602.0,17569.0,5103.0,2797.0,6712.0,3561.0,7809.0,6723.0,210.0,12618.0,61363.0,8915.0,5968.0,4020.0,622620.0,5139.0,40.0,6749.0,4004.0,87079.0,21302.0,34144.0,2899.0,3522.0,77520.0,172022.0,149694.0,6923.0,54347.0,20529.0,58873.0,51556.0,2928.0,2591.0,17834.0,183433.0,44227.0,15106.0,6050.0,2714.0,37259.0,82915.0,5197.0,82006.0,28850.0,2449.0,40285.0,866.0,1469.0,8185.0,95301.0,33133.0,1045.0,287162.0,852.0,16336.0,288.0,30490.0,24874.0,5309.0,7648.0,242.0,26816.0,77048.0,4150.0,6880.0,1762.0,108524.0,2029.0,1625.0,86855.0,742.0,528570.0,9715.0,7330.0,26587.0,65802.0,2464.0,26029.0,3767.0,546696.9958983031,53456.39793512432,66932.0,69367.31168318895,543543.2557292217,302208.1699696076]},\"name\":\"\",\"parents\":[\"APAC\",\"EMEA\",\"Africa\",\"Africa\",\"LATAM\",\"EMEA\",\"APAC\",\"EMEA\",\"EU\",\"EMEA\",\"EMEA\",\"APAC\",\"LATAM\",\"EMEA\",\"EU\",\"Africa\",\"LATAM\",\"EMEA\",\"LATAM\",\"EMEA\",\"Africa\",\"APAC\",\"Africa\",\"Canada\",\"Africa\",\"Africa\",\"LATAM\",\"APAC\",\"LATAM\",\"Africa\",\"EMEA\",\"LATAM\",\"EMEA\",\"Africa\",\"EU\",\"Africa\",\"LATAM\",\"LATAM\",\"Africa\",\"LATAM\",\"Africa\",\"Africa\",\"EMEA\",\"Africa\",\"EU\",\"EU\",\"Africa\",\"EMEA\",\"EU\",\"Africa\",\"LATAM\",\"LATAM\",\"Africa\",\"Africa\",\"LATAM\",\"LATAM\",\"APAC\",\"EMEA\",\"APAC\",\"APAC\",\"EMEA\",\"EMEA\",\"EU\",\"EMEA\",\"EU\",\"LATAM\",\"APAC\",\"EMEA\",\"EMEA\",\"Africa\",\"EMEA\",\"EMEA\",\"Africa\",\"Africa\",\"Africa\",\"EMEA\",\"EMEA\",\"Africa\",\"APAC\",\"Africa\",\"LATAM\",\"Africa\",\"LATAM\",\"EMEA\",\"APAC\",\"EMEA\",\"EMEA\",\"Africa\",\"Africa\",\"APAC\",\"Africa\",\"APAC\",\"EU\",\"APAC\",\"LATAM\",\"Africa\",\"Africa\",\"EU\",\"APAC\",\"LATAM\",\"APAC\",\"LATAM\",\"LATAM\",\"APAC\",\"EMEA\",\"EU\",\"EMEA\",\"Africa\",\"EMEA\",\"EMEA\",\"Africa\",\"EMEA\",\"Africa\",\"Africa\",\"APAC\",\"EMEA\",\"EMEA\",\"Africa\",\"Africa\",\"APAC\",\"Africa\",\"EU\",\"APAC\",\"Africa\",\"Africa\",\"EU\",\"EU\",\"EMEA\",\"APAC\",\"EMEA\",\"Africa\",\"APAC\",\"Africa\",\"LATAM\",\"Africa\",\"EMEA\",\"EMEA\",\"Africa\",\"EMEA\",\"EMEA\",\"EU\",\"LATAM\",\"EMEA\",\"LATAM\",\"APAC\",\"EMEA\",\"Africa\",\"Africa\",\"\",\"\",\"\",\"\",\"\",\"\"],\"values\":[21674,3888,36090,25551,57510,156,925257,11375,81168,5630,669,78254,7175,13390,49233,6215,11589,2600,361098,15560,268,17476,22355,66932,2376,1317,35449,700591,81508,25615,4463,158861,9579,87415,8643,2394,126137,13344,84137,177565,150,188,4479,850,20702,858930,1752,5428,628857,23272,1462,131609,3498,2065,11036,90137,6148,14254,589664,404887,113750,70730,16638,19294,289717,6762,100789,7325,4602,17569,5103,2797,6712,3561,7809,6723,210,12618,61363,8915,5968,4020,622620,5139,40,6749,4004,87079,21302,34144,2899,3522,77520,172022,149694,6923,54347,20529,58873,51556,2928,2591,17834,183433,44227,15106,6050,2714,37259,82915,5197,82006,28850,2449,40285,866,1469,8185,95301,33133,1045,287162,852,16336,288,30490,24874,5309,7648,242,26816,77048,4150,6880,1762,108524,2029,1625,86855,742,528570,9715,7330,26587,65802,2464,26029,3767,3585833,783776,66932,806184,2938139,2164687],\"type\":\"treemap\"}],                        {\"template\":{\"data\":{\"histogram2dcontour\":[{\"type\":\"histogram2dcontour\",\"colorbar\":{\"outlinewidth\":0,\"ticks\":\"\"},\"colorscale\":[[0.0,\"#0d0887\"],[0.1111111111111111,\"#46039f\"],[0.2222222222222222,\"#7201a8\"],[0.3333333333333333,\"#9c179e\"],[0.4444444444444444,\"#bd3786\"],[0.5555555555555556,\"#d8576b\"],[0.6666666666666666,\"#ed7953\"],[0.7777777777777778,\"#fb9f3a\"],[0.8888888888888888,\"#fdca26\"],[1.0,\"#f0f921\"]]}],\"choropleth\":[{\"type\":\"choropleth\",\"colorbar\":{\"outlinewidth\":0,\"ticks\":\"\"}}],\"histogram2d\":[{\"type\":\"histogram2d\",\"colorbar\":{\"outlinewidth\":0,\"ticks\":\"\"},\"colorscale\":[[0.0,\"#0d0887\"],[0.1111111111111111,\"#46039f\"],[0.2222222222222222,\"#7201a8\"],[0.3333333333333333,\"#9c179e\"],[0.4444444444444444,\"#bd3786\"],[0.5555555555555556,\"#d8576b\"],[0.6666666666666666,\"#ed7953\"],[0.7777777777777778,\"#fb9f3a\"],[0.8888888888888888,\"#fdca26\"],[1.0,\"#f0f921\"]]}],\"heatmap\":[{\"type\":\"heatmap\",\"colorbar\":{\"outlinewidth\":0,\"ticks\":\"\"},\"colorscale\":[[0.0,\"#0d0887\"],[0.1111111111111111,\"#46039f\"],[0.2222222222222222,\"#7201a8\"],[0.3333333333333333,\"#9c179e\"],[0.4444444444444444,\"#bd3786\"],[0.5555555555555556,\"#d8576b\"],[0.6666666666666666,\"#ed7953\"],[0.7777777777777778,\"#fb9f3a\"],[0.8888888888888888,\"#fdca26\"],[1.0,\"#f0f921\"]]}],\"heatmapgl\":[{\"type\":\"heatmapgl\",\"colorbar\":{\"outlinewidth\":0,\"ticks\":\"\"},\"colorscale\":[[0.0,\"#0d0887\"],[0.1111111111111111,\"#46039f\"],[0.2222222222222222,\"#7201a8\"],[0.3333333333333333,\"#9c179e\"],[0.4444444444444444,\"#bd3786\"],[0.5555555555555556,\"#d8576b\"],[0.6666666666666666,\"#ed7953\"],[0.7777777777777778,\"#fb9f3a\"],[0.8888888888888888,\"#fdca26\"],[1.0,\"#f0f921\"]]}],\"contourcarpet\":[{\"type\":\"contourcarpet\",\"colorbar\":{\"outlinewidth\":0,\"ticks\":\"\"}}],\"contour\":[{\"type\":\"contour\",\"colorbar\":{\"outlinewidth\":0,\"ticks\":\"\"},\"colorscale\":[[0.0,\"#0d0887\"],[0.1111111111111111,\"#46039f\"],[0.2222222222222222,\"#7201a8\"],[0.3333333333333333,\"#9c179e\"],[0.4444444444444444,\"#bd3786\"],[0.5555555555555556,\"#d8576b\"],[0.6666666666666666,\"#ed7953\"],[0.7777777777777778,\"#fb9f3a\"],[0.8888888888888888,\"#fdca26\"],[1.0,\"#f0f921\"]]}],\"surface\":[{\"type\":\"surface\",\"colorbar\":{\"outlinewidth\":0,\"ticks\":\"\"},\"colorscale\":[[0.0,\"#0d0887\"],[0.1111111111111111,\"#46039f\"],[0.2222222222222222,\"#7201a8\"],[0.3333333333333333,\"#9c179e\"],[0.4444444444444444,\"#bd3786\"],[0.5555555555555556,\"#d8576b\"],[0.6666666666666666,\"#ed7953\"],[0.7777777777777778,\"#fb9f3a\"],[0.8888888888888888,\"#fdca26\"],[1.0,\"#f0f921\"]]}],\"mesh3d\":[{\"type\":\"mesh3d\",\"colorbar\":{\"outlinewidth\":0,\"ticks\":\"\"}}],\"scatter\":[{\"fillpattern\":{\"fillmode\":\"overlay\",\"size\":10,\"solidity\":0.2},\"type\":\"scatter\"}],\"parcoords\":[{\"type\":\"parcoords\",\"line\":{\"colorbar\":{\"outlinewidth\":0,\"ticks\":\"\"}}}],\"scatterpolargl\":[{\"type\":\"scatterpolargl\",\"marker\":{\"colorbar\":{\"outlinewidth\":0,\"ticks\":\"\"}}}],\"bar\":[{\"error_x\":{\"color\":\"#2a3f5f\"},\"error_y\":{\"color\":\"#2a3f5f\"},\"marker\":{\"line\":{\"color\":\"#E5ECF6\",\"width\":0.5},\"pattern\":{\"fillmode\":\"overlay\",\"size\":10,\"solidity\":0.2}},\"type\":\"bar\"}],\"scattergeo\":[{\"type\":\"scattergeo\",\"marker\":{\"colorbar\":{\"outlinewidth\":0,\"ticks\":\"\"}}}],\"scatterpolar\":[{\"type\":\"scatterpolar\",\"marker\":{\"colorbar\":{\"outlinewidth\":0,\"ticks\":\"\"}}}],\"histogram\":[{\"marker\":{\"pattern\":{\"fillmode\":\"overlay\",\"size\":10,\"solidity\":0.2}},\"type\":\"histogram\"}],\"scattergl\":[{\"type\":\"scattergl\",\"marker\":{\"colorbar\":{\"outlinewidth\":0,\"ticks\":\"\"}}}],\"scatter3d\":[{\"type\":\"scatter3d\",\"line\":{\"colorbar\":{\"outlinewidth\":0,\"ticks\":\"\"}},\"marker\":{\"colorbar\":{\"outlinewidth\":0,\"ticks\":\"\"}}}],\"scattermapbox\":[{\"type\":\"scattermapbox\",\"marker\":{\"colorbar\":{\"outlinewidth\":0,\"ticks\":\"\"}}}],\"scatterternary\":[{\"type\":\"scatterternary\",\"marker\":{\"colorbar\":{\"outlinewidth\":0,\"ticks\":\"\"}}}],\"scattercarpet\":[{\"type\":\"scattercarpet\",\"marker\":{\"colorbar\":{\"outlinewidth\":0,\"ticks\":\"\"}}}],\"carpet\":[{\"aaxis\":{\"endlinecolor\":\"#2a3f5f\",\"gridcolor\":\"white\",\"linecolor\":\"white\",\"minorgridcolor\":\"white\",\"startlinecolor\":\"#2a3f5f\"},\"baxis\":{\"endlinecolor\":\"#2a3f5f\",\"gridcolor\":\"white\",\"linecolor\":\"white\",\"minorgridcolor\":\"white\",\"startlinecolor\":\"#2a3f5f\"},\"type\":\"carpet\"}],\"table\":[{\"cells\":{\"fill\":{\"color\":\"#EBF0F8\"},\"line\":{\"color\":\"white\"}},\"header\":{\"fill\":{\"color\":\"#C8D4E3\"},\"line\":{\"color\":\"white\"}},\"type\":\"table\"}],\"barpolar\":[{\"marker\":{\"line\":{\"color\":\"#E5ECF6\",\"width\":0.5},\"pattern\":{\"fillmode\":\"overlay\",\"size\":10,\"solidity\":0.2}},\"type\":\"barpolar\"}],\"pie\":[{\"automargin\":true,\"type\":\"pie\"}]},\"layout\":{\"autotypenumbers\":\"strict\",\"colorway\":[\"#636efa\",\"#EF553B\",\"#00cc96\",\"#ab63fa\",\"#FFA15A\",\"#19d3f3\",\"#FF6692\",\"#B6E880\",\"#FF97FF\",\"#FECB52\"],\"font\":{\"color\":\"#2a3f5f\"},\"hovermode\":\"closest\",\"hoverlabel\":{\"align\":\"left\"},\"paper_bgcolor\":\"white\",\"plot_bgcolor\":\"#E5ECF6\",\"polar\":{\"bgcolor\":\"#E5ECF6\",\"angularaxis\":{\"gridcolor\":\"white\",\"linecolor\":\"white\",\"ticks\":\"\"},\"radialaxis\":{\"gridcolor\":\"white\",\"linecolor\":\"white\",\"ticks\":\"\"}},\"ternary\":{\"bgcolor\":\"#E5ECF6\",\"aaxis\":{\"gridcolor\":\"white\",\"linecolor\":\"white\",\"ticks\":\"\"},\"baxis\":{\"gridcolor\":\"white\",\"linecolor\":\"white\",\"ticks\":\"\"},\"caxis\":{\"gridcolor\":\"white\",\"linecolor\":\"white\",\"ticks\":\"\"}},\"coloraxis\":{\"colorbar\":{\"outlinewidth\":0,\"ticks\":\"\"}},\"colorscale\":{\"sequential\":[[0.0,\"#0d0887\"],[0.1111111111111111,\"#46039f\"],[0.2222222222222222,\"#7201a8\"],[0.3333333333333333,\"#9c179e\"],[0.4444444444444444,\"#bd3786\"],[0.5555555555555556,\"#d8576b\"],[0.6666666666666666,\"#ed7953\"],[0.7777777777777778,\"#fb9f3a\"],[0.8888888888888888,\"#fdca26\"],[1.0,\"#f0f921\"]],\"sequentialminus\":[[0.0,\"#0d0887\"],[0.1111111111111111,\"#46039f\"],[0.2222222222222222,\"#7201a8\"],[0.3333333333333333,\"#9c179e\"],[0.4444444444444444,\"#bd3786\"],[0.5555555555555556,\"#d8576b\"],[0.6666666666666666,\"#ed7953\"],[0.7777777777777778,\"#fb9f3a\"],[0.8888888888888888,\"#fdca26\"],[1.0,\"#f0f921\"]],\"diverging\":[[0,\"#8e0152\"],[0.1,\"#c51b7d\"],[0.2,\"#de77ae\"],[0.3,\"#f1b6da\"],[0.4,\"#fde0ef\"],[0.5,\"#f7f7f7\"],[0.6,\"#e6f5d0\"],[0.7,\"#b8e186\"],[0.8,\"#7fbc41\"],[0.9,\"#4d9221\"],[1,\"#276419\"]]},\"xaxis\":{\"gridcolor\":\"white\",\"linecolor\":\"white\",\"ticks\":\"\",\"title\":{\"standoff\":15},\"zerolinecolor\":\"white\",\"automargin\":true,\"zerolinewidth\":2},\"yaxis\":{\"gridcolor\":\"white\",\"linecolor\":\"white\",\"ticks\":\"\",\"title\":{\"standoff\":15},\"zerolinecolor\":\"white\",\"automargin\":true,\"zerolinewidth\":2},\"scene\":{\"xaxis\":{\"backgroundcolor\":\"#E5ECF6\",\"gridcolor\":\"white\",\"linecolor\":\"white\",\"showbackground\":true,\"ticks\":\"\",\"zerolinecolor\":\"white\",\"gridwidth\":2},\"yaxis\":{\"backgroundcolor\":\"#E5ECF6\",\"gridcolor\":\"white\",\"linecolor\":\"white\",\"showbackground\":true,\"ticks\":\"\",\"zerolinecolor\":\"white\",\"gridwidth\":2},\"zaxis\":{\"backgroundcolor\":\"#E5ECF6\",\"gridcolor\":\"white\",\"linecolor\":\"white\",\"showbackground\":true,\"ticks\":\"\",\"zerolinecolor\":\"white\",\"gridwidth\":2}},\"shapedefaults\":{\"line\":{\"color\":\"#2a3f5f\"}},\"annotationdefaults\":{\"arrowcolor\":\"#2a3f5f\",\"arrowhead\":0,\"arrowwidth\":1},\"geo\":{\"bgcolor\":\"white\",\"landcolor\":\"#E5ECF6\",\"subunitcolor\":\"white\",\"showland\":true,\"showlakes\":true,\"lakecolor\":\"white\"},\"title\":{\"x\":0.05},\"mapbox\":{\"style\":\"light\"}}},\"coloraxis\":{\"colorbar\":{\"title\":{\"text\":\"Sales\"}},\"colorscale\":[[0.0,\"rgb(103,0,31)\"],[0.1,\"rgb(178,24,43)\"],[0.2,\"rgb(214,96,77)\"],[0.3,\"rgb(244,165,130)\"],[0.4,\"rgb(253,219,199)\"],[0.5,\"rgb(247,247,247)\"],[0.6,\"rgb(209,229,240)\"],[0.7,\"rgb(146,197,222)\"],[0.8,\"rgb(67,147,195)\"],[0.9,\"rgb(33,102,172)\"],[1.0,\"rgb(5,48,97)\"]]},\"legend\":{\"tracegroupgap\":0},\"margin\":{\"t\":50,\"l\":25,\"r\":25,\"b\":25}},                        {\"responsive\": true}                    ).then(function(){\n",
       "                            \n",
       "var gd = document.getElementById('17e9c937-a4fc-49e9-881b-f228cbc1703a');\n",
       "var x = new MutationObserver(function (mutations, observer) {{\n",
       "        var display = window.getComputedStyle(gd).display;\n",
       "        if (!display || display === 'none') {{\n",
       "            console.log([gd, 'removed!']);\n",
       "            Plotly.purge(gd);\n",
       "            observer.disconnect();\n",
       "        }}\n",
       "}});\n",
       "\n",
       "// Listen for the removal of the full notebook cells\n",
       "var notebookContainer = gd.closest('#notebook-container');\n",
       "if (notebookContainer) {{\n",
       "    x.observe(notebookContainer, {childList: true});\n",
       "}}\n",
       "\n",
       "// Listen for the clearing of the current output cell\n",
       "var outputEl = gd.closest('.output');\n",
       "if (outputEl) {{\n",
       "    x.observe(outputEl, {childList: true});\n",
       "}}\n",
       "\n",
       "                        })                };                });            </script>        </div>"
      ]
     },
     "metadata": {},
     "output_type": "display_data"
    }
   ],
   "source": [
    "#판매액 기준 트리맵 - 미국 제외\n",
    "import plotly.express as px\n",
    "import numpy as np\n",
    "\n",
    "temp2 = df[df['Market'] != 'US'][['Market','Country','Sales']].groupby(['Market','Country'])['Sales'].sum().reset_index()\n",
    "\n",
    "fig = px.treemap(temp2,path=['Market','Country'], values='Sales',\n",
    "                  color='Sales', hover_data=['Market','Country','Sales'], color_continuous_scale='RdBu')\n",
    "\n",
    "fig.update_layout(margin = dict(t=50, l=25, r=25, b=25))\n",
    "#color_discrete_sequence = px.colors.qualitative.Plotly)fig.data[0].textinfo = 'label+text+value'fig.show()"
   ]
  },
  {
   "cell_type": "code",
   "execution_count": 303,
   "id": "0cede36a-ba43-4c26-8d93-9891edcb4f28",
   "metadata": {
    "scrolled": true
   },
   "outputs": [
    {
     "name": "stdout",
     "output_type": "stream",
     "text": [
      "             Country  Customer Count  Order Count  Sales Sum   Profit Sum  \\\n",
      "0        Afghanistan              25           26      21674    5460.3000   \n",
      "1          Australia             660         1420     925257  103907.4330   \n",
      "2         Bangladesh              76           82      78254   19430.8900   \n",
      "3           Cambodia              21           21      17476    4476.5400   \n",
      "4              China             549          925     700591  150683.0850   \n",
      "5          Hong Kong               9            9       6148    1558.1100   \n",
      "6              India             494          785     589664  129071.8350   \n",
      "7          Indonesia             469          698     404887   15608.6779   \n",
      "8              Japan             124          128     100789   24328.4670   \n",
      "9           Malaysia              81           82      61363   16329.9600   \n",
      "10          Mongolia               1            1         40     -17.0100   \n",
      "11   Myanmar (Burma)              56           58      34144   -2109.2583   \n",
      "12             Nepal               6            6       3522     877.4400   \n",
      "13       New Zealand             252          315     172022   16600.2840   \n",
      "14          Pakistan             116          123      58873  -22446.6480   \n",
      "15  Papua New Guinea               9            9       2928    -418.6050   \n",
      "16       Philippines             275          326     183433  -16128.2250   \n",
      "17         Singapore              65           72      40285    8853.0600   \n",
      "18       South Korea              74           82      33133  -12792.8310   \n",
      "19         Sri Lanka               4            4        852      86.3700   \n",
      "20            Taiwan               5            5       7648    1818.6000   \n",
      "21          Thailand             127          138      77048   -7308.1950   \n",
      "22           Vietnam             113          122      65802   -1870.2306   \n",
      "\n",
      "    Orders per Customer  Sales per Customer  Profit per Customer  \\\n",
      "0              1.040000          866.960000           218.412000   \n",
      "1              2.151515         1401.904545           157.435505   \n",
      "2              1.078947         1029.657895           255.669605   \n",
      "3              1.000000          832.190476           213.168571   \n",
      "4              1.684882         1276.122040           274.468279   \n",
      "5              1.000000          683.111111           173.123333   \n",
      "6              1.589069         1193.651822           261.279018   \n",
      "7              1.488273          863.298507            33.280763   \n",
      "8              1.032258          812.814516           196.197315   \n",
      "9              1.012346          757.567901           201.604444   \n",
      "10             1.000000           40.000000           -17.010000   \n",
      "11             1.035714          609.714286           -37.665327   \n",
      "12             1.000000          587.000000           146.240000   \n",
      "13             1.250000          682.626984            65.874143   \n",
      "14             1.060345          507.525862          -193.505586   \n",
      "15             1.000000          325.333333           -46.511667   \n",
      "16             1.185455          667.029091           -58.648091   \n",
      "17             1.107692          619.769231           136.200923   \n",
      "18             1.108108          447.743243          -172.876095   \n",
      "19             1.000000          213.000000            21.592500   \n",
      "20             1.000000         1529.600000           363.720000   \n",
      "21             1.086614          606.677165           -57.544843   \n",
      "22             1.079646          582.318584           -16.550713   \n",
      "\n",
      "    Profit/Sales  Order Frequency (Days)  \n",
      "0       0.251929                    48.0  \n",
      "1       0.112301                   152.0  \n",
      "2       0.248305                    20.0  \n",
      "3       0.256154                     0.0  \n",
      "4       0.215080                   118.0  \n",
      "5       0.253434                     0.0  \n",
      "6       0.218890                   135.0  \n",
      "7       0.038551                   114.0  \n",
      "8       0.241380                    28.0  \n",
      "9       0.266121                     3.0  \n",
      "10     -0.425250                     NaN  \n",
      "11     -0.061775                    17.0  \n",
      "12      0.249131                     0.0  \n",
      "13      0.096501                   100.0  \n",
      "14     -0.381272                    18.0  \n",
      "15     -0.142966                     0.0  \n",
      "16     -0.087924                    75.0  \n",
      "17      0.219761                    34.0  \n",
      "18     -0.386105                    33.0  \n",
      "19      0.101373                     0.0  \n",
      "20      0.237788                     0.0  \n",
      "21     -0.094852                    19.0  \n",
      "22     -0.028422                    31.0  \n"
     ]
    },
    {
     "data": {
      "image/png": "[encoded data removed]",
      "text/plain": [
       "<Figure size 1800x1200 with 6 Axes>"
      ]
     },
     "metadata": {},
     "output_type": "display_data"
    }
   ],
   "source": [
    "import pandas as pd\n",
    "import seaborn as sns\n",
    "import matplotlib.pyplot as plt\n",
    "\n",
    "# APAC 지역 데이터 필터링\n",
    "df = pd.read_csv('superstore.csv')\n",
    "df_apac = df[df['Market'] == 'APAC'].copy()\n",
    "\n",
    "# 대륙별 고객 수, 주문 수, 이익액, 매출액\n",
    "customer_count = df_apac.groupby('Country')['Customer.ID'].nunique().reset_index()\n",
    "customer_count.rename(columns={'Customer.ID': 'Customer Count'}, inplace=True)\n",
    "\n",
    "order_count = df_apac.groupby('Country')['Order.ID'].nunique().reset_index()\n",
    "order_count.rename(columns={'Order.ID': 'Order Count'}, inplace=True)\n",
    "\n",
    "profit_amount = df_apac.groupby('Country')['Profit'].sum().reset_index() \n",
    "profit_amount.rename(columns={'Profit': 'Profit Sum'}, inplace=True)\n",
    "\n",
    "sales_amount = df_apac.groupby('Country')['Sales'].sum().reset_index()\n",
    "sales_amount.rename(columns={'Sales': 'Sales Sum'}, inplace=True)\n",
    "\n",
    "# 국가별 고객 지표 통합\n",
    "country_stats = pd.merge(customer_count, order_count, on='Country')\n",
    "country_stats = pd.merge(country_stats, sales_amount, on='Country')\n",
    "country_stats = pd.merge(country_stats, profit_amount, on='Country')\n",
    "\n",
    "# 인당 주문 횟수 계산 (Order Count / Customer Count)\n",
    "country_stats['Orders per Customer'] = country_stats['Order Count'] / country_stats['Customer Count']\n",
    "\n",
    "# 인당 매출액 계산 (Sales / Customer Count)\n",
    "country_stats['Sales per Customer'] = country_stats['Sales Sum'] / country_stats['Customer Count']\n",
    "\n",
    "# 인당 이익액 계산 (Profit  / Customer Count)\n",
    "country_stats['Profit per Customer'] = country_stats['Profit Sum'] / country_stats['Customer Count']\n",
    "\n",
    "# 매출액 1달러 당 이익\n",
    "country_stats['Profit/Sales'] = country_stats['Profit Sum'] / country_stats['Sales Sum']\n",
    "\n",
    "# 주문 주기 (평균 주문 간격) 계산\n",
    "df_apac['Order.Date'] = pd.to_datetime(df_apac['Order.Date'])\n",
    "order_intervals = df_apac.groupby(['Country', 'Customer.ID'])['Order.Date'].agg(['min', 'max', 'count'])\n",
    "order_intervals['Order Frequency (Days)'] = (order_intervals['max'] - order_intervals['min']) / (order_intervals['count'] - 1)\n",
    "order_intervals = order_intervals.groupby('Country')['Order Frequency (Days)'].mean().reset_index()\n",
    "order_intervals['Order Frequency (Days)'] = order_intervals['Order Frequency (Days)'].dt.days\n",
    "\n",
    "# 통합 데이터프레임 만들기\n",
    "country_stats = pd.merge(country_stats, order_intervals, on='Country', how='left')\n",
    "\n",
    "# 분석 결과 출력\n",
    "print(country_stats)\n",
    "\n",
    "# 📊 시각화\n",
    "fig, axes = plt.subplots(2, 3, figsize=(18, 12))\n",
    "\n",
    "sns.barplot(data=country_stats, x='Customer Count', y='Country', ax=axes[0, 0], palette='coolwarm')\n",
    "axes[0, 0].set_title('Customer Count by Country (APAC)')\n",
    "\n",
    "sns.barplot(data=country_stats, x='Order Count', y='Country', ax=axes[0, 1], palette='coolwarm')\n",
    "axes[0, 1].set_title('Order Count by Country (APAC)')\n",
    "\n",
    "sns.barplot(data=country_stats, x='Sales Sum', y='Country', ax=axes[0, 2], palette='coolwarm')\n",
    "axes[0, 2].set_title('Total Sales by Country (APAC)')\n",
    "\n",
    "sns.barplot(data=country_stats, x='Profit Sum', y='Country', ax=axes[1, 0], palette='coolwarm')\n",
    "axes[1, 0].set_title('Total Profit by Country (APAC)')\n",
    "\n",
    "sns.barplot(data=country_stats, x='Orders per Customer', y='Country', ax=axes[1, 1], palette='coolwarm')\n",
    "axes[1, 1].set_title('Orders per Customer by Country (APAC)')\n",
    "\n",
    "sns.barplot(data=country_stats, x='Order Frequency (Days)', y='Country', ax=axes[1, 2], palette='coolwarm')\n",
    "axes[1, 2].set_title('Order Frequency by Country (APAC)')\n",
    "\n",
    "plt.tight_layout()\n",
    "plt.show()\n"
   ]
  },
  {
   "cell_type": "code",
   "execution_count": 364,
   "id": "8876e452-936b-4baa-a219-bf4e4373a80a",
   "metadata": {
    "scrolled": true
   },
   "outputs": [
    {
     "data": {
      "application/vnd.plotly.v1+json": {
       "config": {
        "plotlyServerURL": "https://plot.ly"
       },
       "data": [
        {
         "hovertemplate": "Market=APAC<br>Profit=%{marker.size}<br>Sales=%{y}<extra></extra>",
         "legendgroup": "APAC",
         "marker": {
          "color": "#636efa",
          "size": [
           436000.049
          ],
          "sizemode": "area",
          "sizeref": 1090.0001225,
          "symbol": "circle"
         },
         "mode": "markers",
         "name": "APAC",
         "orientation": "v",
         "showlegend": true,
         "type": "scatter",
         "x": [
          436000.049
         ],
         "xaxis": "x",
         "y": [
          3585833
         ],
         "yaxis": "y"
        },
        {
         "hovertemplate": "Market=Africa<br>Profit=%{marker.size}<br>Sales=%{y}<extra></extra>",
         "legendgroup": "Africa",
         "marker": {
          "color": "#EF553B",
          "size": [
           88871.631
          ],
          "sizemode": "area",
          "sizeref": 1090.0001225,
          "symbol": "circle"
         },
         "mode": "markers",
         "name": "Africa",
         "orientation": "v",
         "showlegend": true,
         "type": "scatter",
         "x": [
          88871.631
         ],
         "xaxis": "x",
         "y": [
          783776
         ],
         "yaxis": "y"
        },
        {
         "hovertemplate": "Market=Canada<br>Profit=%{marker.size}<br>Sales=%{y}<extra></extra>",
         "legendgroup": "Canada",
         "marker": {
          "color": "#00cc96",
          "size": [
           17817.39
          ],
          "sizemode": "area",
          "sizeref": 1090.0001225,
          "symbol": "circle"
         },
         "mode": "markers",
         "name": "Canada",
         "orientation": "v",
         "showlegend": true,
         "type": "scatter",
         "x": [
          17817.39
         ],
         "xaxis": "x",
         "y": [
          66932
         ],
         "yaxis": "y"
        },
        {
         "hovertemplate": "Market=EMEA<br>Profit=%{marker.size}<br>Sales=%{y}<extra></extra>",
         "legendgroup": "EMEA",
         "marker": {
          "color": "#ab63fa",
          "size": [
           43897.971
          ],
          "sizemode": "area",
          "sizeref": 1090.0001225,
          "symbol": "circle"
         },
         "mode": "markers",
         "name": "EMEA",
         "orientation": "v",
         "showlegend": true,
         "type": "scatter",
         "x": [
          43897.971
         ],
         "xaxis": "x",
         "y": [
          806184
         ],
         "yaxis": "y"
        },
        {
         "hovertemplate": "Market=EU<br>Profit=%{marker.size}<br>Sales=%{y}<extra></extra>",
         "legendgroup": "EU",
         "marker": {
          "color": "#FFA15A",
          "size": [
           372829.7415
          ],
          "sizemode": "area",
          "sizeref": 1090.0001225,
          "symbol": "circle"
         },
         "mode": "markers",
         "name": "EU",
         "orientation": "v",
         "showlegend": true,
         "type": "scatter",
         "x": [
          372829.7415
         ],
         "xaxis": "x",
         "y": [
          2938139
         ],
         "yaxis": "y"
        },
        {
         "hovertemplate": "Market=LATAM<br>Profit=%{marker.size}<br>Sales=%{y}<extra></extra>",
         "legendgroup": "LATAM",
         "marker": {
          "color": "#19d3f3",
          "size": [
           221643.48708
          ],
          "sizemode": "area",
          "sizeref": 1090.0001225,
          "symbol": "circle"
         },
         "mode": "markers",
         "name": "LATAM",
         "orientation": "v",
         "showlegend": true,
         "type": "scatter",
         "x": [
          221643.48708
         ],
         "xaxis": "x",
         "y": [
          2164687
         ],
         "yaxis": "y"
        },
        {
         "hovertemplate": "Market=US<br>Profit=%{marker.size}<br>Sales=%{y}<extra></extra>",
         "legendgroup": "US",
         "marker": {
          "color": "#FF6692",
          "size": [
           286397.0217
          ],
          "sizemode": "area",
          "sizeref": 1090.0001225,
          "symbol": "circle"
         },
         "mode": "markers",
         "name": "US",
         "orientation": "v",
         "showlegend": true,
         "type": "scatter",
         "x": [
          286397.0217
         ],
         "xaxis": "x",
         "y": [
          2297354
         ],
         "yaxis": "y"
        }
       ],
       "layout": {
        "legend": {
         "itemsizing": "constant",
         "title": {
          "text": "Market"
         },
         "tracegroupgap": 0
        },
        "margin": {
         "t": 60
        },
        "template": {
         "data": {
          "bar": [
           {
            "error_x": {
             "color": "#2a3f5f"
            },
            "error_y": {
             "color": "#2a3f5f"
            },
            "marker": {
             "line": {
              "color": "#E5ECF6",
              "width": 0.5
             },
             "pattern": {
              "fillmode": "overlay",
              "size": 10,
              "solidity": 0.2
             }
            },
            "type": "bar"
           }
          ],
          "barpolar": [
           {
            "marker": {
             "line": {
              "color": "#E5ECF6",
              "width": 0.5
             },
             "pattern": {
              "fillmode": "overlay",
              "size": 10,
              "solidity": 0.2
             }
            },
            "type": "barpolar"
           }
          ],
          "carpet": [
           {
            "aaxis": {
             "endlinecolor": "#2a3f5f",
             "gridcolor": "white",
             "linecolor": "white",
             "minorgridcolor": "white",
             "startlinecolor": "#2a3f5f"
            },
            "baxis": {
             "endlinecolor": "#2a3f5f",
             "gridcolor": "white",
             "linecolor": "white",
             "minorgridcolor": "white",
             "startlinecolor": "#2a3f5f"
            },
            "type": "carpet"
           }
          ],
          "choropleth": [
           {
            "colorbar": {
             "outlinewidth": 0,
             "ticks": ""
            },
            "type": "choropleth"
           }
          ],
          "contour": [
           {
            "colorbar": {
             "outlinewidth": 0,
             "ticks": ""
            },
            "colorscale": [
             [
              0,
              "#0d0887"
             ],
             [
              0.1111111111111111,
              "#46039f"
             ],
             [
              0.2222222222222222,
              "#7201a8"
             ],
             [
              0.3333333333333333,
              "#9c179e"
             ],
             [
              0.4444444444444444,
              "#bd3786"
             ],
             [
              0.5555555555555556,
              "#d8576b"
             ],
             [
              0.6666666666666666,
              "#ed7953"
             ],
             [
              0.7777777777777778,
              "#fb9f3a"
             ],
             [
              0.8888888888888888,
              "#fdca26"
             ],
             [
              1,
              "#f0f921"
             ]
            ],
            "type": "contour"
           }
          ],
          "contourcarpet": [
           {
            "colorbar": {
             "outlinewidth": 0,
             "ticks": ""
            },
            "type": "contourcarpet"
           }
          ],
          "heatmap": [
           {
            "colorbar": {
             "outlinewidth": 0,
             "ticks": ""
            },
            "colorscale": [
             [
              0,
              "#0d0887"
             ],
             [
              0.1111111111111111,
              "#46039f"
             ],
             [
              0.2222222222222222,
              "#7201a8"
             ],
             [
              0.3333333333333333,
              "#9c179e"
             ],
             [
              0.4444444444444444,
              "#bd3786"
             ],
             [
              0.5555555555555556,
              "#d8576b"
             ],
             [
              0.6666666666666666,
              "#ed7953"
             ],
             [
              0.7777777777777778,
              "#fb9f3a"
             ],
             [
              0.8888888888888888,
              "#fdca26"
             ],
             [
              1,
              "#f0f921"
             ]
            ],
            "type": "heatmap"
           }
          ],
          "heatmapgl": [
           {
            "colorbar": {
             "outlinewidth": 0,
             "ticks": ""
            },
            "colorscale": [
             [
              0,
              "#0d0887"
             ],
             [
              0.1111111111111111,
              "#46039f"
             ],
             [
              0.2222222222222222,
              "#7201a8"
             ],
             [
              0.3333333333333333,
              "#9c179e"
             ],
             [
              0.4444444444444444,
              "#bd3786"
             ],
             [
              0.5555555555555556,
              "#d8576b"
             ],
             [
              0.6666666666666666,
              "#ed7953"
             ],
             [
              0.7777777777777778,
              "#fb9f3a"
             ],
             [
              0.8888888888888888,
              "#fdca26"
             ],
             [
              1,
              "#f0f921"
             ]
            ],
            "type": "heatmapgl"
           }
          ],
          "histogram": [
           {
            "marker": {
             "pattern": {
              "fillmode": "overlay",
              "size": 10,
              "solidity": 0.2
             }
            },
            "type": "histogram"
           }
          ],
          "histogram2d": [
           {
            "colorbar": {
             "outlinewidth": 0,
             "ticks": ""
            },
            "colorscale": [
             [
              0,
              "#0d0887"
             ],
             [
              0.1111111111111111,
              "#46039f"
             ],
             [
              0.2222222222222222,
              "#7201a8"
             ],
             [
              0.3333333333333333,
              "#9c179e"
             ],
             [
              0.4444444444444444,
              "#bd3786"
             ],
             [
              0.5555555555555556,
              "#d8576b"
             ],
             [
              0.6666666666666666,
              "#ed7953"
             ],
             [
              0.7777777777777778,
              "#fb9f3a"
             ],
             [
              0.8888888888888888,
              "#fdca26"
             ],
             [
              1,
              "#f0f921"
             ]
            ],
            "type": "histogram2d"
           }
          ],
          "histogram2dcontour": [
           {
            "colorbar": {
             "outlinewidth": 0,
             "ticks": ""
            },
            "colorscale": [
             [
              0,
              "#0d0887"
             ],
             [
              0.1111111111111111,
              "#46039f"
             ],
             [
              0.2222222222222222,
              "#7201a8"
             ],
             [
              0.3333333333333333,
              "#9c179e"
             ],
             [
              0.4444444444444444,
              "#bd3786"
             ],
             [
              0.5555555555555556,
              "#d8576b"
             ],
             [
              0.6666666666666666,
              "#ed7953"
             ],
             [
              0.7777777777777778,
              "#fb9f3a"
             ],
             [
              0.8888888888888888,
              "#fdca26"
             ],
             [
              1,
              "#f0f921"
             ]
            ],
            "type": "histogram2dcontour"
           }
          ],
          "mesh3d": [
           {
            "colorbar": {
             "outlinewidth": 0,
             "ticks": ""
            },
            "type": "mesh3d"
           }
          ],
          "parcoords": [
           {
            "line": {
             "colorbar": {
              "outlinewidth": 0,
              "ticks": ""
             }
            },
            "type": "parcoords"
           }
          ],
          "pie": [
           {
            "automargin": true,
            "type": "pie"
           }
          ],
          "scatter": [
           {
            "fillpattern": {
             "fillmode": "overlay",
             "size": 10,
             "solidity": 0.2
            },
            "type": "scatter"
           }
          ],
          "scatter3d": [
           {
            "line": {
             "colorbar": {
              "outlinewidth": 0,
              "ticks": ""
             }
            },
            "marker": {
             "colorbar": {
              "outlinewidth": 0,
              "ticks": ""
             }
            },
            "type": "scatter3d"
           }
          ],
          "scattercarpet": [
           {
            "marker": {
             "colorbar": {
              "outlinewidth": 0,
              "ticks": ""
             }
            },
            "type": "scattercarpet"
           }
          ],
          "scattergeo": [
           {
            "marker": {
             "colorbar": {
              "outlinewidth": 0,
              "ticks": ""
             }
            },
            "type": "scattergeo"
           }
          ],
          "scattergl": [
           {
            "marker": {
             "colorbar": {
              "outlinewidth": 0,
              "ticks": ""
             }
            },
            "type": "scattergl"
           }
          ],
          "scattermapbox": [
           {
            "marker": {
             "colorbar": {
              "outlinewidth": 0,
              "ticks": ""
             }
            },
            "type": "scattermapbox"
           }
          ],
          "scatterpolar": [
           {
            "marker": {
             "colorbar": {
              "outlinewidth": 0,
              "ticks": ""
             }
            },
            "type": "scatterpolar"
           }
          ],
          "scatterpolargl": [
           {
            "marker": {
             "colorbar": {
              "outlinewidth": 0,
              "ticks": ""
             }
            },
            "type": "scatterpolargl"
           }
          ],
          "scatterternary": [
           {
            "marker": {
             "colorbar": {
              "outlinewidth": 0,
              "ticks": ""
             }
            },
            "type": "scatterternary"
           }
          ],
          "surface": [
           {
            "colorbar": {
             "outlinewidth": 0,
             "ticks": ""
            },
            "colorscale": [
             [
              0,
              "#0d0887"
             ],
             [
              0.1111111111111111,
              "#46039f"
             ],
             [
              0.2222222222222222,
              "#7201a8"
             ],
             [
              0.3333333333333333,
              "#9c179e"
             ],
             [
              0.4444444444444444,
              "#bd3786"
             ],
             [
              0.5555555555555556,
              "#d8576b"
             ],
             [
              0.6666666666666666,
              "#ed7953"
             ],
             [
              0.7777777777777778,
              "#fb9f3a"
             ],
             [
              0.8888888888888888,
              "#fdca26"
             ],
             [
              1,
              "#f0f921"
             ]
            ],
            "type": "surface"
           }
          ],
          "table": [
           {
            "cells": {
             "fill": {
              "color": "#EBF0F8"
             },
             "line": {
              "color": "white"
             }
            },
            "header": {
             "fill": {
              "color": "#C8D4E3"
             },
             "line": {
              "color": "white"
             }
            },
            "type": "table"
           }
          ]
         },
         "layout": {
          "annotationdefaults": {
           "arrowcolor": "#2a3f5f",
           "arrowhead": 0,
           "arrowwidth": 1
          },
          "autotypenumbers": "strict",
          "coloraxis": {
           "colorbar": {
            "outlinewidth": 0,
            "ticks": ""
           }
          },
          "colorscale": {
           "diverging": [
            [
             0,
             "#8e0152"
            ],
            [
             0.1,
             "#c51b7d"
            ],
            [
             0.2,
             "#de77ae"
            ],
            [
             0.3,
             "#f1b6da"
            ],
            [
             0.4,
             "#fde0ef"
            ],
            [
             0.5,
             "#f7f7f7"
            ],
            [
             0.6,
             "#e6f5d0"
            ],
            [
             0.7,
             "#b8e186"
            ],
            [
             0.8,
             "#7fbc41"
            ],
            [
             0.9,
             "#4d9221"
            ],
            [
             1,
             "#276419"
            ]
           ],
           "sequential": [
            [
             0,
             "#0d0887"
            ],
            [
             0.1111111111111111,
             "#46039f"
            ],
            [
             0.2222222222222222,
             "#7201a8"
            ],
            [
             0.3333333333333333,
             "#9c179e"
            ],
            [
             0.4444444444444444,
             "#bd3786"
            ],
            [
             0.5555555555555556,
             "#d8576b"
            ],
            [
             0.6666666666666666,
             "#ed7953"
            ],
            [
             0.7777777777777778,
             "#fb9f3a"
            ],
            [
             0.8888888888888888,
             "#fdca26"
            ],
            [
             1,
             "#f0f921"
            ]
           ],
           "sequentialminus": [
            [
             0,
             "#0d0887"
            ],
            [
             0.1111111111111111,
             "#46039f"
            ],
            [
             0.2222222222222222,
             "#7201a8"
            ],
            [
             0.3333333333333333,
             "#9c179e"
            ],
            [
             0.4444444444444444,
             "#bd3786"
            ],
            [
             0.5555555555555556,
             "#d8576b"
            ],
            [
             0.6666666666666666,
             "#ed7953"
            ],
            [
             0.7777777777777778,
             "#fb9f3a"
            ],
            [
             0.8888888888888888,
             "#fdca26"
            ],
            [
             1,
             "#f0f921"
            ]
           ]
          },
          "colorway": [
           "#636efa",
           "#EF553B",
           "#00cc96",
           "#ab63fa",
           "#FFA15A",
           "#19d3f3",
           "#FF6692",
           "#B6E880",
           "#FF97FF",
           "#FECB52"
          ],
          "font": {
           "color": "#2a3f5f"
          },
          "geo": {
           "bgcolor": "white",
           "lakecolor": "white",
           "landcolor": "#E5ECF6",
           "showlakes": true,
           "showland": true,
           "subunitcolor": "white"
          },
          "hoverlabel": {
           "align": "left"
          },
          "hovermode": "closest",
          "mapbox": {
           "style": "light"
          },
          "paper_bgcolor": "white",
          "plot_bgcolor": "#E5ECF6",
          "polar": {
           "angularaxis": {
            "gridcolor": "white",
            "linecolor": "white",
            "ticks": ""
           },
           "bgcolor": "#E5ECF6",
           "radialaxis": {
            "gridcolor": "white",
            "linecolor": "white",
            "ticks": ""
           }
          },
          "scene": {
           "xaxis": {
            "backgroundcolor": "#E5ECF6",
            "gridcolor": "white",
            "gridwidth": 2,
            "linecolor": "white",
            "showbackground": true,
            "ticks": "",
            "zerolinecolor": "white"
           },
           "yaxis": {
            "backgroundcolor": "#E5ECF6",
            "gridcolor": "white",
            "gridwidth": 2,
            "linecolor": "white",
            "showbackground": true,
            "ticks": "",
            "zerolinecolor": "white"
           },
           "zaxis": {
            "backgroundcolor": "#E5ECF6",
            "gridcolor": "white",
            "gridwidth": 2,
            "linecolor": "white",
            "showbackground": true,
            "ticks": "",
            "zerolinecolor": "white"
           }
          },
          "shapedefaults": {
           "line": {
            "color": "#2a3f5f"
           }
          },
          "ternary": {
           "aaxis": {
            "gridcolor": "white",
            "linecolor": "white",
            "ticks": ""
           },
           "baxis": {
            "gridcolor": "white",
            "linecolor": "white",
            "ticks": ""
           },
           "bgcolor": "#E5ECF6",
           "caxis": {
            "gridcolor": "white",
            "linecolor": "white",
            "ticks": ""
           }
          },
          "title": {
           "x": 0.05
          },
          "xaxis": {
           "automargin": true,
           "gridcolor": "white",
           "linecolor": "white",
           "ticks": "",
           "title": {
            "standoff": 15
           },
           "zerolinecolor": "white",
           "zerolinewidth": 2
          },
          "yaxis": {
           "automargin": true,
           "gridcolor": "white",
           "linecolor": "white",
           "ticks": "",
           "title": {
            "standoff": 15
           },
           "zerolinecolor": "white",
           "zerolinewidth": 2
          }
         }
        },
        "xaxis": {
         "anchor": "y",
         "domain": [
          0,
          1
         ],
         "title": {
          "text": "Profit"
         }
        },
        "yaxis": {
         "anchor": "x",
         "domain": [
          0,
          1
         ],
         "title": {
          "text": "Sales"
         }
        }
       }
      },
      "image/png": "[encoded data removed]",
      "text/html": [
       "<div>                            <div id=\"ec4bc22e-7ddc-444e-8974-c5717c2b0382\" class=\"plotly-graph-div\" style=\"height:525px; width:100%;\"></div>            <script type=\"text/javascript\">                require([\"plotly\"], function(Plotly) {                    window.PLOTLYENV=window.PLOTLYENV || {};                                    if (document.getElementById(\"ec4bc22e-7ddc-444e-8974-c5717c2b0382\")) {                    Plotly.newPlot(                        \"ec4bc22e-7ddc-444e-8974-c5717c2b0382\",                        [{\"hovertemplate\":\"Market=APAC\\u003cbr\\u003eProfit=%{marker.size}\\u003cbr\\u003eSales=%{y}\\u003cextra\\u003e\\u003c\\u002fextra\\u003e\",\"legendgroup\":\"APAC\",\"marker\":{\"color\":\"#636efa\",\"size\":[436000.049],\"sizemode\":\"area\",\"sizeref\":1090.0001225,\"symbol\":\"circle\"},\"mode\":\"markers\",\"name\":\"APAC\",\"orientation\":\"v\",\"showlegend\":true,\"x\":[436000.049],\"xaxis\":\"x\",\"y\":[3585833],\"yaxis\":\"y\",\"type\":\"scatter\"},{\"hovertemplate\":\"Market=Africa\\u003cbr\\u003eProfit=%{marker.size}\\u003cbr\\u003eSales=%{y}\\u003cextra\\u003e\\u003c\\u002fextra\\u003e\",\"legendgroup\":\"Africa\",\"marker\":{\"color\":\"#EF553B\",\"size\":[88871.631],\"sizemode\":\"area\",\"sizeref\":1090.0001225,\"symbol\":\"circle\"},\"mode\":\"markers\",\"name\":\"Africa\",\"orientation\":\"v\",\"showlegend\":true,\"x\":[88871.631],\"xaxis\":\"x\",\"y\":[783776],\"yaxis\":\"y\",\"type\":\"scatter\"},{\"hovertemplate\":\"Market=Canada\\u003cbr\\u003eProfit=%{marker.size}\\u003cbr\\u003eSales=%{y}\\u003cextra\\u003e\\u003c\\u002fextra\\u003e\",\"legendgroup\":\"Canada\",\"marker\":{\"color\":\"#00cc96\",\"size\":[17817.39],\"sizemode\":\"area\",\"sizeref\":1090.0001225,\"symbol\":\"circle\"},\"mode\":\"markers\",\"name\":\"Canada\",\"orientation\":\"v\",\"showlegend\":true,\"x\":[17817.39],\"xaxis\":\"x\",\"y\":[66932],\"yaxis\":\"y\",\"type\":\"scatter\"},{\"hovertemplate\":\"Market=EMEA\\u003cbr\\u003eProfit=%{marker.size}\\u003cbr\\u003eSales=%{y}\\u003cextra\\u003e\\u003c\\u002fextra\\u003e\",\"legendgroup\":\"EMEA\",\"marker\":{\"color\":\"#ab63fa\",\"size\":[43897.971],\"sizemode\":\"area\",\"sizeref\":1090.0001225,\"symbol\":\"circle\"},\"mode\":\"markers\",\"name\":\"EMEA\",\"orientation\":\"v\",\"showlegend\":true,\"x\":[43897.971],\"xaxis\":\"x\",\"y\":[806184],\"yaxis\":\"y\",\"type\":\"scatter\"},{\"hovertemplate\":\"Market=EU\\u003cbr\\u003eProfit=%{marker.size}\\u003cbr\\u003eSales=%{y}\\u003cextra\\u003e\\u003c\\u002fextra\\u003e\",\"legendgroup\":\"EU\",\"marker\":{\"color\":\"#FFA15A\",\"size\":[372829.7415],\"sizemode\":\"area\",\"sizeref\":1090.0001225,\"symbol\":\"circle\"},\"mode\":\"markers\",\"name\":\"EU\",\"orientation\":\"v\",\"showlegend\":true,\"x\":[372829.7415],\"xaxis\":\"x\",\"y\":[2938139],\"yaxis\":\"y\",\"type\":\"scatter\"},{\"hovertemplate\":\"Market=LATAM\\u003cbr\\u003eProfit=%{marker.size}\\u003cbr\\u003eSales=%{y}\\u003cextra\\u003e\\u003c\\u002fextra\\u003e\",\"legendgroup\":\"LATAM\",\"marker\":{\"color\":\"#19d3f3\",\"size\":[221643.48708],\"sizemode\":\"area\",\"sizeref\":1090.0001225,\"symbol\":\"circle\"},\"mode\":\"markers\",\"name\":\"LATAM\",\"orientation\":\"v\",\"showlegend\":true,\"x\":[221643.48708],\"xaxis\":\"x\",\"y\":[2164687],\"yaxis\":\"y\",\"type\":\"scatter\"},{\"hovertemplate\":\"Market=US\\u003cbr\\u003eProfit=%{marker.size}\\u003cbr\\u003eSales=%{y}\\u003cextra\\u003e\\u003c\\u002fextra\\u003e\",\"legendgroup\":\"US\",\"marker\":{\"color\":\"#FF6692\",\"size\":[286397.0217],\"sizemode\":\"area\",\"sizeref\":1090.0001225,\"symbol\":\"circle\"},\"mode\":\"markers\",\"name\":\"US\",\"orientation\":\"v\",\"showlegend\":true,\"x\":[286397.0217],\"xaxis\":\"x\",\"y\":[2297354],\"yaxis\":\"y\",\"type\":\"scatter\"}],                        {\"template\":{\"data\":{\"histogram2dcontour\":[{\"type\":\"histogram2dcontour\",\"colorbar\":{\"outlinewidth\":0,\"ticks\":\"\"},\"colorscale\":[[0.0,\"#0d0887\"],[0.1111111111111111,\"#46039f\"],[0.2222222222222222,\"#7201a8\"],[0.3333333333333333,\"#9c179e\"],[0.4444444444444444,\"#bd3786\"],[0.5555555555555556,\"#d8576b\"],[0.6666666666666666,\"#ed7953\"],[0.7777777777777778,\"#fb9f3a\"],[0.8888888888888888,\"#fdca26\"],[1.0,\"#f0f921\"]]}],\"choropleth\":[{\"type\":\"choropleth\",\"colorbar\":{\"outlinewidth\":0,\"ticks\":\"\"}}],\"histogram2d\":[{\"type\":\"histogram2d\",\"colorbar\":{\"outlinewidth\":0,\"ticks\":\"\"},\"colorscale\":[[0.0,\"#0d0887\"],[0.1111111111111111,\"#46039f\"],[0.2222222222222222,\"#7201a8\"],[0.3333333333333333,\"#9c179e\"],[0.4444444444444444,\"#bd3786\"],[0.5555555555555556,\"#d8576b\"],[0.6666666666666666,\"#ed7953\"],[0.7777777777777778,\"#fb9f3a\"],[0.8888888888888888,\"#fdca26\"],[1.0,\"#f0f921\"]]}],\"heatmap\":[{\"type\":\"heatmap\",\"colorbar\":{\"outlinewidth\":0,\"ticks\":\"\"},\"colorscale\":[[0.0,\"#0d0887\"],[0.1111111111111111,\"#46039f\"],[0.2222222222222222,\"#7201a8\"],[0.3333333333333333,\"#9c179e\"],[0.4444444444444444,\"#bd3786\"],[0.5555555555555556,\"#d8576b\"],[0.6666666666666666,\"#ed7953\"],[0.7777777777777778,\"#fb9f3a\"],[0.8888888888888888,\"#fdca26\"],[1.0,\"#f0f921\"]]}],\"heatmapgl\":[{\"type\":\"heatmapgl\",\"colorbar\":{\"outlinewidth\":0,\"ticks\":\"\"},\"colorscale\":[[0.0,\"#0d0887\"],[0.1111111111111111,\"#46039f\"],[0.2222222222222222,\"#7201a8\"],[0.3333333333333333,\"#9c179e\"],[0.4444444444444444,\"#bd3786\"],[0.5555555555555556,\"#d8576b\"],[0.6666666666666666,\"#ed7953\"],[0.7777777777777778,\"#fb9f3a\"],[0.8888888888888888,\"#fdca26\"],[1.0,\"#f0f921\"]]}],\"contourcarpet\":[{\"type\":\"contourcarpet\",\"colorbar\":{\"outlinewidth\":0,\"ticks\":\"\"}}],\"contour\":[{\"type\":\"contour\",\"colorbar\":{\"outlinewidth\":0,\"ticks\":\"\"},\"colorscale\":[[0.0,\"#0d0887\"],[0.1111111111111111,\"#46039f\"],[0.2222222222222222,\"#7201a8\"],[0.3333333333333333,\"#9c179e\"],[0.4444444444444444,\"#bd3786\"],[0.5555555555555556,\"#d8576b\"],[0.6666666666666666,\"#ed7953\"],[0.7777777777777778,\"#fb9f3a\"],[0.8888888888888888,\"#fdca26\"],[1.0,\"#f0f921\"]]}],\"surface\":[{\"type\":\"surface\",\"colorbar\":{\"outlinewidth\":0,\"ticks\":\"\"},\"colorscale\":[[0.0,\"#0d0887\"],[0.1111111111111111,\"#46039f\"],[0.2222222222222222,\"#7201a8\"],[0.3333333333333333,\"#9c179e\"],[0.4444444444444444,\"#bd3786\"],[0.5555555555555556,\"#d8576b\"],[0.6666666666666666,\"#ed7953\"],[0.7777777777777778,\"#fb9f3a\"],[0.8888888888888888,\"#fdca26\"],[1.0,\"#f0f921\"]]}],\"mesh3d\":[{\"type\":\"mesh3d\",\"colorbar\":{\"outlinewidth\":0,\"ticks\":\"\"}}],\"scatter\":[{\"fillpattern\":{\"fillmode\":\"overlay\",\"size\":10,\"solidity\":0.2},\"type\":\"scatter\"}],\"parcoords\":[{\"type\":\"parcoords\",\"line\":{\"colorbar\":{\"outlinewidth\":0,\"ticks\":\"\"}}}],\"scatterpolargl\":[{\"type\":\"scatterpolargl\",\"marker\":{\"colorbar\":{\"outlinewidth\":0,\"ticks\":\"\"}}}],\"bar\":[{\"error_x\":{\"color\":\"#2a3f5f\"},\"error_y\":{\"color\":\"#2a3f5f\"},\"marker\":{\"line\":{\"color\":\"#E5ECF6\",\"width\":0.5},\"pattern\":{\"fillmode\":\"overlay\",\"size\":10,\"solidity\":0.2}},\"type\":\"bar\"}],\"scattergeo\":[{\"type\":\"scattergeo\",\"marker\":{\"colorbar\":{\"outlinewidth\":0,\"ticks\":\"\"}}}],\"scatterpolar\":[{\"type\":\"scatterpolar\",\"marker\":{\"colorbar\":{\"outlinewidth\":0,\"ticks\":\"\"}}}],\"histogram\":[{\"marker\":{\"pattern\":{\"fillmode\":\"overlay\",\"size\":10,\"solidity\":0.2}},\"type\":\"histogram\"}],\"scattergl\":[{\"type\":\"scattergl\",\"marker\":{\"colorbar\":{\"outlinewidth\":0,\"ticks\":\"\"}}}],\"scatter3d\":[{\"type\":\"scatter3d\",\"line\":{\"colorbar\":{\"outlinewidth\":0,\"ticks\":\"\"}},\"marker\":{\"colorbar\":{\"outlinewidth\":0,\"ticks\":\"\"}}}],\"scattermapbox\":[{\"type\":\"scattermapbox\",\"marker\":{\"colorbar\":{\"outlinewidth\":0,\"ticks\":\"\"}}}],\"scatterternary\":[{\"type\":\"scatterternary\",\"marker\":{\"colorbar\":{\"outlinewidth\":0,\"ticks\":\"\"}}}],\"scattercarpet\":[{\"type\":\"scattercarpet\",\"marker\":{\"colorbar\":{\"outlinewidth\":0,\"ticks\":\"\"}}}],\"carpet\":[{\"aaxis\":{\"endlinecolor\":\"#2a3f5f\",\"gridcolor\":\"white\",\"linecolor\":\"white\",\"minorgridcolor\":\"white\",\"startlinecolor\":\"#2a3f5f\"},\"baxis\":{\"endlinecolor\":\"#2a3f5f\",\"gridcolor\":\"white\",\"linecolor\":\"white\",\"minorgridcolor\":\"white\",\"startlinecolor\":\"#2a3f5f\"},\"type\":\"carpet\"}],\"table\":[{\"cells\":{\"fill\":{\"color\":\"#EBF0F8\"},\"line\":{\"color\":\"white\"}},\"header\":{\"fill\":{\"color\":\"#C8D4E3\"},\"line\":{\"color\":\"white\"}},\"type\":\"table\"}],\"barpolar\":[{\"marker\":{\"line\":{\"color\":\"#E5ECF6\",\"width\":0.5},\"pattern\":{\"fillmode\":\"overlay\",\"size\":10,\"solidity\":0.2}},\"type\":\"barpolar\"}],\"pie\":[{\"automargin\":true,\"type\":\"pie\"}]},\"layout\":{\"autotypenumbers\":\"strict\",\"colorway\":[\"#636efa\",\"#EF553B\",\"#00cc96\",\"#ab63fa\",\"#FFA15A\",\"#19d3f3\",\"#FF6692\",\"#B6E880\",\"#FF97FF\",\"#FECB52\"],\"font\":{\"color\":\"#2a3f5f\"},\"hovermode\":\"closest\",\"hoverlabel\":{\"align\":\"left\"},\"paper_bgcolor\":\"white\",\"plot_bgcolor\":\"#E5ECF6\",\"polar\":{\"bgcolor\":\"#E5ECF6\",\"angularaxis\":{\"gridcolor\":\"white\",\"linecolor\":\"white\",\"ticks\":\"\"},\"radialaxis\":{\"gridcolor\":\"white\",\"linecolor\":\"white\",\"ticks\":\"\"}},\"ternary\":{\"bgcolor\":\"#E5ECF6\",\"aaxis\":{\"gridcolor\":\"white\",\"linecolor\":\"white\",\"ticks\":\"\"},\"baxis\":{\"gridcolor\":\"white\",\"linecolor\":\"white\",\"ticks\":\"\"},\"caxis\":{\"gridcolor\":\"white\",\"linecolor\":\"white\",\"ticks\":\"\"}},\"coloraxis\":{\"colorbar\":{\"outlinewidth\":0,\"ticks\":\"\"}},\"colorscale\":{\"sequential\":[[0.0,\"#0d0887\"],[0.1111111111111111,\"#46039f\"],[0.2222222222222222,\"#7201a8\"],[0.3333333333333333,\"#9c179e\"],[0.4444444444444444,\"#bd3786\"],[0.5555555555555556,\"#d8576b\"],[0.6666666666666666,\"#ed7953\"],[0.7777777777777778,\"#fb9f3a\"],[0.8888888888888888,\"#fdca26\"],[1.0,\"#f0f921\"]],\"sequentialminus\":[[0.0,\"#0d0887\"],[0.1111111111111111,\"#46039f\"],[0.2222222222222222,\"#7201a8\"],[0.3333333333333333,\"#9c179e\"],[0.4444444444444444,\"#bd3786\"],[0.5555555555555556,\"#d8576b\"],[0.6666666666666666,\"#ed7953\"],[0.7777777777777778,\"#fb9f3a\"],[0.8888888888888888,\"#fdca26\"],[1.0,\"#f0f921\"]],\"diverging\":[[0,\"#8e0152\"],[0.1,\"#c51b7d\"],[0.2,\"#de77ae\"],[0.3,\"#f1b6da\"],[0.4,\"#fde0ef\"],[0.5,\"#f7f7f7\"],[0.6,\"#e6f5d0\"],[0.7,\"#b8e186\"],[0.8,\"#7fbc41\"],[0.9,\"#4d9221\"],[1,\"#276419\"]]},\"xaxis\":{\"gridcolor\":\"white\",\"linecolor\":\"white\",\"ticks\":\"\",\"title\":{\"standoff\":15},\"zerolinecolor\":\"white\",\"automargin\":true,\"zerolinewidth\":2},\"yaxis\":{\"gridcolor\":\"white\",\"linecolor\":\"white\",\"ticks\":\"\",\"title\":{\"standoff\":15},\"zerolinecolor\":\"white\",\"automargin\":true,\"zerolinewidth\":2},\"scene\":{\"xaxis\":{\"backgroundcolor\":\"#E5ECF6\",\"gridcolor\":\"white\",\"linecolor\":\"white\",\"showbackground\":true,\"ticks\":\"\",\"zerolinecolor\":\"white\",\"gridwidth\":2},\"yaxis\":{\"backgroundcolor\":\"#E5ECF6\",\"gridcolor\":\"white\",\"linecolor\":\"white\",\"showbackground\":true,\"ticks\":\"\",\"zerolinecolor\":\"white\",\"gridwidth\":2},\"zaxis\":{\"backgroundcolor\":\"#E5ECF6\",\"gridcolor\":\"white\",\"linecolor\":\"white\",\"showbackground\":true,\"ticks\":\"\",\"zerolinecolor\":\"white\",\"gridwidth\":2}},\"shapedefaults\":{\"line\":{\"color\":\"#2a3f5f\"}},\"annotationdefaults\":{\"arrowcolor\":\"#2a3f5f\",\"arrowhead\":0,\"arrowwidth\":1},\"geo\":{\"bgcolor\":\"white\",\"landcolor\":\"#E5ECF6\",\"subunitcolor\":\"white\",\"showland\":true,\"showlakes\":true,\"lakecolor\":\"white\"},\"title\":{\"x\":0.05},\"mapbox\":{\"style\":\"light\"}}},\"xaxis\":{\"anchor\":\"y\",\"domain\":[0.0,1.0],\"title\":{\"text\":\"Profit\"}},\"yaxis\":{\"anchor\":\"x\",\"domain\":[0.0,1.0],\"title\":{\"text\":\"Sales\"}},\"legend\":{\"title\":{\"text\":\"Market\"},\"tracegroupgap\":0,\"itemsizing\":\"constant\"},\"margin\":{\"t\":60}},                        {\"responsive\": true}                    ).then(function(){\n",
       "                            \n",
       "var gd = document.getElementById('ec4bc22e-7ddc-444e-8974-c5717c2b0382');\n",
       "var x = new MutationObserver(function (mutations, observer) {{\n",
       "        var display = window.getComputedStyle(gd).display;\n",
       "        if (!display || display === 'none') {{\n",
       "            console.log([gd, 'removed!']);\n",
       "            Plotly.purge(gd);\n",
       "            observer.disconnect();\n",
       "        }}\n",
       "}});\n",
       "\n",
       "// Listen for the removal of the full notebook cells\n",
       "var notebookContainer = gd.closest('#notebook-container');\n",
       "if (notebookContainer) {{\n",
       "    x.observe(notebookContainer, {childList: true});\n",
       "}}\n",
       "\n",
       "// Listen for the clearing of the current output cell\n",
       "var outputEl = gd.closest('.output');\n",
       "if (outputEl) {{\n",
       "    x.observe(outputEl, {childList: true});\n",
       "}}\n",
       "\n",
       "                        })                };                });            </script>        </div>"
      ]
     },
     "metadata": {},
     "output_type": "display_data"
    }
   ],
   "source": [
    "import plotly.express as px\n",
    "df = pd.read_csv('superstore.csv')\n",
    "df_copy = df[['Year', 'Market','Country', 'Sales', 'Profit', 'Discount']].copy()\n",
    "\n",
    "# 그룹화하여 필요한 값 계산\n",
    "state_sales_profit = df_copy.groupby('Market').sum().reset_index()  # 인덱스를 컬럼으로 되돌림\n",
    "\n",
    "# 시각화\n",
    "fig = px.scatter(state_sales_profit, x='Profit', y='Sales', color='Market', size='Profit', hover_data=['Sales'])\n",
    "fig.show()"
   ]
  },
  {
   "cell_type": "code",
   "execution_count": 366,
   "id": "66682932-7d2d-47bf-a614-894779094805",
   "metadata": {},
   "outputs": [
    {
     "data": {
      "application/vnd.plotly.v1+json": {
       "config": {
        "plotlyServerURL": "https://plot.ly"
       },
       "data": [
        {
         "hovertemplate": "Country=Australia<br>Profit=%{marker.size}<br>Sales=%{y}<extra></extra>",
         "legendgroup": "Australia",
         "marker": {
          "color": "#636efa",
          "size": [
           103907.433
          ],
          "sizemode": "area",
          "sizeref": 376.70771249999996,
          "symbol": "circle"
         },
         "mode": "markers",
         "name": "Australia",
         "orientation": "v",
         "showlegend": true,
         "type": "scatter",
         "x": [
          103907.433
         ],
         "xaxis": "x",
         "y": [
          925257
         ],
         "yaxis": "y"
        },
        {
         "hovertemplate": "Country=China<br>Profit=%{marker.size}<br>Sales=%{y}<extra></extra>",
         "legendgroup": "China",
         "marker": {
          "color": "#EF553B",
          "size": [
           150683.085
          ],
          "sizemode": "area",
          "sizeref": 376.70771249999996,
          "symbol": "circle"
         },
         "mode": "markers",
         "name": "China",
         "orientation": "v",
         "showlegend": true,
         "type": "scatter",
         "x": [
          150683.085
         ],
         "xaxis": "x",
         "y": [
          700591
         ],
         "yaxis": "y"
        },
        {
         "hovertemplate": "Country=India<br>Profit=%{marker.size}<br>Sales=%{y}<extra></extra>",
         "legendgroup": "India",
         "marker": {
          "color": "#00cc96",
          "size": [
           129071.835
          ],
          "sizemode": "area",
          "sizeref": 376.70771249999996,
          "symbol": "circle"
         },
         "mode": "markers",
         "name": "India",
         "orientation": "v",
         "showlegend": true,
         "type": "scatter",
         "x": [
          129071.835
         ],
         "xaxis": "x",
         "y": [
          589664
         ],
         "yaxis": "y"
        },
        {
         "hovertemplate": "Country=Indonesia<br>Profit=%{marker.size}<br>Sales=%{y}<extra></extra>",
         "legendgroup": "Indonesia",
         "marker": {
          "color": "#ab63fa",
          "size": [
           15608.6779
          ],
          "sizemode": "area",
          "sizeref": 376.70771249999996,
          "symbol": "circle"
         },
         "mode": "markers",
         "name": "Indonesia",
         "orientation": "v",
         "showlegend": true,
         "type": "scatter",
         "x": [
          15608.6779
         ],
         "xaxis": "x",
         "y": [
          404887
         ],
         "yaxis": "y"
        }
       ],
       "layout": {
        "legend": {
         "itemsizing": "constant",
         "title": {
          "text": "Country"
         },
         "tracegroupgap": 0
        },
        "margin": {
         "t": 60
        },
        "template": {
         "data": {
          "bar": [
           {
            "error_x": {
             "color": "#2a3f5f"
            },
            "error_y": {
             "color": "#2a3f5f"
            },
            "marker": {
             "line": {
              "color": "#E5ECF6",
              "width": 0.5
             },
             "pattern": {
              "fillmode": "overlay",
              "size": 10,
              "solidity": 0.2
             }
            },
            "type": "bar"
           }
          ],
          "barpolar": [
           {
            "marker": {
             "line": {
              "color": "#E5ECF6",
              "width": 0.5
             },
             "pattern": {
              "fillmode": "overlay",
              "size": 10,
              "solidity": 0.2
             }
            },
            "type": "barpolar"
           }
          ],
          "carpet": [
           {
            "aaxis": {
             "endlinecolor": "#2a3f5f",
             "gridcolor": "white",
             "linecolor": "white",
             "minorgridcolor": "white",
             "startlinecolor": "#2a3f5f"
            },
            "baxis": {
             "endlinecolor": "#2a3f5f",
             "gridcolor": "white",
             "linecolor": "white",
             "minorgridcolor": "white",
             "startlinecolor": "#2a3f5f"
            },
            "type": "carpet"
           }
          ],
          "choropleth": [
           {
            "colorbar": {
             "outlinewidth": 0,
             "ticks": ""
            },
            "type": "choropleth"
           }
          ],
          "contour": [
           {
            "colorbar": {
             "outlinewidth": 0,
             "ticks": ""
            },
            "colorscale": [
             [
              0,
              "#0d0887"
             ],
             [
              0.1111111111111111,
              "#46039f"
             ],
             [
              0.2222222222222222,
              "#7201a8"
             ],
             [
              0.3333333333333333,
              "#9c179e"
             ],
             [
              0.4444444444444444,
              "#bd3786"
             ],
             [
              0.5555555555555556,
              "#d8576b"
             ],
             [
              0.6666666666666666,
              "#ed7953"
             ],
             [
              0.7777777777777778,
              "#fb9f3a"
             ],
             [
              0.8888888888888888,
              "#fdca26"
             ],
             [
              1,
              "#f0f921"
             ]
            ],
            "type": "contour"
           }
          ],
          "contourcarpet": [
           {
            "colorbar": {
             "outlinewidth": 0,
             "ticks": ""
            },
            "type": "contourcarpet"
           }
          ],
          "heatmap": [
           {
            "colorbar": {
             "outlinewidth": 0,
             "ticks": ""
            },
            "colorscale": [
             [
              0,
              "#0d0887"
             ],
             [
              0.1111111111111111,
              "#46039f"
             ],
             [
              0.2222222222222222,
              "#7201a8"
             ],
             [
              0.3333333333333333,
              "#9c179e"
             ],
             [
              0.4444444444444444,
              "#bd3786"
             ],
             [
              0.5555555555555556,
              "#d8576b"
             ],
             [
              0.6666666666666666,
              "#ed7953"
             ],
             [
              0.7777777777777778,
              "#fb9f3a"
             ],
             [
              0.8888888888888888,
              "#fdca26"
             ],
             [
              1,
              "#f0f921"
             ]
            ],
            "type": "heatmap"
           }
          ],
          "heatmapgl": [
           {
            "colorbar": {
             "outlinewidth": 0,
             "ticks": ""
            },
            "colorscale": [
             [
              0,
              "#0d0887"
             ],
             [
              0.1111111111111111,
              "#46039f"
             ],
             [
              0.2222222222222222,
              "#7201a8"
             ],
             [
              0.3333333333333333,
              "#9c179e"
             ],
             [
              0.4444444444444444,
              "#bd3786"
             ],
             [
              0.5555555555555556,
              "#d8576b"
             ],
             [
              0.6666666666666666,
              "#ed7953"
             ],
             [
              0.7777777777777778,
              "#fb9f3a"
             ],
             [
              0.8888888888888888,
              "#fdca26"
             ],
             [
              1,
              "#f0f921"
             ]
            ],
            "type": "heatmapgl"
           }
          ],
          "histogram": [
           {
            "marker": {
             "pattern": {
              "fillmode": "overlay",
              "size": 10,
              "solidity": 0.2
             }
            },
            "type": "histogram"
           }
          ],
          "histogram2d": [
           {
            "colorbar": {
             "outlinewidth": 0,
             "ticks": ""
            },
            "colorscale": [
             [
              0,
              "#0d0887"
             ],
             [
              0.1111111111111111,
              "#46039f"
             ],
             [
              0.2222222222222222,
              "#7201a8"
             ],
             [
              0.3333333333333333,
              "#9c179e"
             ],
             [
              0.4444444444444444,
              "#bd3786"
             ],
             [
              0.5555555555555556,
              "#d8576b"
             ],
             [
              0.6666666666666666,
              "#ed7953"
             ],
             [
              0.7777777777777778,
              "#fb9f3a"
             ],
             [
              0.8888888888888888,
              "#fdca26"
             ],
             [
              1,
              "#f0f921"
             ]
            ],
            "type": "histogram2d"
           }
          ],
          "histogram2dcontour": [
           {
            "colorbar": {
             "outlinewidth": 0,
             "ticks": ""
            },
            "colorscale": [
             [
              0,
              "#0d0887"
             ],
             [
              0.1111111111111111,
              "#46039f"
             ],
             [
              0.2222222222222222,
              "#7201a8"
             ],
             [
              0.3333333333333333,
              "#9c179e"
             ],
             [
              0.4444444444444444,
              "#bd3786"
             ],
             [
              0.5555555555555556,
              "#d8576b"
             ],
             [
              0.6666666666666666,
              "#ed7953"
             ],
             [
              0.7777777777777778,
              "#fb9f3a"
             ],
             [
              0.8888888888888888,
              "#fdca26"
             ],
             [
              1,
              "#f0f921"
             ]
            ],
            "type": "histogram2dcontour"
           }
          ],
          "mesh3d": [
           {
            "colorbar": {
             "outlinewidth": 0,
             "ticks": ""
            },
            "type": "mesh3d"
           }
          ],
          "parcoords": [
           {
            "line": {
             "colorbar": {
              "outlinewidth": 0,
              "ticks": ""
             }
            },
            "type": "parcoords"
           }
          ],
          "pie": [
           {
            "automargin": true,
            "type": "pie"
           }
          ],
          "scatter": [
           {
            "fillpattern": {
             "fillmode": "overlay",
             "size": 10,
             "solidity": 0.2
            },
            "type": "scatter"
           }
          ],
          "scatter3d": [
           {
            "line": {
             "colorbar": {
              "outlinewidth": 0,
              "ticks": ""
             }
            },
            "marker": {
             "colorbar": {
              "outlinewidth": 0,
              "ticks": ""
             }
            },
            "type": "scatter3d"
           }
          ],
          "scattercarpet": [
           {
            "marker": {
             "colorbar": {
              "outlinewidth": 0,
              "ticks": ""
             }
            },
            "type": "scattercarpet"
           }
          ],
          "scattergeo": [
           {
            "marker": {
             "colorbar": {
              "outlinewidth": 0,
              "ticks": ""
             }
            },
            "type": "scattergeo"
           }
          ],
          "scattergl": [
           {
            "marker": {
             "colorbar": {
              "outlinewidth": 0,
              "ticks": ""
             }
            },
            "type": "scattergl"
           }
          ],
          "scattermapbox": [
           {
            "marker": {
             "colorbar": {
              "outlinewidth": 0,
              "ticks": ""
             }
            },
            "type": "scattermapbox"
           }
          ],
          "scatterpolar": [
           {
            "marker": {
             "colorbar": {
              "outlinewidth": 0,
              "ticks": ""
             }
            },
            "type": "scatterpolar"
           }
          ],
          "scatterpolargl": [
           {
            "marker": {
             "colorbar": {
              "outlinewidth": 0,
              "ticks": ""
             }
            },
            "type": "scatterpolargl"
           }
          ],
          "scatterternary": [
           {
            "marker": {
             "colorbar": {
              "outlinewidth": 0,
              "ticks": ""
             }
            },
            "type": "scatterternary"
           }
          ],
          "surface": [
           {
            "colorbar": {
             "outlinewidth": 0,
             "ticks": ""
            },
            "colorscale": [
             [
              0,
              "#0d0887"
             ],
             [
              0.1111111111111111,
              "#46039f"
             ],
             [
              0.2222222222222222,
              "#7201a8"
             ],
             [
              0.3333333333333333,
              "#9c179e"
             ],
             [
              0.4444444444444444,
              "#bd3786"
             ],
             [
              0.5555555555555556,
              "#d8576b"
             ],
             [
              0.6666666666666666,
              "#ed7953"
             ],
             [
              0.7777777777777778,
              "#fb9f3a"
             ],
             [
              0.8888888888888888,
              "#fdca26"
             ],
             [
              1,
              "#f0f921"
             ]
            ],
            "type": "surface"
           }
          ],
          "table": [
           {
            "cells": {
             "fill": {
              "color": "#EBF0F8"
             },
             "line": {
              "color": "white"
             }
            },
            "header": {
             "fill": {
              "color": "#C8D4E3"
             },
             "line": {
              "color": "white"
             }
            },
            "type": "table"
           }
          ]
         },
         "layout": {
          "annotationdefaults": {
           "arrowcolor": "#2a3f5f",
           "arrowhead": 0,
           "arrowwidth": 1
          },
          "autotypenumbers": "strict",
          "coloraxis": {
           "colorbar": {
            "outlinewidth": 0,
            "ticks": ""
           }
          },
          "colorscale": {
           "diverging": [
            [
             0,
             "#8e0152"
            ],
            [
             0.1,
             "#c51b7d"
            ],
            [
             0.2,
             "#de77ae"
            ],
            [
             0.3,
             "#f1b6da"
            ],
            [
             0.4,
             "#fde0ef"
            ],
            [
             0.5,
             "#f7f7f7"
            ],
            [
             0.6,
             "#e6f5d0"
            ],
            [
             0.7,
             "#b8e186"
            ],
            [
             0.8,
             "#7fbc41"
            ],
            [
             0.9,
             "#4d9221"
            ],
            [
             1,
             "#276419"
            ]
           ],
           "sequential": [
            [
             0,
             "#0d0887"
            ],
            [
             0.1111111111111111,
             "#46039f"
            ],
            [
             0.2222222222222222,
             "#7201a8"
            ],
            [
             0.3333333333333333,
             "#9c179e"
            ],
            [
             0.4444444444444444,
             "#bd3786"
            ],
            [
             0.5555555555555556,
             "#d8576b"
            ],
            [
             0.6666666666666666,
             "#ed7953"
            ],
            [
             0.7777777777777778,
             "#fb9f3a"
            ],
            [
             0.8888888888888888,
             "#fdca26"
            ],
            [
             1,
             "#f0f921"
            ]
           ],
           "sequentialminus": [
            [
             0,
             "#0d0887"
            ],
            [
             0.1111111111111111,
             "#46039f"
            ],
            [
             0.2222222222222222,
             "#7201a8"
            ],
            [
             0.3333333333333333,
             "#9c179e"
            ],
            [
             0.4444444444444444,
             "#bd3786"
            ],
            [
             0.5555555555555556,
             "#d8576b"
            ],
            [
             0.6666666666666666,
             "#ed7953"
            ],
            [
             0.7777777777777778,
             "#fb9f3a"
            ],
            [
             0.8888888888888888,
             "#fdca26"
            ],
            [
             1,
             "#f0f921"
            ]
           ]
          },
          "colorway": [
           "#636efa",
           "#EF553B",
           "#00cc96",
           "#ab63fa",
           "#FFA15A",
           "#19d3f3",
           "#FF6692",
           "#B6E880",
           "#FF97FF",
           "#FECB52"
          ],
          "font": {
           "color": "#2a3f5f"
          },
          "geo": {
           "bgcolor": "white",
           "lakecolor": "white",
           "landcolor": "#E5ECF6",
           "showlakes": true,
           "showland": true,
           "subunitcolor": "white"
          },
          "hoverlabel": {
           "align": "left"
          },
          "hovermode": "closest",
          "mapbox": {
           "style": "light"
          },
          "paper_bgcolor": "white",
          "plot_bgcolor": "#E5ECF6",
          "polar": {
           "angularaxis": {
            "gridcolor": "white",
            "linecolor": "white",
            "ticks": ""
           },
           "bgcolor": "#E5ECF6",
           "radialaxis": {
            "gridcolor": "white",
            "linecolor": "white",
            "ticks": ""
           }
          },
          "scene": {
           "xaxis": {
            "backgroundcolor": "#E5ECF6",
            "gridcolor": "white",
            "gridwidth": 2,
            "linecolor": "white",
            "showbackground": true,
            "ticks": "",
            "zerolinecolor": "white"
           },
           "yaxis": {
            "backgroundcolor": "#E5ECF6",
            "gridcolor": "white",
            "gridwidth": 2,
            "linecolor": "white",
            "showbackground": true,
            "ticks": "",
            "zerolinecolor": "white"
           },
           "zaxis": {
            "backgroundcolor": "#E5ECF6",
            "gridcolor": "white",
            "gridwidth": 2,
            "linecolor": "white",
            "showbackground": true,
            "ticks": "",
            "zerolinecolor": "white"
           }
          },
          "shapedefaults": {
           "line": {
            "color": "#2a3f5f"
           }
          },
          "ternary": {
           "aaxis": {
            "gridcolor": "white",
            "linecolor": "white",
            "ticks": ""
           },
           "baxis": {
            "gridcolor": "white",
            "linecolor": "white",
            "ticks": ""
           },
           "bgcolor": "#E5ECF6",
           "caxis": {
            "gridcolor": "white",
            "linecolor": "white",
            "ticks": ""
           }
          },
          "title": {
           "x": 0.05
          },
          "xaxis": {
           "automargin": true,
           "gridcolor": "white",
           "linecolor": "white",
           "ticks": "",
           "title": {
            "standoff": 15
           },
           "zerolinecolor": "white",
           "zerolinewidth": 2
          },
          "yaxis": {
           "automargin": true,
           "gridcolor": "white",
           "linecolor": "white",
           "ticks": "",
           "title": {
            "standoff": 15
           },
           "zerolinecolor": "white",
           "zerolinewidth": 2
          }
         }
        },
        "xaxis": {
         "anchor": "y",
         "domain": [
          0,
          1
         ],
         "title": {
          "text": "Profit"
         }
        },
        "yaxis": {
         "anchor": "x",
         "domain": [
          0,
          1
         ],
         "title": {
          "text": "Sales"
         }
        }
       }
      },
      "image/png": "[encoded data removed]",
      "text/html": [
       "<div>                            <div id=\"82fddfb1-ec72-4a3a-8099-b0662a2976ea\" class=\"plotly-graph-div\" style=\"height:525px; width:100%;\"></div>            <script type=\"text/javascript\">                require([\"plotly\"], function(Plotly) {                    window.PLOTLYENV=window.PLOTLYENV || {};                                    if (document.getElementById(\"82fddfb1-ec72-4a3a-8099-b0662a2976ea\")) {                    Plotly.newPlot(                        \"82fddfb1-ec72-4a3a-8099-b0662a2976ea\",                        [{\"hovertemplate\":\"Country=Australia\\u003cbr\\u003eProfit=%{marker.size}\\u003cbr\\u003eSales=%{y}\\u003cextra\\u003e\\u003c\\u002fextra\\u003e\",\"legendgroup\":\"Australia\",\"marker\":{\"color\":\"#636efa\",\"size\":[103907.433],\"sizemode\":\"area\",\"sizeref\":376.70771249999996,\"symbol\":\"circle\"},\"mode\":\"markers\",\"name\":\"Australia\",\"orientation\":\"v\",\"showlegend\":true,\"x\":[103907.433],\"xaxis\":\"x\",\"y\":[925257],\"yaxis\":\"y\",\"type\":\"scatter\"},{\"hovertemplate\":\"Country=China\\u003cbr\\u003eProfit=%{marker.size}\\u003cbr\\u003eSales=%{y}\\u003cextra\\u003e\\u003c\\u002fextra\\u003e\",\"legendgroup\":\"China\",\"marker\":{\"color\":\"#EF553B\",\"size\":[150683.085],\"sizemode\":\"area\",\"sizeref\":376.70771249999996,\"symbol\":\"circle\"},\"mode\":\"markers\",\"name\":\"China\",\"orientation\":\"v\",\"showlegend\":true,\"x\":[150683.085],\"xaxis\":\"x\",\"y\":[700591],\"yaxis\":\"y\",\"type\":\"scatter\"},{\"hovertemplate\":\"Country=India\\u003cbr\\u003eProfit=%{marker.size}\\u003cbr\\u003eSales=%{y}\\u003cextra\\u003e\\u003c\\u002fextra\\u003e\",\"legendgroup\":\"India\",\"marker\":{\"color\":\"#00cc96\",\"size\":[129071.835],\"sizemode\":\"area\",\"sizeref\":376.70771249999996,\"symbol\":\"circle\"},\"mode\":\"markers\",\"name\":\"India\",\"orientation\":\"v\",\"showlegend\":true,\"x\":[129071.835],\"xaxis\":\"x\",\"y\":[589664],\"yaxis\":\"y\",\"type\":\"scatter\"},{\"hovertemplate\":\"Country=Indonesia\\u003cbr\\u003eProfit=%{marker.size}\\u003cbr\\u003eSales=%{y}\\u003cextra\\u003e\\u003c\\u002fextra\\u003e\",\"legendgroup\":\"Indonesia\",\"marker\":{\"color\":\"#ab63fa\",\"size\":[15608.6779],\"sizemode\":\"area\",\"sizeref\":376.70771249999996,\"symbol\":\"circle\"},\"mode\":\"markers\",\"name\":\"Indonesia\",\"orientation\":\"v\",\"showlegend\":true,\"x\":[15608.6779],\"xaxis\":\"x\",\"y\":[404887],\"yaxis\":\"y\",\"type\":\"scatter\"}],                        {\"template\":{\"data\":{\"histogram2dcontour\":[{\"type\":\"histogram2dcontour\",\"colorbar\":{\"outlinewidth\":0,\"ticks\":\"\"},\"colorscale\":[[0.0,\"#0d0887\"],[0.1111111111111111,\"#46039f\"],[0.2222222222222222,\"#7201a8\"],[0.3333333333333333,\"#9c179e\"],[0.4444444444444444,\"#bd3786\"],[0.5555555555555556,\"#d8576b\"],[0.6666666666666666,\"#ed7953\"],[0.7777777777777778,\"#fb9f3a\"],[0.8888888888888888,\"#fdca26\"],[1.0,\"#f0f921\"]]}],\"choropleth\":[{\"type\":\"choropleth\",\"colorbar\":{\"outlinewidth\":0,\"ticks\":\"\"}}],\"histogram2d\":[{\"type\":\"histogram2d\",\"colorbar\":{\"outlinewidth\":0,\"ticks\":\"\"},\"colorscale\":[[0.0,\"#0d0887\"],[0.1111111111111111,\"#46039f\"],[0.2222222222222222,\"#7201a8\"],[0.3333333333333333,\"#9c179e\"],[0.4444444444444444,\"#bd3786\"],[0.5555555555555556,\"#d8576b\"],[0.6666666666666666,\"#ed7953\"],[0.7777777777777778,\"#fb9f3a\"],[0.8888888888888888,\"#fdca26\"],[1.0,\"#f0f921\"]]}],\"heatmap\":[{\"type\":\"heatmap\",\"colorbar\":{\"outlinewidth\":0,\"ticks\":\"\"},\"colorscale\":[[0.0,\"#0d0887\"],[0.1111111111111111,\"#46039f\"],[0.2222222222222222,\"#7201a8\"],[0.3333333333333333,\"#9c179e\"],[0.4444444444444444,\"#bd3786\"],[0.5555555555555556,\"#d8576b\"],[0.6666666666666666,\"#ed7953\"],[0.7777777777777778,\"#fb9f3a\"],[0.8888888888888888,\"#fdca26\"],[1.0,\"#f0f921\"]]}],\"heatmapgl\":[{\"type\":\"heatmapgl\",\"colorbar\":{\"outlinewidth\":0,\"ticks\":\"\"},\"colorscale\":[[0.0,\"#0d0887\"],[0.1111111111111111,\"#46039f\"],[0.2222222222222222,\"#7201a8\"],[0.3333333333333333,\"#9c179e\"],[0.4444444444444444,\"#bd3786\"],[0.5555555555555556,\"#d8576b\"],[0.6666666666666666,\"#ed7953\"],[0.7777777777777778,\"#fb9f3a\"],[0.8888888888888888,\"#fdca26\"],[1.0,\"#f0f921\"]]}],\"contourcarpet\":[{\"type\":\"contourcarpet\",\"colorbar\":{\"outlinewidth\":0,\"ticks\":\"\"}}],\"contour\":[{\"type\":\"contour\",\"colorbar\":{\"outlinewidth\":0,\"ticks\":\"\"},\"colorscale\":[[0.0,\"#0d0887\"],[0.1111111111111111,\"#46039f\"],[0.2222222222222222,\"#7201a8\"],[0.3333333333333333,\"#9c179e\"],[0.4444444444444444,\"#bd3786\"],[0.5555555555555556,\"#d8576b\"],[0.6666666666666666,\"#ed7953\"],[0.7777777777777778,\"#fb9f3a\"],[0.8888888888888888,\"#fdca26\"],[1.0,\"#f0f921\"]]}],\"surface\":[{\"type\":\"surface\",\"colorbar\":{\"outlinewidth\":0,\"ticks\":\"\"},\"colorscale\":[[0.0,\"#0d0887\"],[0.1111111111111111,\"#46039f\"],[0.2222222222222222,\"#7201a8\"],[0.3333333333333333,\"#9c179e\"],[0.4444444444444444,\"#bd3786\"],[0.5555555555555556,\"#d8576b\"],[0.6666666666666666,\"#ed7953\"],[0.7777777777777778,\"#fb9f3a\"],[0.8888888888888888,\"#fdca26\"],[1.0,\"#f0f921\"]]}],\"mesh3d\":[{\"type\":\"mesh3d\",\"colorbar\":{\"outlinewidth\":0,\"ticks\":\"\"}}],\"scatter\":[{\"fillpattern\":{\"fillmode\":\"overlay\",\"size\":10,\"solidity\":0.2},\"type\":\"scatter\"}],\"parcoords\":[{\"type\":\"parcoords\",\"line\":{\"colorbar\":{\"outlinewidth\":0,\"ticks\":\"\"}}}],\"scatterpolargl\":[{\"type\":\"scatterpolargl\",\"marker\":{\"colorbar\":{\"outlinewidth\":0,\"ticks\":\"\"}}}],\"bar\":[{\"error_x\":{\"color\":\"#2a3f5f\"},\"error_y\":{\"color\":\"#2a3f5f\"},\"marker\":{\"line\":{\"color\":\"#E5ECF6\",\"width\":0.5},\"pattern\":{\"fillmode\":\"overlay\",\"size\":10,\"solidity\":0.2}},\"type\":\"bar\"}],\"scattergeo\":[{\"type\":\"scattergeo\",\"marker\":{\"colorbar\":{\"outlinewidth\":0,\"ticks\":\"\"}}}],\"scatterpolar\":[{\"type\":\"scatterpolar\",\"marker\":{\"colorbar\":{\"outlinewidth\":0,\"ticks\":\"\"}}}],\"histogram\":[{\"marker\":{\"pattern\":{\"fillmode\":\"overlay\",\"size\":10,\"solidity\":0.2}},\"type\":\"histogram\"}],\"scattergl\":[{\"type\":\"scattergl\",\"marker\":{\"colorbar\":{\"outlinewidth\":0,\"ticks\":\"\"}}}],\"scatter3d\":[{\"type\":\"scatter3d\",\"line\":{\"colorbar\":{\"outlinewidth\":0,\"ticks\":\"\"}},\"marker\":{\"colorbar\":{\"outlinewidth\":0,\"ticks\":\"\"}}}],\"scattermapbox\":[{\"type\":\"scattermapbox\",\"marker\":{\"colorbar\":{\"outlinewidth\":0,\"ticks\":\"\"}}}],\"scatterternary\":[{\"type\":\"scatterternary\",\"marker\":{\"colorbar\":{\"outlinewidth\":0,\"ticks\":\"\"}}}],\"scattercarpet\":[{\"type\":\"scattercarpet\",\"marker\":{\"colorbar\":{\"outlinewidth\":0,\"ticks\":\"\"}}}],\"carpet\":[{\"aaxis\":{\"endlinecolor\":\"#2a3f5f\",\"gridcolor\":\"white\",\"linecolor\":\"white\",\"minorgridcolor\":\"white\",\"startlinecolor\":\"#2a3f5f\"},\"baxis\":{\"endlinecolor\":\"#2a3f5f\",\"gridcolor\":\"white\",\"linecolor\":\"white\",\"minorgridcolor\":\"white\",\"startlinecolor\":\"#2a3f5f\"},\"type\":\"carpet\"}],\"table\":[{\"cells\":{\"fill\":{\"color\":\"#EBF0F8\"},\"line\":{\"color\":\"white\"}},\"header\":{\"fill\":{\"color\":\"#C8D4E3\"},\"line\":{\"color\":\"white\"}},\"type\":\"table\"}],\"barpolar\":[{\"marker\":{\"line\":{\"color\":\"#E5ECF6\",\"width\":0.5},\"pattern\":{\"fillmode\":\"overlay\",\"size\":10,\"solidity\":0.2}},\"type\":\"barpolar\"}],\"pie\":[{\"automargin\":true,\"type\":\"pie\"}]},\"layout\":{\"autotypenumbers\":\"strict\",\"colorway\":[\"#636efa\",\"#EF553B\",\"#00cc96\",\"#ab63fa\",\"#FFA15A\",\"#19d3f3\",\"#FF6692\",\"#B6E880\",\"#FF97FF\",\"#FECB52\"],\"font\":{\"color\":\"#2a3f5f\"},\"hovermode\":\"closest\",\"hoverlabel\":{\"align\":\"left\"},\"paper_bgcolor\":\"white\",\"plot_bgcolor\":\"#E5ECF6\",\"polar\":{\"bgcolor\":\"#E5ECF6\",\"angularaxis\":{\"gridcolor\":\"white\",\"linecolor\":\"white\",\"ticks\":\"\"},\"radialaxis\":{\"gridcolor\":\"white\",\"linecolor\":\"white\",\"ticks\":\"\"}},\"ternary\":{\"bgcolor\":\"#E5ECF6\",\"aaxis\":{\"gridcolor\":\"white\",\"linecolor\":\"white\",\"ticks\":\"\"},\"baxis\":{\"gridcolor\":\"white\",\"linecolor\":\"white\",\"ticks\":\"\"},\"caxis\":{\"gridcolor\":\"white\",\"linecolor\":\"white\",\"ticks\":\"\"}},\"coloraxis\":{\"colorbar\":{\"outlinewidth\":0,\"ticks\":\"\"}},\"colorscale\":{\"sequential\":[[0.0,\"#0d0887\"],[0.1111111111111111,\"#46039f\"],[0.2222222222222222,\"#7201a8\"],[0.3333333333333333,\"#9c179e\"],[0.4444444444444444,\"#bd3786\"],[0.5555555555555556,\"#d8576b\"],[0.6666666666666666,\"#ed7953\"],[0.7777777777777778,\"#fb9f3a\"],[0.8888888888888888,\"#fdca26\"],[1.0,\"#f0f921\"]],\"sequentialminus\":[[0.0,\"#0d0887\"],[0.1111111111111111,\"#46039f\"],[0.2222222222222222,\"#7201a8\"],[0.3333333333333333,\"#9c179e\"],[0.4444444444444444,\"#bd3786\"],[0.5555555555555556,\"#d8576b\"],[0.6666666666666666,\"#ed7953\"],[0.7777777777777778,\"#fb9f3a\"],[0.8888888888888888,\"#fdca26\"],[1.0,\"#f0f921\"]],\"diverging\":[[0,\"#8e0152\"],[0.1,\"#c51b7d\"],[0.2,\"#de77ae\"],[0.3,\"#f1b6da\"],[0.4,\"#fde0ef\"],[0.5,\"#f7f7f7\"],[0.6,\"#e6f5d0\"],[0.7,\"#b8e186\"],[0.8,\"#7fbc41\"],[0.9,\"#4d9221\"],[1,\"#276419\"]]},\"xaxis\":{\"gridcolor\":\"white\",\"linecolor\":\"white\",\"ticks\":\"\",\"title\":{\"standoff\":15},\"zerolinecolor\":\"white\",\"automargin\":true,\"zerolinewidth\":2},\"yaxis\":{\"gridcolor\":\"white\",\"linecolor\":\"white\",\"ticks\":\"\",\"title\":{\"standoff\":15},\"zerolinecolor\":\"white\",\"automargin\":true,\"zerolinewidth\":2},\"scene\":{\"xaxis\":{\"backgroundcolor\":\"#E5ECF6\",\"gridcolor\":\"white\",\"linecolor\":\"white\",\"showbackground\":true,\"ticks\":\"\",\"zerolinecolor\":\"white\",\"gridwidth\":2},\"yaxis\":{\"backgroundcolor\":\"#E5ECF6\",\"gridcolor\":\"white\",\"linecolor\":\"white\",\"showbackground\":true,\"ticks\":\"\",\"zerolinecolor\":\"white\",\"gridwidth\":2},\"zaxis\":{\"backgroundcolor\":\"#E5ECF6\",\"gridcolor\":\"white\",\"linecolor\":\"white\",\"showbackground\":true,\"ticks\":\"\",\"zerolinecolor\":\"white\",\"gridwidth\":2}},\"shapedefaults\":{\"line\":{\"color\":\"#2a3f5f\"}},\"annotationdefaults\":{\"arrowcolor\":\"#2a3f5f\",\"arrowhead\":0,\"arrowwidth\":1},\"geo\":{\"bgcolor\":\"white\",\"landcolor\":\"#E5ECF6\",\"subunitcolor\":\"white\",\"showland\":true,\"showlakes\":true,\"lakecolor\":\"white\"},\"title\":{\"x\":0.05},\"mapbox\":{\"style\":\"light\"}}},\"xaxis\":{\"anchor\":\"y\",\"domain\":[0.0,1.0],\"title\":{\"text\":\"Profit\"}},\"yaxis\":{\"anchor\":\"x\",\"domain\":[0.0,1.0],\"title\":{\"text\":\"Sales\"}},\"legend\":{\"title\":{\"text\":\"Country\"},\"tracegroupgap\":0,\"itemsizing\":\"constant\"},\"margin\":{\"t\":60}},                        {\"responsive\": true}                    ).then(function(){\n",
       "                            \n",
       "var gd = document.getElementById('82fddfb1-ec72-4a3a-8099-b0662a2976ea');\n",
       "var x = new MutationObserver(function (mutations, observer) {{\n",
       "        var display = window.getComputedStyle(gd).display;\n",
       "        if (!display || display === 'none') {{\n",
       "            console.log([gd, 'removed!']);\n",
       "            Plotly.purge(gd);\n",
       "            observer.disconnect();\n",
       "        }}\n",
       "}});\n",
       "\n",
       "// Listen for the removal of the full notebook cells\n",
       "var notebookContainer = gd.closest('#notebook-container');\n",
       "if (notebookContainer) {{\n",
       "    x.observe(notebookContainer, {childList: true});\n",
       "}}\n",
       "\n",
       "// Listen for the clearing of the current output cell\n",
       "var outputEl = gd.closest('.output');\n",
       "if (outputEl) {{\n",
       "    x.observe(outputEl, {childList: true});\n",
       "}}\n",
       "\n",
       "                        })                };                });            </script>        </div>"
      ]
     },
     "metadata": {},
     "output_type": "display_data"
    }
   ],
   "source": [
    "import plotly.express as px\n",
    "df = pd.read_csv('superstore.csv')\n",
    "df_copy = df[['Year', 'Market','Country', 'Sales', 'Profit', 'Discount']].copy()\n",
    "\n",
    "apac_data = df_copy[df_copy['Market'] == 'APAC']\n",
    "\n",
    "country_sales_profit_apac = apac_data.groupby('Country').sum().reset_index()  # 인덱스를 컬럼으로 되돌림\n",
    "\n",
    "# 음수 Profit 값을 0으로 설정\n",
    "country_sales_profit_apac['Profit'] = country_sales_profit_apac['Profit'].clip(lower=0)\n",
    "\n",
    "top_4_countries = country_sales_profit_apac.nlargest(4, 'Sales')\n",
    "\n",
    "# 시각화\n",
    "fig = px.scatter(top_4_countries, x='Profit', y='Sales', color='Country', size='Profit', hover_data=['Sales'])\n",
    "fig.show()\n"
   ]
  },
  {
   "cell_type": "code",
   "execution_count": 46,
   "id": "b0a31249-419b-4060-ab34-30e64af1ee39",
   "metadata": {},
   "outputs": [
    {
     "data": {
      "application/vnd.plotly.v1+json": {
       "config": {
        "plotlyServerURL": "https://plot.ly"
       },
       "data": [
        {
         "hovertemplate": "Country=Australia<br>Profit=%{marker.size}<br>Discount=%{y}<extra></extra>",
         "legendgroup": "Australia",
         "marker": {
          "color": "#636efa",
          "size": [
           103907.433
          ],
          "sizemode": "area",
          "sizeref": 376.70771249999996,
          "symbol": "circle"
         },
         "mode": "markers",
         "name": "Australia",
         "orientation": "v",
         "showlegend": true,
         "type": "scatter",
         "x": [
          103907.433
         ],
         "xaxis": "x",
         "y": [
          407.20000000000005
         ],
         "yaxis": "y"
        },
        {
         "hovertemplate": "Country=China<br>Profit=%{marker.size}<br>Discount=%{y}<extra></extra>",
         "legendgroup": "China",
         "marker": {
          "color": "#EF553B",
          "size": [
           150683.085
          ],
          "sizemode": "area",
          "sizeref": 376.70771249999996,
          "symbol": "circle"
         },
         "mode": "markers",
         "name": "China",
         "orientation": "v",
         "showlegend": true,
         "type": "scatter",
         "x": [
          150683.085
         ],
         "xaxis": "x",
         "y": [
          26.9
         ],
         "yaxis": "y"
        }
       ],
       "layout": {
        "legend": {
         "itemsizing": "constant",
         "title": {
          "text": "Country"
         },
         "tracegroupgap": 0
        },
        "template": {
         "data": {
          "bar": [
           {
            "error_x": {
             "color": "#2a3f5f"
            },
            "error_y": {
             "color": "#2a3f5f"
            },
            "marker": {
             "line": {
              "color": "#E5ECF6",
              "width": 0.5
             },
             "pattern": {
              "fillmode": "overlay",
              "size": 10,
              "solidity": 0.2
             }
            },
            "type": "bar"
           }
          ],
          "barpolar": [
           {
            "marker": {
             "line": {
              "color": "#E5ECF6",
              "width": 0.5
             },
             "pattern": {
              "fillmode": "overlay",
              "size": 10,
              "solidity": 0.2
             }
            },
            "type": "barpolar"
           }
          ],
          "carpet": [
           {
            "aaxis": {
             "endlinecolor": "#2a3f5f",
             "gridcolor": "white",
             "linecolor": "white",
             "minorgridcolor": "white",
             "startlinecolor": "#2a3f5f"
            },
            "baxis": {
             "endlinecolor": "#2a3f5f",
             "gridcolor": "white",
             "linecolor": "white",
             "minorgridcolor": "white",
             "startlinecolor": "#2a3f5f"
            },
            "type": "carpet"
           }
          ],
          "choropleth": [
           {
            "colorbar": {
             "outlinewidth": 0,
             "ticks": ""
            },
            "type": "choropleth"
           }
          ],
          "contour": [
           {
            "colorbar": {
             "outlinewidth": 0,
             "ticks": ""
            },
            "colorscale": [
             [
              0,
              "#0d0887"
             ],
             [
              0.1111111111111111,
              "#46039f"
             ],
             [
              0.2222222222222222,
              "#7201a8"
             ],
             [
              0.3333333333333333,
              "#9c179e"
             ],
             [
              0.4444444444444444,
              "#bd3786"
             ],
             [
              0.5555555555555556,
              "#d8576b"
             ],
             [
              0.6666666666666666,
              "#ed7953"
             ],
             [
              0.7777777777777778,
              "#fb9f3a"
             ],
             [
              0.8888888888888888,
              "#fdca26"
             ],
             [
              1,
              "#f0f921"
             ]
            ],
            "type": "contour"
           }
          ],
          "contourcarpet": [
           {
            "colorbar": {
             "outlinewidth": 0,
             "ticks": ""
            },
            "type": "contourcarpet"
           }
          ],
          "heatmap": [
           {
            "colorbar": {
             "outlinewidth": 0,
             "ticks": ""
            },
            "colorscale": [
             [
              0,
              "#0d0887"
             ],
             [
              0.1111111111111111,
              "#46039f"
             ],
             [
              0.2222222222222222,
              "#7201a8"
             ],
             [
              0.3333333333333333,
              "#9c179e"
             ],
             [
              0.4444444444444444,
              "#bd3786"
             ],
             [
              0.5555555555555556,
              "#d8576b"
             ],
             [
              0.6666666666666666,
              "#ed7953"
             ],
             [
              0.7777777777777778,
              "#fb9f3a"
             ],
             [
              0.8888888888888888,
              "#fdca26"
             ],
             [
              1,
              "#f0f921"
             ]
            ],
            "type": "heatmap"
           }
          ],
          "heatmapgl": [
           {
            "colorbar": {
             "outlinewidth": 0,
             "ticks": ""
            },
            "colorscale": [
             [
              0,
              "#0d0887"
             ],
             [
              0.1111111111111111,
              "#46039f"
             ],
             [
              0.2222222222222222,
              "#7201a8"
             ],
             [
              0.3333333333333333,
              "#9c179e"
             ],
             [
              0.4444444444444444,
              "#bd3786"
             ],
             [
              0.5555555555555556,
              "#d8576b"
             ],
             [
              0.6666666666666666,
              "#ed7953"
             ],
             [
              0.7777777777777778,
              "#fb9f3a"
             ],
             [
              0.8888888888888888,
              "#fdca26"
             ],
             [
              1,
              "#f0f921"
             ]
            ],
            "type": "heatmapgl"
           }
          ],
          "histogram": [
           {
            "marker": {
             "pattern": {
              "fillmode": "overlay",
              "size": 10,
              "solidity": 0.2
             }
            },
            "type": "histogram"
           }
          ],
          "histogram2d": [
           {
            "colorbar": {
             "outlinewidth": 0,
             "ticks": ""
            },
            "colorscale": [
             [
              0,
              "#0d0887"
             ],
             [
              0.1111111111111111,
              "#46039f"
             ],
             [
              0.2222222222222222,
              "#7201a8"
             ],
             [
              0.3333333333333333,
              "#9c179e"
             ],
             [
              0.4444444444444444,
              "#bd3786"
             ],
             [
              0.5555555555555556,
              "#d8576b"
             ],
             [
              0.6666666666666666,
              "#ed7953"
             ],
             [
              0.7777777777777778,
              "#fb9f3a"
             ],
             [
              0.8888888888888888,
              "#fdca26"
             ],
             [
              1,
              "#f0f921"
             ]
            ],
            "type": "histogram2d"
           }
          ],
          "histogram2dcontour": [
           {
            "colorbar": {
             "outlinewidth": 0,
             "ticks": ""
            },
            "colorscale": [
             [
              0,
              "#0d0887"
             ],
             [
              0.1111111111111111,
              "#46039f"
             ],
             [
              0.2222222222222222,
              "#7201a8"
             ],
             [
              0.3333333333333333,
              "#9c179e"
             ],
             [
              0.4444444444444444,
              "#bd3786"
             ],
             [
              0.5555555555555556,
              "#d8576b"
             ],
             [
              0.6666666666666666,
              "#ed7953"
             ],
             [
              0.7777777777777778,
              "#fb9f3a"
             ],
             [
              0.8888888888888888,
              "#fdca26"
             ],
             [
              1,
              "#f0f921"
             ]
            ],
            "type": "histogram2dcontour"
           }
          ],
          "mesh3d": [
           {
            "colorbar": {
             "outlinewidth": 0,
             "ticks": ""
            },
            "type": "mesh3d"
           }
          ],
          "parcoords": [
           {
            "line": {
             "colorbar": {
              "outlinewidth": 0,
              "ticks": ""
             }
            },
            "type": "parcoords"
           }
          ],
          "pie": [
           {
            "automargin": true,
            "type": "pie"
           }
          ],
          "scatter": [
           {
            "fillpattern": {
             "fillmode": "overlay",
             "size": 10,
             "solidity": 0.2
            },
            "type": "scatter"
           }
          ],
          "scatter3d": [
           {
            "line": {
             "colorbar": {
              "outlinewidth": 0,
              "ticks": ""
             }
            },
            "marker": {
             "colorbar": {
              "outlinewidth": 0,
              "ticks": ""
             }
            },
            "type": "scatter3d"
           }
          ],
          "scattercarpet": [
           {
            "marker": {
             "colorbar": {
              "outlinewidth": 0,
              "ticks": ""
             }
            },
            "type": "scattercarpet"
           }
          ],
          "scattergeo": [
           {
            "marker": {
             "colorbar": {
              "outlinewidth": 0,
              "ticks": ""
             }
            },
            "type": "scattergeo"
           }
          ],
          "scattergl": [
           {
            "marker": {
             "colorbar": {
              "outlinewidth": 0,
              "ticks": ""
             }
            },
            "type": "scattergl"
           }
          ],
          "scattermapbox": [
           {
            "marker": {
             "colorbar": {
              "outlinewidth": 0,
              "ticks": ""
             }
            },
            "type": "scattermapbox"
           }
          ],
          "scatterpolar": [
           {
            "marker": {
             "colorbar": {
              "outlinewidth": 0,
              "ticks": ""
             }
            },
            "type": "scatterpolar"
           }
          ],
          "scatterpolargl": [
           {
            "marker": {
             "colorbar": {
              "outlinewidth": 0,
              "ticks": ""
             }
            },
            "type": "scatterpolargl"
           }
          ],
          "scatterternary": [
           {
            "marker": {
             "colorbar": {
              "outlinewidth": 0,
              "ticks": ""
             }
            },
            "type": "scatterternary"
           }
          ],
          "surface": [
           {
            "colorbar": {
             "outlinewidth": 0,
             "ticks": ""
            },
            "colorscale": [
             [
              0,
              "#0d0887"
             ],
             [
              0.1111111111111111,
              "#46039f"
             ],
             [
              0.2222222222222222,
              "#7201a8"
             ],
             [
              0.3333333333333333,
              "#9c179e"
             ],
             [
              0.4444444444444444,
              "#bd3786"
             ],
             [
              0.5555555555555556,
              "#d8576b"
             ],
             [
              0.6666666666666666,
              "#ed7953"
             ],
             [
              0.7777777777777778,
              "#fb9f3a"
             ],
             [
              0.8888888888888888,
              "#fdca26"
             ],
             [
              1,
              "#f0f921"
             ]
            ],
            "type": "surface"
           }
          ],
          "table": [
           {
            "cells": {
             "fill": {
              "color": "#EBF0F8"
             },
             "line": {
              "color": "white"
             }
            },
            "header": {
             "fill": {
              "color": "#C8D4E3"
             },
             "line": {
              "color": "white"
             }
            },
            "type": "table"
           }
          ]
         },
         "layout": {
          "annotationdefaults": {
           "arrowcolor": "#2a3f5f",
           "arrowhead": 0,
           "arrowwidth": 1
          },
          "autotypenumbers": "strict",
          "coloraxis": {
           "colorbar": {
            "outlinewidth": 0,
            "ticks": ""
           }
          },
          "colorscale": {
           "diverging": [
            [
             0,
             "#8e0152"
            ],
            [
             0.1,
             "#c51b7d"
            ],
            [
             0.2,
             "#de77ae"
            ],
            [
             0.3,
             "#f1b6da"
            ],
            [
             0.4,
             "#fde0ef"
            ],
            [
             0.5,
             "#f7f7f7"
            ],
            [
             0.6,
             "#e6f5d0"
            ],
            [
             0.7,
             "#b8e186"
            ],
            [
             0.8,
             "#7fbc41"
            ],
            [
             0.9,
             "#4d9221"
            ],
            [
             1,
             "#276419"
            ]
           ],
           "sequential": [
            [
             0,
             "#0d0887"
            ],
            [
             0.1111111111111111,
             "#46039f"
            ],
            [
             0.2222222222222222,
             "#7201a8"
            ],
            [
             0.3333333333333333,
             "#9c179e"
            ],
            [
             0.4444444444444444,
             "#bd3786"
            ],
            [
             0.5555555555555556,
             "#d8576b"
            ],
            [
             0.6666666666666666,
             "#ed7953"
            ],
            [
             0.7777777777777778,
             "#fb9f3a"
            ],
            [
             0.8888888888888888,
             "#fdca26"
            ],
            [
             1,
             "#f0f921"
            ]
           ],
           "sequentialminus": [
            [
             0,
             "#0d0887"
            ],
            [
             0.1111111111111111,
             "#46039f"
            ],
            [
             0.2222222222222222,
             "#7201a8"
            ],
            [
             0.3333333333333333,
             "#9c179e"
            ],
            [
             0.4444444444444444,
             "#bd3786"
            ],
            [
             0.5555555555555556,
             "#d8576b"
            ],
            [
             0.6666666666666666,
             "#ed7953"
            ],
            [
             0.7777777777777778,
             "#fb9f3a"
            ],
            [
             0.8888888888888888,
             "#fdca26"
            ],
            [
             1,
             "#f0f921"
            ]
           ]
          },
          "colorway": [
           "#636efa",
           "#EF553B",
           "#00cc96",
           "#ab63fa",
           "#FFA15A",
           "#19d3f3",
           "#FF6692",
           "#B6E880",
           "#FF97FF",
           "#FECB52"
          ],
          "font": {
           "color": "#2a3f5f"
          },
          "geo": {
           "bgcolor": "white",
           "lakecolor": "white",
           "landcolor": "#E5ECF6",
           "showlakes": true,
           "showland": true,
           "subunitcolor": "white"
          },
          "hoverlabel": {
           "align": "left"
          },
          "hovermode": "closest",
          "mapbox": {
           "style": "light"
          },
          "paper_bgcolor": "white",
          "plot_bgcolor": "#E5ECF6",
          "polar": {
           "angularaxis": {
            "gridcolor": "white",
            "linecolor": "white",
            "ticks": ""
           },
           "bgcolor": "#E5ECF6",
           "radialaxis": {
            "gridcolor": "white",
            "linecolor": "white",
            "ticks": ""
           }
          },
          "scene": {
           "xaxis": {
            "backgroundcolor": "#E5ECF6",
            "gridcolor": "white",
            "gridwidth": 2,
            "linecolor": "white",
            "showbackground": true,
            "ticks": "",
            "zerolinecolor": "white"
           },
           "yaxis": {
            "backgroundcolor": "#E5ECF6",
            "gridcolor": "white",
            "gridwidth": 2,
            "linecolor": "white",
            "showbackground": true,
            "ticks": "",
            "zerolinecolor": "white"
           },
           "zaxis": {
            "backgroundcolor": "#E5ECF6",
            "gridcolor": "white",
            "gridwidth": 2,
            "linecolor": "white",
            "showbackground": true,
            "ticks": "",
            "zerolinecolor": "white"
           }
          },
          "shapedefaults": {
           "line": {
            "color": "#2a3f5f"
           }
          },
          "ternary": {
           "aaxis": {
            "gridcolor": "white",
            "linecolor": "white",
            "ticks": ""
           },
           "baxis": {
            "gridcolor": "white",
            "linecolor": "white",
            "ticks": ""
           },
           "bgcolor": "#E5ECF6",
           "caxis": {
            "gridcolor": "white",
            "linecolor": "white",
            "ticks": ""
           }
          },
          "title": {
           "x": 0.05
          },
          "xaxis": {
           "automargin": true,
           "gridcolor": "white",
           "linecolor": "white",
           "ticks": "",
           "title": {
            "standoff": 15
           },
           "zerolinecolor": "white",
           "zerolinewidth": 2
          },
          "yaxis": {
           "automargin": true,
           "gridcolor": "white",
           "linecolor": "white",
           "ticks": "",
           "title": {
            "standoff": 15
           },
           "zerolinecolor": "white",
           "zerolinewidth": 2
          }
         }
        },
        "title": {
         "text": "APAC 지역의 국가별 Profit vs Discount"
        },
        "xaxis": {
         "anchor": "y",
         "domain": [
          0,
          1
         ],
         "title": {
          "text": "Profit"
         }
        },
        "yaxis": {
         "anchor": "x",
         "domain": [
          0,
          1
         ],
         "title": {
          "text": "Discount"
         }
        }
       }
      },
      "image/png": "[encoded data removed]",
      "text/html": [
       "<div>                            <div id=\"3e932b48-0346-41af-a919-a2ea9cff0989\" class=\"plotly-graph-div\" style=\"height:525px; width:100%;\"></div>            <script type=\"text/javascript\">                require([\"plotly\"], function(Plotly) {                    window.PLOTLYENV=window.PLOTLYENV || {};                                    if (document.getElementById(\"3e932b48-0346-41af-a919-a2ea9cff0989\")) {                    Plotly.newPlot(                        \"3e932b48-0346-41af-a919-a2ea9cff0989\",                        [{\"hovertemplate\":\"Country=Australia\\u003cbr\\u003eProfit=%{marker.size}\\u003cbr\\u003eDiscount=%{y}\\u003cextra\\u003e\\u003c\\u002fextra\\u003e\",\"legendgroup\":\"Australia\",\"marker\":{\"color\":\"#636efa\",\"size\":[103907.433],\"sizemode\":\"area\",\"sizeref\":376.70771249999996,\"symbol\":\"circle\"},\"mode\":\"markers\",\"name\":\"Australia\",\"orientation\":\"v\",\"showlegend\":true,\"x\":[103907.433],\"xaxis\":\"x\",\"y\":[407.20000000000005],\"yaxis\":\"y\",\"type\":\"scatter\"},{\"hovertemplate\":\"Country=China\\u003cbr\\u003eProfit=%{marker.size}\\u003cbr\\u003eDiscount=%{y}\\u003cextra\\u003e\\u003c\\u002fextra\\u003e\",\"legendgroup\":\"China\",\"marker\":{\"color\":\"#EF553B\",\"size\":[150683.085],\"sizemode\":\"area\",\"sizeref\":376.70771249999996,\"symbol\":\"circle\"},\"mode\":\"markers\",\"name\":\"China\",\"orientation\":\"v\",\"showlegend\":true,\"x\":[150683.085],\"xaxis\":\"x\",\"y\":[26.9],\"yaxis\":\"y\",\"type\":\"scatter\"}],                        {\"template\":{\"data\":{\"histogram2dcontour\":[{\"type\":\"histogram2dcontour\",\"colorbar\":{\"outlinewidth\":0,\"ticks\":\"\"},\"colorscale\":[[0.0,\"#0d0887\"],[0.1111111111111111,\"#46039f\"],[0.2222222222222222,\"#7201a8\"],[0.3333333333333333,\"#9c179e\"],[0.4444444444444444,\"#bd3786\"],[0.5555555555555556,\"#d8576b\"],[0.6666666666666666,\"#ed7953\"],[0.7777777777777778,\"#fb9f3a\"],[0.8888888888888888,\"#fdca26\"],[1.0,\"#f0f921\"]]}],\"choropleth\":[{\"type\":\"choropleth\",\"colorbar\":{\"outlinewidth\":0,\"ticks\":\"\"}}],\"histogram2d\":[{\"type\":\"histogram2d\",\"colorbar\":{\"outlinewidth\":0,\"ticks\":\"\"},\"colorscale\":[[0.0,\"#0d0887\"],[0.1111111111111111,\"#46039f\"],[0.2222222222222222,\"#7201a8\"],[0.3333333333333333,\"#9c179e\"],[0.4444444444444444,\"#bd3786\"],[0.5555555555555556,\"#d8576b\"],[0.6666666666666666,\"#ed7953\"],[0.7777777777777778,\"#fb9f3a\"],[0.8888888888888888,\"#fdca26\"],[1.0,\"#f0f921\"]]}],\"heatmap\":[{\"type\":\"heatmap\",\"colorbar\":{\"outlinewidth\":0,\"ticks\":\"\"},\"colorscale\":[[0.0,\"#0d0887\"],[0.1111111111111111,\"#46039f\"],[0.2222222222222222,\"#7201a8\"],[0.3333333333333333,\"#9c179e\"],[0.4444444444444444,\"#bd3786\"],[0.5555555555555556,\"#d8576b\"],[0.6666666666666666,\"#ed7953\"],[0.7777777777777778,\"#fb9f3a\"],[0.8888888888888888,\"#fdca26\"],[1.0,\"#f0f921\"]]}],\"heatmapgl\":[{\"type\":\"heatmapgl\",\"colorbar\":{\"outlinewidth\":0,\"ticks\":\"\"},\"colorscale\":[[0.0,\"#0d0887\"],[0.1111111111111111,\"#46039f\"],[0.2222222222222222,\"#7201a8\"],[0.3333333333333333,\"#9c179e\"],[0.4444444444444444,\"#bd3786\"],[0.5555555555555556,\"#d8576b\"],[0.6666666666666666,\"#ed7953\"],[0.7777777777777778,\"#fb9f3a\"],[0.8888888888888888,\"#fdca26\"],[1.0,\"#f0f921\"]]}],\"contourcarpet\":[{\"type\":\"contourcarpet\",\"colorbar\":{\"outlinewidth\":0,\"ticks\":\"\"}}],\"contour\":[{\"type\":\"contour\",\"colorbar\":{\"outlinewidth\":0,\"ticks\":\"\"},\"colorscale\":[[0.0,\"#0d0887\"],[0.1111111111111111,\"#46039f\"],[0.2222222222222222,\"#7201a8\"],[0.3333333333333333,\"#9c179e\"],[0.4444444444444444,\"#bd3786\"],[0.5555555555555556,\"#d8576b\"],[0.6666666666666666,\"#ed7953\"],[0.7777777777777778,\"#fb9f3a\"],[0.8888888888888888,\"#fdca26\"],[1.0,\"#f0f921\"]]}],\"surface\":[{\"type\":\"surface\",\"colorbar\":{\"outlinewidth\":0,\"ticks\":\"\"},\"colorscale\":[[0.0,\"#0d0887\"],[0.1111111111111111,\"#46039f\"],[0.2222222222222222,\"#7201a8\"],[0.3333333333333333,\"#9c179e\"],[0.4444444444444444,\"#bd3786\"],[0.5555555555555556,\"#d8576b\"],[0.6666666666666666,\"#ed7953\"],[0.7777777777777778,\"#fb9f3a\"],[0.8888888888888888,\"#fdca26\"],[1.0,\"#f0f921\"]]}],\"mesh3d\":[{\"type\":\"mesh3d\",\"colorbar\":{\"outlinewidth\":0,\"ticks\":\"\"}}],\"scatter\":[{\"fillpattern\":{\"fillmode\":\"overlay\",\"size\":10,\"solidity\":0.2},\"type\":\"scatter\"}],\"parcoords\":[{\"type\":\"parcoords\",\"line\":{\"colorbar\":{\"outlinewidth\":0,\"ticks\":\"\"}}}],\"scatterpolargl\":[{\"type\":\"scatterpolargl\",\"marker\":{\"colorbar\":{\"outlinewidth\":0,\"ticks\":\"\"}}}],\"bar\":[{\"error_x\":{\"color\":\"#2a3f5f\"},\"error_y\":{\"color\":\"#2a3f5f\"},\"marker\":{\"line\":{\"color\":\"#E5ECF6\",\"width\":0.5},\"pattern\":{\"fillmode\":\"overlay\",\"size\":10,\"solidity\":0.2}},\"type\":\"bar\"}],\"scattergeo\":[{\"type\":\"scattergeo\",\"marker\":{\"colorbar\":{\"outlinewidth\":0,\"ticks\":\"\"}}}],\"scatterpolar\":[{\"type\":\"scatterpolar\",\"marker\":{\"colorbar\":{\"outlinewidth\":0,\"ticks\":\"\"}}}],\"histogram\":[{\"marker\":{\"pattern\":{\"fillmode\":\"overlay\",\"size\":10,\"solidity\":0.2}},\"type\":\"histogram\"}],\"scattergl\":[{\"type\":\"scattergl\",\"marker\":{\"colorbar\":{\"outlinewidth\":0,\"ticks\":\"\"}}}],\"scatter3d\":[{\"type\":\"scatter3d\",\"line\":{\"colorbar\":{\"outlinewidth\":0,\"ticks\":\"\"}},\"marker\":{\"colorbar\":{\"outlinewidth\":0,\"ticks\":\"\"}}}],\"scattermapbox\":[{\"type\":\"scattermapbox\",\"marker\":{\"colorbar\":{\"outlinewidth\":0,\"ticks\":\"\"}}}],\"scatterternary\":[{\"type\":\"scatterternary\",\"marker\":{\"colorbar\":{\"outlinewidth\":0,\"ticks\":\"\"}}}],\"scattercarpet\":[{\"type\":\"scattercarpet\",\"marker\":{\"colorbar\":{\"outlinewidth\":0,\"ticks\":\"\"}}}],\"carpet\":[{\"aaxis\":{\"endlinecolor\":\"#2a3f5f\",\"gridcolor\":\"white\",\"linecolor\":\"white\",\"minorgridcolor\":\"white\",\"startlinecolor\":\"#2a3f5f\"},\"baxis\":{\"endlinecolor\":\"#2a3f5f\",\"gridcolor\":\"white\",\"linecolor\":\"white\",\"minorgridcolor\":\"white\",\"startlinecolor\":\"#2a3f5f\"},\"type\":\"carpet\"}],\"table\":[{\"cells\":{\"fill\":{\"color\":\"#EBF0F8\"},\"line\":{\"color\":\"white\"}},\"header\":{\"fill\":{\"color\":\"#C8D4E3\"},\"line\":{\"color\":\"white\"}},\"type\":\"table\"}],\"barpolar\":[{\"marker\":{\"line\":{\"color\":\"#E5ECF6\",\"width\":0.5},\"pattern\":{\"fillmode\":\"overlay\",\"size\":10,\"solidity\":0.2}},\"type\":\"barpolar\"}],\"pie\":[{\"automargin\":true,\"type\":\"pie\"}]},\"layout\":{\"autotypenumbers\":\"strict\",\"colorway\":[\"#636efa\",\"#EF553B\",\"#00cc96\",\"#ab63fa\",\"#FFA15A\",\"#19d3f3\",\"#FF6692\",\"#B6E880\",\"#FF97FF\",\"#FECB52\"],\"font\":{\"color\":\"#2a3f5f\"},\"hovermode\":\"closest\",\"hoverlabel\":{\"align\":\"left\"},\"paper_bgcolor\":\"white\",\"plot_bgcolor\":\"#E5ECF6\",\"polar\":{\"bgcolor\":\"#E5ECF6\",\"angularaxis\":{\"gridcolor\":\"white\",\"linecolor\":\"white\",\"ticks\":\"\"},\"radialaxis\":{\"gridcolor\":\"white\",\"linecolor\":\"white\",\"ticks\":\"\"}},\"ternary\":{\"bgcolor\":\"#E5ECF6\",\"aaxis\":{\"gridcolor\":\"white\",\"linecolor\":\"white\",\"ticks\":\"\"},\"baxis\":{\"gridcolor\":\"white\",\"linecolor\":\"white\",\"ticks\":\"\"},\"caxis\":{\"gridcolor\":\"white\",\"linecolor\":\"white\",\"ticks\":\"\"}},\"coloraxis\":{\"colorbar\":{\"outlinewidth\":0,\"ticks\":\"\"}},\"colorscale\":{\"sequential\":[[0.0,\"#0d0887\"],[0.1111111111111111,\"#46039f\"],[0.2222222222222222,\"#7201a8\"],[0.3333333333333333,\"#9c179e\"],[0.4444444444444444,\"#bd3786\"],[0.5555555555555556,\"#d8576b\"],[0.6666666666666666,\"#ed7953\"],[0.7777777777777778,\"#fb9f3a\"],[0.8888888888888888,\"#fdca26\"],[1.0,\"#f0f921\"]],\"sequentialminus\":[[0.0,\"#0d0887\"],[0.1111111111111111,\"#46039f\"],[0.2222222222222222,\"#7201a8\"],[0.3333333333333333,\"#9c179e\"],[0.4444444444444444,\"#bd3786\"],[0.5555555555555556,\"#d8576b\"],[0.6666666666666666,\"#ed7953\"],[0.7777777777777778,\"#fb9f3a\"],[0.8888888888888888,\"#fdca26\"],[1.0,\"#f0f921\"]],\"diverging\":[[0,\"#8e0152\"],[0.1,\"#c51b7d\"],[0.2,\"#de77ae\"],[0.3,\"#f1b6da\"],[0.4,\"#fde0ef\"],[0.5,\"#f7f7f7\"],[0.6,\"#e6f5d0\"],[0.7,\"#b8e186\"],[0.8,\"#7fbc41\"],[0.9,\"#4d9221\"],[1,\"#276419\"]]},\"xaxis\":{\"gridcolor\":\"white\",\"linecolor\":\"white\",\"ticks\":\"\",\"title\":{\"standoff\":15},\"zerolinecolor\":\"white\",\"automargin\":true,\"zerolinewidth\":2},\"yaxis\":{\"gridcolor\":\"white\",\"linecolor\":\"white\",\"ticks\":\"\",\"title\":{\"standoff\":15},\"zerolinecolor\":\"white\",\"automargin\":true,\"zerolinewidth\":2},\"scene\":{\"xaxis\":{\"backgroundcolor\":\"#E5ECF6\",\"gridcolor\":\"white\",\"linecolor\":\"white\",\"showbackground\":true,\"ticks\":\"\",\"zerolinecolor\":\"white\",\"gridwidth\":2},\"yaxis\":{\"backgroundcolor\":\"#E5ECF6\",\"gridcolor\":\"white\",\"linecolor\":\"white\",\"showbackground\":true,\"ticks\":\"\",\"zerolinecolor\":\"white\",\"gridwidth\":2},\"zaxis\":{\"backgroundcolor\":\"#E5ECF6\",\"gridcolor\":\"white\",\"linecolor\":\"white\",\"showbackground\":true,\"ticks\":\"\",\"zerolinecolor\":\"white\",\"gridwidth\":2}},\"shapedefaults\":{\"line\":{\"color\":\"#2a3f5f\"}},\"annotationdefaults\":{\"arrowcolor\":\"#2a3f5f\",\"arrowhead\":0,\"arrowwidth\":1},\"geo\":{\"bgcolor\":\"white\",\"landcolor\":\"#E5ECF6\",\"subunitcolor\":\"white\",\"showland\":true,\"showlakes\":true,\"lakecolor\":\"white\"},\"title\":{\"x\":0.05},\"mapbox\":{\"style\":\"light\"}}},\"xaxis\":{\"anchor\":\"y\",\"domain\":[0.0,1.0],\"title\":{\"text\":\"Profit\"}},\"yaxis\":{\"anchor\":\"x\",\"domain\":[0.0,1.0],\"title\":{\"text\":\"Discount\"}},\"legend\":{\"title\":{\"text\":\"Country\"},\"tracegroupgap\":0,\"itemsizing\":\"constant\"},\"title\":{\"text\":\"APAC \\uc9c0\\uc5ed\\uc758 \\uad6d\\uac00\\ubcc4 Profit vs Discount\"}},                        {\"responsive\": true}                    ).then(function(){\n",
       "                            \n",
       "var gd = document.getElementById('3e932b48-0346-41af-a919-a2ea9cff0989');\n",
       "var x = new MutationObserver(function (mutations, observer) {{\n",
       "        var display = window.getComputedStyle(gd).display;\n",
       "        if (!display || display === 'none') {{\n",
       "            console.log([gd, 'removed!']);\n",
       "            Plotly.purge(gd);\n",
       "            observer.disconnect();\n",
       "        }}\n",
       "}});\n",
       "\n",
       "// Listen for the removal of the full notebook cells\n",
       "var notebookContainer = gd.closest('#notebook-container');\n",
       "if (notebookContainer) {{\n",
       "    x.observe(notebookContainer, {childList: true});\n",
       "}}\n",
       "\n",
       "// Listen for the clearing of the current output cell\n",
       "var outputEl = gd.closest('.output');\n",
       "if (outputEl) {{\n",
       "    x.observe(outputEl, {childList: true});\n",
       "}}\n",
       "\n",
       "                        })                };                });            </script>        </div>"
      ]
     },
     "metadata": {},
     "output_type": "display_data"
    }
   ],
   "source": [
    "import pandas as pd\n",
    "import plotly.express as px\n",
    "\n",
    "# 데이터 불러오기\n",
    "df = pd.read_csv('superstore.csv')\n",
    "df_copy = df[['Year', 'Market', 'Country', 'Sales', 'Profit', 'Discount']].copy()\n",
    "\n",
    "# APAC 데이터 필터링\n",
    "apac_data = df_copy[df_copy['Market'] == 'APAC']\n",
    "\n",
    "# 오스트레일리아와 중국만 선택\n",
    "aus_china = apac_data[apac_data['Country'].isin(['Australia', 'China'])]\n",
    "\n",
    "# 그룹화하여 국가별 Sales, Profit 합계 계산\n",
    "country_sales_profit_apac = aus_china.groupby('Country', as_index=False)[['Sales', 'Profit', 'Discount']].sum()\n",
    "\n",
    "# 음수 Profit 값을 0으로 설정\n",
    "country_sales_profit_apac['Profit'] = country_sales_profit_apac['Profit'].clip(lower=0)\n",
    "\n",
    "# 시각화: Profit vs Discount (국가별 크기 비교)\n",
    "fig = px.scatter(country_sales_profit_apac, x='Profit', y='Discount', color='Country', \n",
    "                 size='Profit', hover_data=['Discount'],\n",
    "                 title=\"APAC 지역의 국가별 Profit vs Discount\")\n",
    "fig.show()\n",
    "\n"
   ]
  },
  {
   "cell_type": "code",
   "execution_count": 398,
   "id": "2d3a0dce-0b79-4e40-b564-2a2cc2b2cefb",
   "metadata": {},
   "outputs": [
    {
     "data": {
      "text/html": [
       "<div>\n",
       "<style scoped>\n",
       "    .dataframe tbody tr th:only-of-type {\n",
       "        vertical-align: middle;\n",
       "    }\n",
       "\n",
       "    .dataframe tbody tr th {\n",
       "        vertical-align: top;\n",
       "    }\n",
       "\n",
       "    .dataframe thead th {\n",
       "        text-align: right;\n",
       "    }\n",
       "</style>\n",
       "<table border=\"1\" class=\"dataframe\">\n",
       "  <thead>\n",
       "    <tr style=\"text-align: right;\">\n",
       "      <th></th>\n",
       "      <th>Country</th>\n",
       "      <th>Category</th>\n",
       "      <th>Discount</th>\n",
       "      <th>Profit</th>\n",
       "      <th>Sales</th>\n",
       "    </tr>\n",
       "  </thead>\n",
       "  <tbody>\n",
       "    <tr>\n",
       "      <th>0</th>\n",
       "      <td>Australia</td>\n",
       "      <td>Furniture</td>\n",
       "      <td>0.26</td>\n",
       "      <td>-901.34</td>\n",
       "      <td>12350.28</td>\n",
       "    </tr>\n",
       "    <tr>\n",
       "      <th>1</th>\n",
       "      <td>Australia</td>\n",
       "      <td>Office Supplies</td>\n",
       "      <td>0.17</td>\n",
       "      <td>168.77</td>\n",
       "      <td>1612.54</td>\n",
       "    </tr>\n",
       "    <tr>\n",
       "      <th>2</th>\n",
       "      <td>Australia</td>\n",
       "      <td>Technology</td>\n",
       "      <td>0.17</td>\n",
       "      <td>558.45</td>\n",
       "      <td>5569.46</td>\n",
       "    </tr>\n",
       "    <tr>\n",
       "      <th>3</th>\n",
       "      <td>China</td>\n",
       "      <td>Furniture</td>\n",
       "      <td>0.27</td>\n",
       "      <td>-1257.82</td>\n",
       "      <td>9329.59</td>\n",
       "    </tr>\n",
       "    <tr>\n",
       "      <th>4</th>\n",
       "      <td>China</td>\n",
       "      <td>Office Supplies</td>\n",
       "      <td>0.25</td>\n",
       "      <td>50.80</td>\n",
       "      <td>830.02</td>\n",
       "    </tr>\n",
       "    <tr>\n",
       "      <th>5</th>\n",
       "      <td>China</td>\n",
       "      <td>Technology</td>\n",
       "      <td>0.17</td>\n",
       "      <td>412.89</td>\n",
       "      <td>3484.94</td>\n",
       "    </tr>\n",
       "  </tbody>\n",
       "</table>\n",
       "</div>"
      ],
      "text/plain": [
       "     Country         Category  Discount   Profit     Sales\n",
       "0  Australia        Furniture      0.26  -901.34  12350.28\n",
       "1  Australia  Office Supplies      0.17   168.77   1612.54\n",
       "2  Australia       Technology      0.17   558.45   5569.46\n",
       "3      China        Furniture      0.27 -1257.82   9329.59\n",
       "4      China  Office Supplies      0.25    50.80    830.02\n",
       "5      China       Technology      0.17   412.89   3484.94"
      ]
     },
     "execution_count": 398,
     "metadata": {},
     "output_type": "execute_result"
    }
   ],
   "source": [
    "summary = (aus_china_sp.groupby(['Country', 'Category']).agg({\n",
    "        'Discount': 'mean',\n",
    "        'Profit': 'sum',\n",
    "        'Sales': 'sum'\n",
    "    }).reset_index()).round(2)\n",
    "summary"
   ]
  }
 ],
 "metadata": {
  "kernelspec": {
   "display_name": "Python [conda env:base] *",
   "language": "python",
   "name": "conda-base-py"
  },
  "language_info": {
   "codemirror_mode": {
    "name": "ipython",
    "version": 3
   },
   "file_extension": ".py",
   "mimetype": "text/x-python",
   "name": "python",
   "nbconvert_exporter": "python",
   "pygments_lexer": "ipython3",
   "version": "3.11.11"
  }
 },
 "nbformat": 4,
 "nbformat_minor": 5
}
